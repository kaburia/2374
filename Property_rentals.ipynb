{
 "cells": [
  {
   "cell_type": "code",
   "execution_count": null,
   "metadata": {},
   "outputs": [],
   "source": [
    "import pandas as pd\n",
    "import matplotlib.pyplot as plt\n",
    "import seaborn as sns\n",
    "from statsmodels.formula.api import ols\n",
    "import numpy as np\n",
    "from sklearn.metrics import mean_squared_error as MSE\n",
    "from sklearn.model_selection import train_test_split\n",
    "from sklearn.linear_model import LinearRegression\n",
    "from scipy.stats import boxcox\n",
    "# import catboost\n",
    "from keras.models import Sequential\n",
    "from keras.layers import Dense\n",
    "import tensorflow as tf"
   ]
  },
  {
   "cell_type": "code",
   "execution_count": null,
   "metadata": {},
   "outputs": [],
   "source": [
    "# reading the file\n",
    "\n",
    "properties = pd.read_csv('rentals.csv')\n",
    "properties.head()"
   ]
  },
  {
   "cell_type": "code",
   "execution_count": null,
   "metadata": {},
   "outputs": [],
   "source": [
    "# lr = LinearRegression()\n",
    "# lr.fit(x_train, y_train)\n",
    "# print('R2 Squared score: ',lr.score(x_test,y_test))\n",
    "# y_pred = lr.predict(x_test)\n",
    "# print('Mean Squared Error: ', MSE(y_test,y_pred))\n",
    "# print(lr.intercept_)\n",
    "\n",
    "def linear_model(a,b,c,d):\n",
    "    lr = LinearRegression()\n",
    "    lr.fit(a,b)\n",
    "    y_pred = lr.predict(c)\n",
    "    Mean_error = MSE(d, y_pred)\n",
    "    score = lr.score(c,d)\n",
    "    RMSE = Mean_error * (1/2)\n",
    "    coef = lr.coef_\n",
    "    intercept = lr.intercept_\n",
    "    g = f'MSE: {Mean_error}'\n",
    "    h = f'R2 score: {score}'\n",
    "    e = f'Coefficients: {coef}'\n",
    "    f = f'Intercept: {intercept}'\n",
    "    return e, f, g, h\n",
    "\n",
    "linear_model(x_train,y_train,x_test,y_test)\n",
    "    "
   ]
  },
  {
   "cell_type": "code",
   "execution_count": null,
   "metadata": {},
   "outputs": [],
   "source": [
    "for i in properties.columns:\n",
    "    if properties[f'{i}'].dtype != 'category':\n",
    "            sns.boxplot(x=i, data=properties)\n",
    "            plt.show()"
   ]
  },
  {
   "cell_type": "code",
   "execution_count": null,
   "metadata": {},
   "outputs": [],
   "source": [
    "night = properties[properties['minimum_nights'] >150].index"
   ]
  },
  {
   "cell_type": "code",
   "execution_count": null,
   "metadata": {},
   "outputs": [],
   "source": [
    "pric = properties[properties['price'] >500].index"
   ]
  },
  {
   "cell_type": "code",
   "execution_count": null,
   "metadata": {},
   "outputs": [],
   "source": [
    "bed = properties[properties['bedrooms'] >3].index"
   ]
  },
  {
   "cell_type": "code",
   "execution_count": null,
   "metadata": {},
   "outputs": [],
   "source": [
    "bath = properties[properties['bathrooms'] >3].index"
   ]
  },
  {
   "cell_type": "code",
   "execution_count": null,
   "metadata": {},
   "outputs": [],
   "source": [
    "# prop = properties[properties['bathrooms'] > properties['bedrooms']].index"
   ]
  },
  {
   "cell_type": "code",
   "execution_count": null,
   "metadata": {},
   "outputs": [],
   "source": [
    "prin = set(night).union(set(pric), set(bed), set(bath))\n",
    "print(len(prin))"
   ]
  },
  {
   "cell_type": "code",
   "execution_count": null,
   "metadata": {},
   "outputs": [],
   "source": [
    "for ing in properties.columns:\n",
    "    if properties[f'{ing}'].dtype != 'category':\n",
    "            sns.boxplot(x=ing, data=properties_filter)\n",
    "            plt.show()"
   ]
  },
  {
   "cell_type": "code",
   "execution_count": null,
   "metadata": {},
   "outputs": [],
   "source": [
    "properties_filter.corr()"
   ]
  },
  {
   "cell_type": "code",
   "execution_count": null,
   "metadata": {},
   "outputs": [],
   "source": [
    "properties.corr()"
   ]
  },
  {
   "cell_type": "code",
   "execution_count": null,
   "metadata": {},
   "outputs": [],
   "source": [
    "properties_filter.skew()"
   ]
  },
  {
   "cell_type": "code",
   "execution_count": null,
   "metadata": {},
   "outputs": [],
   "source": [
    "for dis in properties.columns:\n",
    "    if properties[f'{dis}'].dtype != 'category':\n",
    "        # if dis != 'minimum_nights':\n",
    "            sns.displot(properties_filter[f'{dis}'])\n",
    "            plt.show()"
   ]
  },
  {
   "cell_type": "code",
   "execution_count": null,
   "metadata": {},
   "outputs": [],
   "source": [
    "properties_filter[(properties_filter.bedrooms == 0) & (properties_filter.bathrooms==0)].head(60)"
   ]
  },
  {
   "cell_type": "code",
   "execution_count": null,
   "metadata": {},
   "outputs": [],
   "source": [
    "len(properties_filter[properties_filter.bathrooms == 0])"
   ]
  },
  {
   "cell_type": "code",
   "execution_count": null,
   "metadata": {},
   "outputs": [],
   "source": [
    "# 7022\n",
    "properties_filter = properties_filter.drop(7022, axis=0)"
   ]
  },
  {
   "cell_type": "code",
   "execution_count": null,
   "metadata": {},
   "outputs": [],
   "source": [
    "log_target = np.log1p(properties_filter[\"price\"])\n",
    "log_target.skew()"
   ]
  },
  {
   "cell_type": "code",
   "execution_count": null,
   "metadata": {},
   "outputs": [],
   "source": [
    "# Removing nil prices value\n",
    "properties_filter = properties_filter.drop(properties_filter[properties_filter.price <=0].index, axis=0)\n"
   ]
  },
  {
   "cell_type": "code",
   "execution_count": null,
   "metadata": {},
   "outputs": [],
   "source": [
    "for trans in properties.columns:\n",
    "    if properties[f'{trans}'].dtype != 'category':\n",
    "        if trans == 'price' or trans == 'minimum_nights' or trans == 'latitude':\n",
    "            properties_filter[f'{trans}'] = np.log1p(properties_filter[f'{trans}'])\n",
    "            print(properties_filter[f'{trans}'].skew())\n",
    "            sns.displot(properties_filter[f'{trans}'])\n",
    "            plt.show()"
   ]
  },
  {
   "cell_type": "code",
   "execution_count": null,
   "metadata": {},
   "outputs": [],
   "source": [
    "for trans2 in properties.columns:\n",
    "    if properties[f'{trans2}'].dtype != 'category':\n",
    "        if trans2 == 'bedrooms' or trans2 == 'bathrooms':\n",
    "            properties_filter[f'{trans2}'] = properties_filter[f'{trans2}']**(1/2)\n",
    "            print(properties_filter[f'{trans2}'].skew())\n",
    "            sns.displot(properties_filter[f'{trans2}'])\n",
    "            plt.show()"
   ]
  },
  {
   "cell_type": "code",
   "execution_count": null,
   "metadata": {},
   "outputs": [],
   "source": [
    "properties_filter['longitude'] = 1/properties_filter['longitude']\n",
    "sns.displot(properties_filter['longitude'])"
   ]
  },
  {
   "cell_type": "code",
   "execution_count": null,
   "metadata": {},
   "outputs": [],
   "source": [
    "properties_filter.skew()"
   ]
  },
  {
   "cell_type": "code",
   "execution_count": null,
   "metadata": {},
   "outputs": [],
   "source": [
    "properties_filter.corr()"
   ]
  },
  {
   "cell_type": "code",
   "execution_count": null,
   "metadata": {},
   "outputs": [],
   "source": [
    "count_prop = properties_filter['property_type'].value_counts()"
   ]
  },
  {
   "cell_type": "code",
   "execution_count": null,
   "metadata": {},
   "outputs": [],
   "source": [
    "count_prop[count_prop < 25]"
   ]
  },
  {
   "cell_type": "code",
   "execution_count": null,
   "metadata": {},
   "outputs": [],
   "source": [
    "properties_filter[properties_filter['property_type'] == 'Villa']"
   ]
  },
  {
   "cell_type": "code",
   "execution_count": null,
   "metadata": {},
   "outputs": [],
   "source": [
    "prope = properties_filter['property_type']\n",
    "\n",
    "\n",
    "mask = prope.isin(count_prop[count_prop < 25].index)\n",
    "\n",
    "\n",
    "prope[mask] = 'Other'\n",
    "# properties_filter['property_type'] = prope.mask\n"
   ]
  },
  {
   "cell_type": "code",
   "execution_count": null,
   "metadata": {},
   "outputs": [],
   "source": [
    "prope2 = prope.value_counts() "
   ]
  },
  {
   "cell_type": "code",
   "execution_count": null,
   "metadata": {},
   "outputs": [],
   "source": [
    "prope2[prope2 < 25].index"
   ]
  },
  {
   "cell_type": "code",
   "execution_count": null,
   "metadata": {},
   "outputs": [],
   "source": [
    "prope3 =prope.copy()\n",
    "prope3"
   ]
  },
  {
   "cell_type": "code",
   "execution_count": null,
   "metadata": {},
   "outputs": [],
   "source": [
    "# prope4 = pd.CategoricalIndex.remove_unused_categories(properties_filter)\n",
    "# prope4"
   ]
  },
  {
   "cell_type": "code",
   "execution_count": null,
   "metadata": {},
   "outputs": [],
   "source": [
    "pd.DataFrame(prope).columns"
   ]
  },
  {
   "cell_type": "code",
   "execution_count": null,
   "metadata": {},
   "outputs": [],
   "source": [
    "prope.value_counts()"
   ]
  },
  {
   "cell_type": "code",
   "execution_count": null,
   "metadata": {},
   "outputs": [],
   "source": [
    "properties_filter['property_type'].unique()"
   ]
  },
  {
   "cell_type": "code",
   "execution_count": null,
   "metadata": {},
   "outputs": [],
   "source": [
    "properties_filter[mask]"
   ]
  },
  {
   "cell_type": "code",
   "execution_count": null,
   "metadata": {},
   "outputs": [],
   "source": [
    "# Encoding categorical values\n",
    "properties_filter = pd.get_dummies(properties_filter, columns = ['property_type', 'room_type'], drop_first=True)"
   ]
  },
  {
   "cell_type": "code",
   "execution_count": null,
   "metadata": {},
   "outputs": [],
   "source": [
    "len(properties_filter.columns)"
   ]
  },
  {
   "cell_type": "code",
   "execution_count": null,
   "metadata": {},
   "outputs": [],
   "source": [
    "# choosing features and target variables\n",
    "\n",
    "filter_x = properties_filter.drop('price', axis=1).values\n",
    "filter_y = properties_filter['price'].values\n",
    "\n",
    "filter_x_train, filter_x_test, filter_y_train, filter_y_test = train_test_split(filter_x, filter_y, test_size=0.2, random_state=42)\n",
    "filter_x_train\n"
   ]
  },
  {
   "cell_type": "code",
   "execution_count": null,
   "metadata": {},
   "outputs": [],
   "source": [
    "from sklearn.preprocessing import RobustScaler\n",
    "from sklearn.preprocessing import StandardScaler\n",
    "\n",
    "\n",
    "transformer = pd.DataFrame(StandardScaler().fit_transform(properties_filter), columns=properties_filter.columns)\n",
    "\n",
    "# choosing features and target variables\n",
    "\n",
    "transformer_filter_x = transformer.drop('price', axis=1).values\n",
    "transformer_filter_y = transformer['price'].values\n",
    "\n",
    "transformer_filter_x_train, transformer_filter_x_test, transformer_filter_y_train, transformer_filter_y_test = train_test_split(transformer_filter_x, transformer_filter_y, test_size=0.2, random_state=42)\n",
    "\n",
    "\n",
    "# transformer_y_train = RobustScaler().fit_transform(filter_y)\n",
    "# transformer_x_test = RobustScaler().fit_transform(filter_x_test)\n",
    "# transformer_y_test = RobustScaler().fit_transform(filter_y_test)\n",
    "transformer_filter_x_train"
   ]
  },
  {
   "cell_type": "code",
   "execution_count": null,
   "metadata": {},
   "outputs": [],
   "source": [
    "linear_model(transformer_filter_x_train, transformer_filter_y_train, transformer_filter_x_test, transformer_filter_y_test)"
   ]
  },
  {
   "cell_type": "code",
   "execution_count": null,
   "metadata": {},
   "outputs": [],
   "source": [
    "linear_model(filter_x_train, filter_y_train, filter_x_test, filter_y_test)"
   ]
  },
  {
   "cell_type": "code",
   "execution_count": null,
   "metadata": {},
   "outputs": [],
   "source": [
    "from sklearn.linear_model import Ridge\n",
    "from sklearn.kernel_ridge import KernelRidge\n",
    "\n",
    "alp = np.arange(0,0.01,0.000001)\n",
    "ride = []\n",
    "\n",
    "for alph in alp:\n",
    "    model = Ridge(alpha=alph)\n",
    "    model.fit(filter_x_train, filter_y_train)\n",
    "    model_pred = model.predict(filter_x_test)\n",
    "    ride.append(MSE(filter_y_test,model_pred))\n"
   ]
  },
  {
   "cell_type": "code",
   "execution_count": null,
   "metadata": {},
   "outputs": [],
   "source": [
    "ridges = dict(zip(ride,alp))\n",
    "ridges[min(ridges.keys())]"
   ]
  },
  {
   "cell_type": "code",
   "execution_count": null,
   "metadata": {},
   "outputs": [],
   "source": [
    "# Before transform\n",
    "modelr = Ridge(alpha=1e-06)\n",
    "modelr.fit(filter_x_train, filter_y_train)\n",
    "model_pred = modelr.predict(filter_x_test)\n",
    "mse = MSE(filter_y_test,model_pred)\n",
    "score = modelr.score(filter_x_test, filter_y_test)\n",
    "score2 = modelr.score(filter_x_train, filter_y_train)\n",
    "print(f'MSE: {mse} \\nR2_score test: {score}\\nR2_score train: {score2}')\n"
   ]
  },
  {
   "cell_type": "code",
   "execution_count": null,
   "metadata": {},
   "outputs": [],
   "source": [
    "# After Transform\n",
    "modelr2 = Ridge(alpha=1e-06)\n",
    "modelr2.fit(transformer_filter_x_train, transformer_filter_y_train)\n",
    "model_pred2 = modelr2.predict(transformer_filter_x_test)\n",
    "mse = MSE(transformer_filter_y_test, model_pred2)\n",
    "score = modelr2.score(transformer_filter_x_test, transformer_filter_y_test)\n",
    "score2 = modelr2.score(transformer_filter_x_train, transformer_filter_y_train)\n",
    "print(f'MSE: {mse} \\nR2_score test: {score}\\nR2_score train: {score2}')\n"
   ]
  },
  {
   "cell_type": "code",
   "execution_count": null,
   "metadata": {},
   "outputs": [],
   "source": [
    "from sklearn.ensemble import RandomForestRegressor\n",
    "\n",
    "fori = []\n",
    "\n",
    "xw = np.arange(1,50,1)\n",
    "\n",
    "for forest in xw:\n",
    "    rfr = RandomForestRegressor(n_estimators=481, max_depth=forest)\n",
    "    rfr.fit(filter_x_train, filter_y_train)\n",
    "    filter_pred = rfr.predict(filter_x_test)\n",
    "    fori.append(MSE(filter_y_test, filter_pred))\n"
   ]
  },
  {
   "cell_type": "code",
   "execution_count": null,
   "metadata": {},
   "outputs": [],
   "source": [
    "plt.figure(figsize=(17,12))\n",
    "plt.plot(xw, fori)\n",
    "plt.show()"
   ]
  },
  {
   "cell_type": "code",
   "execution_count": null,
   "metadata": {},
   "outputs": [],
   "source": [
    "rfrd = dict(zip(fori,xw))\n",
    "rfrd[min(rfrd.keys())]\n"
   ]
  },
  {
   "cell_type": "code",
   "execution_count": null,
   "metadata": {},
   "outputs": [],
   "source": [
    "rfr = RandomForestRegressor(n_estimators=481, max_depth=25)\n",
    "rfr.fit(filter_x_train, filter_y_train)\n",
    "filter_pred = rfr.predict(filter_x_test)\n",
    "rf_mse = MSE(filter_y_test, filter_pred)\n",
    "rf = rfr.score(filter_x_test, filter_y_test)\n",
    "rf2 = rfr.score(filter_x_train, filter_y_train)\n",
    "print(f'MSE: {rf_mse} \\nR2_score test: {rf}\\nR2_score train: {rf2}')\n"
   ]
  },
  {
   "cell_type": "code",
   "execution_count": null,
   "metadata": {},
   "outputs": [],
   "source": [
    "rfr = RandomForestRegressor(n_estimators=481, max_depth=25)\n",
    "rfr.fit(transformer_filter_x_train, transformer_filter_y_train)\n",
    "filter_pred = rfr.predict(transformer_filter_x_test)\n",
    "rf_mse = MSE(transformer_filter_y_test, filter_pred)\n",
    "rf = rfr.score(transformer_filter_x_test, transformer_filter_y_test)\n",
    "rf2 = rfr.score(transformer_filter_x_train, transformer_filter_y_train)\n",
    "print(f'MSE: {rf_mse} \\nR2_score test: {rf}\\nR2_score train: {rf2}')\n"
   ]
  },
  {
   "cell_type": "code",
   "execution_count": null,
   "metadata": {},
   "outputs": [],
   "source": [
    "from sklearn.ensemble import GradientBoostingRegressor\n",
    "\n",
    "fori2 = []\n",
    "\n",
    "xw = np.arange(1,50,1)\n",
    "\n",
    "for grad in xw:\n",
    "    gbr = GradientBoostingRegressor(n_estimators=300, max_depth=grad)\n",
    "    gbr.fit(filter_x_train, filter_y_train)\n",
    "    filter_pred = rfr.predict(filter_x_test)\n",
    "    fori2.append(MSE(filter_y_test, filter_pred))\n",
    "\n"
   ]
  },
  {
   "cell_type": "code",
   "execution_count": null,
   "metadata": {},
   "outputs": [],
   "source": [
    "plt.figure(figsize=(15,9))\n",
    "plt.plot(xw,fori2)\n",
    "plt.show()"
   ]
  },
  {
   "cell_type": "code",
   "execution_count": null,
   "metadata": {},
   "outputs": [],
   "source": [
    "gbr = GradientBoostingRegressor(n_estimators=300)\n",
    "gbr.fit(filter_x_train, filter_y_train)\n",
    "filter_pred = rfr.predict(filter_x_test)\n",
    "MSE(filter_y_test, filter_pred)"
   ]
  },
  {
   "cell_type": "code",
   "execution_count": null,
   "metadata": {},
   "outputs": [],
   "source": [
    "gbr.score(filter_x_test, filter_y_test)"
   ]
  },
  {
   "cell_type": "code",
   "execution_count": null,
   "metadata": {},
   "outputs": [],
   "source": [
    "gbr.score(filter_x_train, filter_y_train)"
   ]
  },
  {
   "cell_type": "code",
   "execution_count": null,
   "metadata": {},
   "outputs": [],
   "source": [
    "from sklearn.neighbors import KNeighborsRegressor\n",
    "\n",
    "\n",
    "knr = KNeighborsRegressor(n_neighbors=5)\n",
    "knr.fit(transformer_filter_x_train, transformer_filter_y_train)\n",
    "print(\"KNN Score: \", knr.score(transformer_filter_x_train, transformer_filter_y_train))\n",
    "print(\"KNN Test Score: \", knr.score(transformer_filter_x_test, transformer_filter_y_test))"
   ]
  },
  {
   "cell_type": "code",
   "execution_count": null,
   "metadata": {},
   "outputs": [],
   "source": [
    "nib = np.arange(1,100,1)\n",
    "neigh = []\n",
    "\n",
    "for neighb in nib:\n",
    "    knr = KNeighborsRegressor(n_neighbors=neighb)\n",
    "    knr.fit(transformer_filter_x_train, transformer_filter_y_train)\n",
    "    knr_pred = knr.predict(transformer_filter_x_test)\n",
    "    neigh.append(MSE(transformer_filter_y_test, knr_pred))"
   ]
  },
  {
   "cell_type": "code",
   "execution_count": null,
   "metadata": {},
   "outputs": [],
   "source": [
    "plt.figure(figsize=(15,12))\n",
    "plt.plot(nib,neigh)\n",
    "plt.show()"
   ]
  },
  {
   "cell_type": "code",
   "execution_count": null,
   "metadata": {},
   "outputs": [],
   "source": [
    "krn = dict(zip(neigh,nib))\n",
    "krn[min(krn.keys())]\n"
   ]
  },
  {
   "cell_type": "code",
   "execution_count": null,
   "metadata": {},
   "outputs": [],
   "source": [
    "# # Instantiate a Sequential model\n",
    "model = tf.keras.models.Sequential([\n",
    "    tf.keras.layers.Dense(20, input_shape=[33], activation='relu'),\n",
    "    tf.keras.layers.Dense(20, activation='relu'),\n",
    "    tf.keras.layers.Dense(1)\n",
    "\n",
    "])\n",
    "\n",
    "# # Add a Dense layer with 50 neurons and an input of 1 neuron\n",
    "# model.add(Dense(50, input_shape=(35,), activation='relu'))\n",
    "\n",
    "# # Add two Dense layers with 50 neurons and relu activation\n",
    "# model.add(Dense(50,activation='relu'))\n",
    "# model.add(Dense(50,activation='relu'))\n",
    "\n",
    "\n",
    "# # End your model with a Dense layer and no activation\n",
    "# model.add(Dense(1))"
   ]
  },
  {
   "cell_type": "code",
   "execution_count": null,
   "metadata": {},
   "outputs": [],
   "source": [
    "filter_x_validate, filter_x_test, filter_y_validate, filter_y_test = train_test_split(filter_x_test, filter_y_test, test_size=0.5, random_state=42)"
   ]
  },
  {
   "cell_type": "code",
   "execution_count": null,
   "metadata": {},
   "outputs": [],
   "source": [
    "# # Compile your model\n",
    "model.compile(optimizer = 'adam', loss = 'mse')\n",
    "\n",
    "print(\"Training started..., this can take a while:\")\n",
    "\n",
    "# # Fit your model on your data epochs\n",
    "model.fit(filter_x_train, filter_y_train, epochs = 5,\n",
    "          validation_data=(filter_x_validate, filter_y_validate))\n",
    "\n",
    "# # Evaluate your model \n",
    "print(\"Final loss value:\",model.evaluate(filter_x_test, filter_y_test))"
   ]
  },
  {
   "cell_type": "code",
   "execution_count": null,
   "metadata": {},
   "outputs": [],
   "source": [
    "from xgboost import XGBRegressor\n",
    "# xg = XGBRegressor(objective='reg:linear')\n",
    "# xg.fit(filter_x_train, filter_y_train)\n",
    "# preds = xg.predict(filter_x_test)\n",
    "\n",
    "estimate = np.arange(0,20,1)\n",
    "scores2 = []\n",
    "\n",
    "for est in estimate:\n",
    "    xg = XGBRegressor(learning_rate= 0.08700000000000034, n_estimators= 138, subsample= 0.8226999999999864)\n",
    "    xg.fit(filter_x_train, filter_y_train)\n",
    "    preds = xg.predict(filter_x_test)\n",
    "    scores2.append(MSE(filter_y_test, preds))\n"
   ]
  },
  {
   "cell_type": "code",
   "execution_count": null,
   "metadata": {},
   "outputs": [],
   "source": [
    "# Ridge\n",
    "plt.figure(figsize=(15,8))\n",
    "plt.plot(estimate,scores2)\n",
    "plt.show()"
   ]
  },
  {
   "cell_type": "code",
   "execution_count": null,
   "metadata": {},
   "outputs": [],
   "source": [
    "# estimators\n",
    "plt.figure(figsize=(15,8))\n",
    "plt.plot(estimate,scores2)\n",
    "plt.show()"
   ]
  },
  {
   "cell_type": "code",
   "execution_count": null,
   "metadata": {},
   "outputs": [],
   "source": [
    "# Learning rate\n",
    "plt.figure(figsize=(15,8))\n",
    "plt.plot(estimate,scores2)\n",
    "plt.show()"
   ]
  },
  {
   "cell_type": "code",
   "execution_count": null,
   "metadata": {},
   "outputs": [],
   "source": [
    "# subsample\n",
    "plt.figure(figsize=(15,8))\n",
    "plt.plot(estimate,scores2)\n",
    "plt.show()"
   ]
  },
  {
   "cell_type": "code",
   "execution_count": null,
   "metadata": {},
   "outputs": [],
   "source": [
    "mint = dict(zip(scores2,estimate))\n",
    "mint[min(mint.keys())]\n"
   ]
  },
  {
   "cell_type": "code",
   "execution_count": null,
   "metadata": {},
   "outputs": [],
   "source": [
    "# from xgboost import XGBRegressor\n",
    "\n",
    "xg = XGBRegressor(learning_rate= 0.08700000000000034, n_estimators= 138, subsample= 0.8226999999999864)\n",
    "xg.fit(filter_x_train, filter_y_train)\n",
    "preds = xg.predict(filter_x_test)\n",
    "\n",
    "xg_mse = MSE(filter_y_test, preds)\n",
    "xg_sc = xg.score(filter_x_test, filter_y_test)*100\n",
    "xg_sc2 = xg.score(filter_x_train, filter_y_train)*100\n",
    "print(f'MSE: {xg_mse} \\nR2_score test: {xg_sc}\\nR2_score train: {xg_sc2}')"
   ]
  },
  {
   "cell_type": "code",
   "execution_count": null,
   "metadata": {},
   "outputs": [],
   "source": [
    "# After Sacaling\n",
    "\n",
    "xg = XGBRegressor(learning_rate= 0.08700000000000034, n_estimators= 168, subsample= 0.81)\n",
    "xg.fit(transformer_filter_x_train, transformer_filter_y_train)\n",
    "preds = xg.predict(transformer_filter_x_test)\n",
    "\n",
    "xg_mse = MSE(transformer_filter_y_test, preds)\n",
    "xg_sc = xg.score(transformer_filter_x_test, transformer_filter_y_test)*100\n",
    "xg_sc2 = xg.score(transformer_filter_x_train, transformer_filter_y_train)*100\n",
    "print(f'MSE: {xg_mse} \\nR2_score test: {xg_sc}\\nR2_score train: {xg_sc2}')"
   ]
  },
  {
   "cell_type": "code",
   "execution_count": null,
   "metadata": {},
   "outputs": [],
   "source": [
    "from sklearn.model_selection import GridSearchCV\n",
    "\n",
    "parameters = {\n",
    "    'learning_rate': [0.092, 0.],\n",
    "    'n_estimators': [120,130,140,150],\n",
    "    'subsample': [0.89,0.9,0.91]\n",
    "}\n",
    "\n",
    "\n",
    "xg = XGBRegressor()\n",
    "grids = GridSearchCV(estimator=xg, param_grid=parameters,\n",
    "                    scoring='neg_mean_squared_error',\n",
    "                    cv=5, verbose=1)\n",
    "grids.fit(filter_x_train, filter_y_train)\n",
    "# preds = xg.predict(filter_x_test)\n",
    "grids.best_params_"
   ]
  },
  {
   "cell_type": "code",
   "execution_count": null,
   "metadata": {},
   "outputs": [],
   "source": [
    "print(grids.best_params_)"
   ]
  },
  {
   "cell_type": "code",
   "execution_count": null,
   "metadata": {},
   "outputs": [],
   "source": [
    "estimate = np.arange(100,200,1)\n",
    "scores2 = []\n",
    "\n",
    "for est in estimate:\n",
    "    xg = XGBRegressor(learning_rate= 0.08700000000000034, n_estimators= est, subsample= 0.8226999999999864)\n",
    "    xg.fit(transformer_filter_x_train, transformer_filter_y_train)\n",
    "    preds = xg.predict(transformer_filter_x_test)\n",
    "    scores2.append(MSE(transformer_filter_y_test, preds))"
   ]
  },
  {
   "cell_type": "code",
   "execution_count": null,
   "metadata": {},
   "outputs": [],
   "source": [
    "# Ridge\n",
    "plt.figure(figsize=(15,8))\n",
    "plt.plot(estimate,scores2)\n",
    "plt.show()"
   ]
  },
  {
   "cell_type": "code",
   "execution_count": null,
   "metadata": {},
   "outputs": [],
   "source": [
    "mint = dict(zip(scores2,estimate))\n",
    "mint[min(mint.keys())]\n"
   ]
  },
  {
   "cell_type": "code",
   "execution_count": null,
   "metadata": {},
   "outputs": [],
   "source": []
  }
 ],
 "metadata": {
  "kernelspec": {
   "display_name": "Python 3 (ipykernel)",
   "language": "python",
   "name": "python3"
  },
  "language_info": {
   "codemirror_mode": {
    "name": "ipython",
    "version": 3
   },
   "file_extension": ".py",
   "mimetype": "text/x-python",
   "name": "python",
   "nbconvert_exporter": "python",
   "pygments_lexer": "ipython3",
   "version": "3.10.10"
  },
  "vscode": {
   "interpreter": {
    "hash": "bd76de9a08fdb969f68b31a57b79dea66bb354afca1625b2c71659650b4a59c1"
   }
  }
 },
 "nbformat": 4,
 "nbformat_minor": 4
}
