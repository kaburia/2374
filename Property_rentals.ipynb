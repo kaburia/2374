{
 "cells": [
  {
   "cell_type": "code",
   "execution_count": 21,
   "metadata": {},
   "outputs": [],
   "source": [
    "import pandas as pd\n",
    "import matplotlib.pyplot as plt\n",
    "import seaborn as sns\n",
    "from statsmodels.formula.api import ols\n",
    "import numpy as np\n",
    "from sklearn.metrics import mean_squared_error as MSE\n",
    "from sklearn.model_selection import train_test_split\n",
    "from sklearn.linear_model import LinearRegression\n",
    "from scipy.stats import boxcox\n",
    "# import catboost\n",
    "from keras.models import Sequential\n",
    "from keras.layers import Dense\n",
    "import tensorflow as tf"
   ]
  },
  {
   "cell_type": "code",
   "execution_count": 22,
   "metadata": {},
   "outputs": [
    {
     "data": {
      "text/html": [
       "<div>\n",
       "<style scoped>\n",
       "    .dataframe tbody tr th:only-of-type {\n",
       "        vertical-align: middle;\n",
       "    }\n",
       "\n",
       "    .dataframe tbody tr th {\n",
       "        vertical-align: top;\n",
       "    }\n",
       "\n",
       "    .dataframe thead th {\n",
       "        text-align: right;\n",
       "    }\n",
       "</style>\n",
       "<table border=\"1\" class=\"dataframe\">\n",
       "  <thead>\n",
       "    <tr style=\"text-align: right;\">\n",
       "      <th></th>\n",
       "      <th>id</th>\n",
       "      <th>latitude</th>\n",
       "      <th>longitude</th>\n",
       "      <th>property_type</th>\n",
       "      <th>room_type</th>\n",
       "      <th>bathrooms</th>\n",
       "      <th>bedrooms</th>\n",
       "      <th>minimum_nights</th>\n",
       "      <th>price</th>\n",
       "    </tr>\n",
       "  </thead>\n",
       "  <tbody>\n",
       "    <tr>\n",
       "      <th>0</th>\n",
       "      <td>958</td>\n",
       "      <td>37.76931</td>\n",
       "      <td>-122.43386</td>\n",
       "      <td>Apartment</td>\n",
       "      <td>Entire home/apt</td>\n",
       "      <td>1.0</td>\n",
       "      <td>1.0</td>\n",
       "      <td>1</td>\n",
       "      <td>$170.00</td>\n",
       "    </tr>\n",
       "    <tr>\n",
       "      <th>1</th>\n",
       "      <td>3850</td>\n",
       "      <td>37.75402</td>\n",
       "      <td>-122.45805</td>\n",
       "      <td>House</td>\n",
       "      <td>Private room</td>\n",
       "      <td>1.0</td>\n",
       "      <td>1.0</td>\n",
       "      <td>1</td>\n",
       "      <td>$99.00</td>\n",
       "    </tr>\n",
       "    <tr>\n",
       "      <th>2</th>\n",
       "      <td>5858</td>\n",
       "      <td>37.74511</td>\n",
       "      <td>-122.42102</td>\n",
       "      <td>Apartment</td>\n",
       "      <td>Entire home/apt</td>\n",
       "      <td>1.0</td>\n",
       "      <td>2.0</td>\n",
       "      <td>30</td>\n",
       "      <td>$235.00</td>\n",
       "    </tr>\n",
       "    <tr>\n",
       "      <th>3</th>\n",
       "      <td>7918</td>\n",
       "      <td>37.76669</td>\n",
       "      <td>-122.45250</td>\n",
       "      <td>Apartment</td>\n",
       "      <td>Private room</td>\n",
       "      <td>4.0</td>\n",
       "      <td>1.0</td>\n",
       "      <td>32</td>\n",
       "      <td>$65.00</td>\n",
       "    </tr>\n",
       "    <tr>\n",
       "      <th>4</th>\n",
       "      <td>8142</td>\n",
       "      <td>37.76487</td>\n",
       "      <td>-122.45183</td>\n",
       "      <td>Apartment</td>\n",
       "      <td>Private room</td>\n",
       "      <td>4.0</td>\n",
       "      <td>1.0</td>\n",
       "      <td>32</td>\n",
       "      <td>$65.00</td>\n",
       "    </tr>\n",
       "  </tbody>\n",
       "</table>\n",
       "</div>"
      ],
      "text/plain": [
       "     id  latitude  longitude property_type        room_type  bathrooms  \\\n",
       "0   958  37.76931 -122.43386     Apartment  Entire home/apt        1.0   \n",
       "1  3850  37.75402 -122.45805         House     Private room        1.0   \n",
       "2  5858  37.74511 -122.42102     Apartment  Entire home/apt        1.0   \n",
       "3  7918  37.76669 -122.45250     Apartment     Private room        4.0   \n",
       "4  8142  37.76487 -122.45183     Apartment     Private room        4.0   \n",
       "\n",
       "   bedrooms  minimum_nights     price  \n",
       "0       1.0               1  $170.00   \n",
       "1       1.0               1   $99.00   \n",
       "2       2.0              30  $235.00   \n",
       "3       1.0              32   $65.00   \n",
       "4       1.0              32   $65.00   "
      ]
     },
     "execution_count": 22,
     "metadata": {},
     "output_type": "execute_result"
    }
   ],
   "source": [
    "# reading the file\n",
    "\n",
    "properties = pd.read_csv('rentals.csv')\n",
    "properties.head()"
   ]
  },
  {
   "cell_type": "code",
   "execution_count": 23,
   "metadata": {},
   "outputs": [
    {
     "name": "stdout",
     "output_type": "stream",
     "text": [
      "<class 'pandas.core.frame.DataFrame'>\n",
      "Int64Index: 8095 entries, 0 to 8110\n",
      "Data columns (total 8 columns):\n",
      " #   Column          Non-Null Count  Dtype  \n",
      "---  ------          --------------  -----  \n",
      " 0   latitude        8095 non-null   float64\n",
      " 1   longitude       8095 non-null   float64\n",
      " 2   property_type   8095 non-null   object \n",
      " 3   room_type       8095 non-null   object \n",
      " 4   bathrooms       8095 non-null   float64\n",
      " 5   bedrooms        8095 non-null   float64\n",
      " 6   minimum_nights  8095 non-null   int64  \n",
      " 7   price           8095 non-null   object \n",
      "dtypes: float64(4), int64(1), object(3)\n",
      "memory usage: 569.2+ KB\n"
     ]
    }
   ],
   "source": [
    "# Dropping irrrelevant columns\n",
    "\n",
    "properties = properties.drop('id', axis='columns')\n",
    "\n",
    "# dropping null values\n",
    "\n",
    "properties = properties.dropna()\n",
    "\n",
    "# Examining the new dataset\n",
    "properties.info()"
   ]
  },
  {
   "cell_type": "code",
   "execution_count": 24,
   "metadata": {},
   "outputs": [
    {
     "data": {
      "text/plain": [
       "latitude          5053\n",
       "longitude         5173\n",
       "property_type       26\n",
       "room_type            4\n",
       "bathrooms           17\n",
       "bedrooms            10\n",
       "minimum_nights      53\n",
       "price              526\n",
       "dtype: int64"
      ]
     },
     "execution_count": 24,
     "metadata": {},
     "output_type": "execute_result"
    }
   ],
   "source": [
    "# Looking for categorical columns in the object dtype\n",
    "properties.nunique()"
   ]
  },
  {
   "cell_type": "code",
   "execution_count": 25,
   "metadata": {},
   "outputs": [
    {
     "data": {
      "text/html": [
       "<div>\n",
       "<style scoped>\n",
       "    .dataframe tbody tr th:only-of-type {\n",
       "        vertical-align: middle;\n",
       "    }\n",
       "\n",
       "    .dataframe tbody tr th {\n",
       "        vertical-align: top;\n",
       "    }\n",
       "\n",
       "    .dataframe thead th {\n",
       "        text-align: right;\n",
       "    }\n",
       "</style>\n",
       "<table border=\"1\" class=\"dataframe\">\n",
       "  <thead>\n",
       "    <tr style=\"text-align: right;\">\n",
       "      <th></th>\n",
       "      <th>latitude</th>\n",
       "      <th>longitude</th>\n",
       "      <th>property_type</th>\n",
       "      <th>room_type</th>\n",
       "      <th>bathrooms</th>\n",
       "      <th>bedrooms</th>\n",
       "      <th>minimum_nights</th>\n",
       "      <th>price</th>\n",
       "    </tr>\n",
       "  </thead>\n",
       "  <tbody>\n",
       "    <tr>\n",
       "      <th>0</th>\n",
       "      <td>37.76931</td>\n",
       "      <td>-122.43386</td>\n",
       "      <td>Apartment</td>\n",
       "      <td>Entire home/apt</td>\n",
       "      <td>1.0</td>\n",
       "      <td>1.0</td>\n",
       "      <td>1</td>\n",
       "      <td>$170.00</td>\n",
       "    </tr>\n",
       "    <tr>\n",
       "      <th>1</th>\n",
       "      <td>37.75402</td>\n",
       "      <td>-122.45805</td>\n",
       "      <td>House</td>\n",
       "      <td>Private room</td>\n",
       "      <td>1.0</td>\n",
       "      <td>1.0</td>\n",
       "      <td>1</td>\n",
       "      <td>$99.00</td>\n",
       "    </tr>\n",
       "    <tr>\n",
       "      <th>2</th>\n",
       "      <td>37.74511</td>\n",
       "      <td>-122.42102</td>\n",
       "      <td>Apartment</td>\n",
       "      <td>Entire home/apt</td>\n",
       "      <td>1.0</td>\n",
       "      <td>2.0</td>\n",
       "      <td>30</td>\n",
       "      <td>$235.00</td>\n",
       "    </tr>\n",
       "    <tr>\n",
       "      <th>3</th>\n",
       "      <td>37.76669</td>\n",
       "      <td>-122.45250</td>\n",
       "      <td>Apartment</td>\n",
       "      <td>Private room</td>\n",
       "      <td>4.0</td>\n",
       "      <td>1.0</td>\n",
       "      <td>32</td>\n",
       "      <td>$65.00</td>\n",
       "    </tr>\n",
       "    <tr>\n",
       "      <th>4</th>\n",
       "      <td>37.76487</td>\n",
       "      <td>-122.45183</td>\n",
       "      <td>Apartment</td>\n",
       "      <td>Private room</td>\n",
       "      <td>4.0</td>\n",
       "      <td>1.0</td>\n",
       "      <td>32</td>\n",
       "      <td>$65.00</td>\n",
       "    </tr>\n",
       "  </tbody>\n",
       "</table>\n",
       "</div>"
      ],
      "text/plain": [
       "   latitude  longitude property_type        room_type  bathrooms  bedrooms  \\\n",
       "0  37.76931 -122.43386     Apartment  Entire home/apt        1.0       1.0   \n",
       "1  37.75402 -122.45805         House     Private room        1.0       1.0   \n",
       "2  37.74511 -122.42102     Apartment  Entire home/apt        1.0       2.0   \n",
       "3  37.76669 -122.45250     Apartment     Private room        4.0       1.0   \n",
       "4  37.76487 -122.45183     Apartment     Private room        4.0       1.0   \n",
       "\n",
       "   minimum_nights     price  \n",
       "0               1  $170.00   \n",
       "1               1   $99.00   \n",
       "2              30  $235.00   \n",
       "3              32   $65.00   \n",
       "4              32   $65.00   "
      ]
     },
     "execution_count": 25,
     "metadata": {},
     "output_type": "execute_result"
    }
   ],
   "source": [
    "# Converting object dtype to categorical values\n",
    "properties['property_type'] = properties.property_type.astype('category')\n",
    "properties['room_type'] = properties.room_type.astype('category')\n",
    "\n",
    "properties.head()\n"
   ]
  },
  {
   "cell_type": "code",
   "execution_count": 26,
   "metadata": {},
   "outputs": [
    {
     "name": "stdout",
     "output_type": "stream",
     "text": [
      "<class 'pandas.core.frame.DataFrame'>\n",
      "Int64Index: 8095 entries, 0 to 8110\n",
      "Data columns (total 8 columns):\n",
      " #   Column          Non-Null Count  Dtype   \n",
      "---  ------          --------------  -----   \n",
      " 0   latitude        8095 non-null   float64 \n",
      " 1   longitude       8095 non-null   float64 \n",
      " 2   property_type   8095 non-null   category\n",
      " 3   room_type       8095 non-null   category\n",
      " 4   bathrooms       8095 non-null   float64 \n",
      " 5   bedrooms        8095 non-null   float64 \n",
      " 6   minimum_nights  8095 non-null   int64   \n",
      " 7   price           8095 non-null   float64 \n",
      "dtypes: category(2), float64(5), int64(1)\n",
      "memory usage: 460.0 KB\n"
     ]
    }
   ],
   "source": [
    "# Cleaning the price column\n",
    "\n",
    "properties['price'] = properties.price.str.replace('$', '', regex=True).str.replace(',', '',regex=True)\n",
    "properties['price'] = pd.to_numeric(properties.price)\n",
    "properties.info()"
   ]
  },
  {
   "cell_type": "code",
   "execution_count": 27,
   "metadata": {},
   "outputs": [],
   "source": [
    "# Encoding categorical values\n",
    "properties2 = pd.get_dummies(properties, columns = ['property_type', 'room_type'])"
   ]
  },
  {
   "cell_type": "code",
   "execution_count": 28,
   "metadata": {},
   "outputs": [],
   "source": [
    "# chooseing features and target variables\n",
    "\n",
    "x = properties2.drop('price', axis=1)\n",
    "y = properties2['price']\n",
    "\n",
    "x_train, x_test, y_train, y_test = train_test_split(x,y, test_size=0.2, random_state=42)\n"
   ]
  },
  {
   "cell_type": "code",
   "execution_count": null,
   "metadata": {},
   "outputs": [],
   "source": []
  },
  {
   "cell_type": "code",
   "execution_count": 29,
   "metadata": {},
   "outputs": [
    {
     "data": {
      "text/plain": [
       "('Coefficients: [ 1.33296328e+03  1.68880946e+02  4.84580096e+00  1.12685853e+02\\n -3.48002957e-07 -7.09397426e+01 -6.60721889e+01 -1.20354464e+01\\n  2.64084074e+02 -6.69990418e+01 -1.35098828e+02 -1.29723394e+02\\n -4.15271906e+01 -3.35733005e+01 -7.34270904e+00 -1.91051957e+02\\n  2.18611758e+02 -6.34157108e+01 -4.33046472e+01 -4.64177028e+01\\n  1.28942531e+02 -4.71738725e+01 -8.86783945e+01  3.78503141e+01\\n -9.66122821e-01 -3.35727464e+00  3.25645188e+02  7.58224636e+00\\n -1.02783982e+02  2.97141511e+00  1.64773978e+02  9.86897828e+01\\n -8.35749300e+01  3.21307007e+01 -4.72455535e+01]',\n",
       " 'Intercept: -29625.8006096972',\n",
       " 'MSE: 201179.0584503936',\n",
       " 'R2 score: 0.09825696605152201')"
      ]
     },
     "execution_count": 29,
     "metadata": {},
     "output_type": "execute_result"
    }
   ],
   "source": [
    "# lr = LinearRegression()\n",
    "# lr.fit(x_train, y_train)\n",
    "# print('R2 Squared score: ',lr.score(x_test,y_test))\n",
    "# y_pred = lr.predict(x_test)\n",
    "# print('Mean Squared Error: ', MSE(y_test,y_pred))\n",
    "# print(lr.intercept_)\n",
    "\n",
    "def linear_model(a,b,c,d):\n",
    "    lr = LinearRegression()\n",
    "    lr.fit(a,b)\n",
    "    y_pred = lr.predict(c)\n",
    "    Mean_error = MSE(d, y_pred)\n",
    "    score = lr.score(c,d)\n",
    "    RMSE = Mean_error * (1/2)\n",
    "    coef = lr.coef_\n",
    "    intercept = lr.intercept_\n",
    "    g = f'MSE: {Mean_error}'\n",
    "    h = f'R2 score: {score}'\n",
    "    e = f'Coefficients: {coef}'\n",
    "    f = f'Intercept: {intercept}'\n",
    "    return e, f, g, h\n",
    "\n",
    "linear_model(x_train,y_train,x_test,y_test)\n",
    "    "
   ]
  },
  {
   "cell_type": "code",
   "execution_count": 30,
   "metadata": {},
   "outputs": [
    {
     "data": {
      "image/png": "[encoded data removed]",
      "text/plain": [
       "<Figure size 432x288 with 1 Axes>"
      ]
     },
     "metadata": {
      "needs_background": "light"
     },
     "output_type": "display_data"
    },
    {
     "data": {
      "image/png": "[encoded data removed]",
      "text/plain": [
       "<Figure size 432x288 with 1 Axes>"
      ]
     },
     "metadata": {
      "needs_background": "light"
     },
     "output_type": "display_data"
    },
    {
     "data": {
      "image/png": "[encoded data removed]",
      "text/plain": [
       "<Figure size 432x288 with 1 Axes>"
      ]
     },
     "metadata": {
      "needs_background": "light"
     },
     "output_type": "display_data"
    },
    {
     "data": {
      "image/png": "[encoded data removed]",
      "text/plain": [
       "<Figure size 432x288 with 1 Axes>"
      ]
     },
     "metadata": {
      "needs_background": "light"
     },
     "output_type": "display_data"
    },
    {
     "data": {
      "image/png": "[encoded data removed]",
      "text/plain": [
       "<Figure size 432x288 with 1 Axes>"
      ]
     },
     "metadata": {
      "needs_background": "light"
     },
     "output_type": "display_data"
    },
    {
     "data": {
      "image/png": "[encoded data removed]",
      "text/plain": [
       "<Figure size 432x288 with 1 Axes>"
      ]
     },
     "metadata": {
      "needs_background": "light"
     },
     "output_type": "display_data"
    }
   ],
   "source": [
    "for i in properties.columns:\n",
    "    if properties[f'{i}'].dtype != 'category':\n",
    "            sns.boxplot(x=i, data=properties)\n",
    "            plt.show()"
   ]
  },
  {
   "cell_type": "code",
   "execution_count": 31,
   "metadata": {},
   "outputs": [],
   "source": [
    "night = properties[properties['minimum_nights'] >150].index"
   ]
  },
  {
   "cell_type": "code",
   "execution_count": 32,
   "metadata": {},
   "outputs": [],
   "source": [
    "pric = properties[properties['price'] >500].index"
   ]
  },
  {
   "cell_type": "code",
   "execution_count": 33,
   "metadata": {},
   "outputs": [],
   "source": [
    "bed = properties[properties['bedrooms'] >3].index"
   ]
  },
  {
   "cell_type": "code",
   "execution_count": 34,
   "metadata": {},
   "outputs": [],
   "source": [
    "bath = properties[properties['bathrooms'] >3].index"
   ]
  },
  {
   "cell_type": "code",
   "execution_count": 35,
   "metadata": {},
   "outputs": [],
   "source": [
    "# prop = properties[properties['bathrooms'] > properties['bedrooms']].index"
   ]
  },
  {
   "cell_type": "code",
   "execution_count": 36,
   "metadata": {},
   "outputs": [
    {
     "name": "stdout",
     "output_type": "stream",
     "text": [
      "841\n"
     ]
    }
   ],
   "source": [
    "prin = set(night).union(set(pric), set(bed), set(bath))\n",
    "print(len(prin))"
   ]
  },
  {
   "cell_type": "code",
   "execution_count": 37,
   "metadata": {},
   "outputs": [
    {
     "data": {
      "text/html": [
       "<div>\n",
       "<style scoped>\n",
       "    .dataframe tbody tr th:only-of-type {\n",
       "        vertical-align: middle;\n",
       "    }\n",
       "\n",
       "    .dataframe tbody tr th {\n",
       "        vertical-align: top;\n",
       "    }\n",
       "\n",
       "    .dataframe thead th {\n",
       "        text-align: right;\n",
       "    }\n",
       "</style>\n",
       "<table border=\"1\" class=\"dataframe\">\n",
       "  <thead>\n",
       "    <tr style=\"text-align: right;\">\n",
       "      <th></th>\n",
       "      <th>latitude</th>\n",
       "      <th>longitude</th>\n",
       "      <th>property_type</th>\n",
       "      <th>room_type</th>\n",
       "      <th>bathrooms</th>\n",
       "      <th>bedrooms</th>\n",
       "      <th>minimum_nights</th>\n",
       "      <th>price</th>\n",
       "    </tr>\n",
       "  </thead>\n",
       "  <tbody>\n",
       "    <tr>\n",
       "      <th>0</th>\n",
       "      <td>37.76931</td>\n",
       "      <td>-122.43386</td>\n",
       "      <td>Apartment</td>\n",
       "      <td>Entire home/apt</td>\n",
       "      <td>1.0</td>\n",
       "      <td>1.0</td>\n",
       "      <td>1</td>\n",
       "      <td>170.0</td>\n",
       "    </tr>\n",
       "    <tr>\n",
       "      <th>1</th>\n",
       "      <td>37.75402</td>\n",
       "      <td>-122.45805</td>\n",
       "      <td>House</td>\n",
       "      <td>Private room</td>\n",
       "      <td>1.0</td>\n",
       "      <td>1.0</td>\n",
       "      <td>1</td>\n",
       "      <td>99.0</td>\n",
       "    </tr>\n",
       "    <tr>\n",
       "      <th>2</th>\n",
       "      <td>37.74511</td>\n",
       "      <td>-122.42102</td>\n",
       "      <td>Apartment</td>\n",
       "      <td>Entire home/apt</td>\n",
       "      <td>1.0</td>\n",
       "      <td>2.0</td>\n",
       "      <td>30</td>\n",
       "      <td>235.0</td>\n",
       "    </tr>\n",
       "    <tr>\n",
       "      <th>6</th>\n",
       "      <td>37.75919</td>\n",
       "      <td>-122.42237</td>\n",
       "      <td>Condominium</td>\n",
       "      <td>Private room</td>\n",
       "      <td>1.0</td>\n",
       "      <td>1.0</td>\n",
       "      <td>1</td>\n",
       "      <td>139.0</td>\n",
       "    </tr>\n",
       "    <tr>\n",
       "      <th>7</th>\n",
       "      <td>37.76259</td>\n",
       "      <td>-122.40543</td>\n",
       "      <td>House</td>\n",
       "      <td>Private room</td>\n",
       "      <td>1.0</td>\n",
       "      <td>1.0</td>\n",
       "      <td>1</td>\n",
       "      <td>135.0</td>\n",
       "    </tr>\n",
       "    <tr>\n",
       "      <th>...</th>\n",
       "      <td>...</td>\n",
       "      <td>...</td>\n",
       "      <td>...</td>\n",
       "      <td>...</td>\n",
       "      <td>...</td>\n",
       "      <td>...</td>\n",
       "      <td>...</td>\n",
       "      <td>...</td>\n",
       "    </tr>\n",
       "    <tr>\n",
       "      <th>8105</th>\n",
       "      <td>37.70463</td>\n",
       "      <td>-122.46288</td>\n",
       "      <td>House</td>\n",
       "      <td>Private room</td>\n",
       "      <td>0.0</td>\n",
       "      <td>1.0</td>\n",
       "      <td>1</td>\n",
       "      <td>100.0</td>\n",
       "    </tr>\n",
       "    <tr>\n",
       "      <th>8107</th>\n",
       "      <td>37.77799</td>\n",
       "      <td>-122.42159</td>\n",
       "      <td>Condominium</td>\n",
       "      <td>Entire home/apt</td>\n",
       "      <td>1.0</td>\n",
       "      <td>1.0</td>\n",
       "      <td>1</td>\n",
       "      <td>200.0</td>\n",
       "    </tr>\n",
       "    <tr>\n",
       "      <th>8108</th>\n",
       "      <td>37.73410</td>\n",
       "      <td>-122.38917</td>\n",
       "      <td>Hut</td>\n",
       "      <td>Private room</td>\n",
       "      <td>2.0</td>\n",
       "      <td>1.0</td>\n",
       "      <td>30</td>\n",
       "      <td>69.0</td>\n",
       "    </tr>\n",
       "    <tr>\n",
       "      <th>8109</th>\n",
       "      <td>37.78144</td>\n",
       "      <td>-122.41207</td>\n",
       "      <td>Apartment</td>\n",
       "      <td>Entire home/apt</td>\n",
       "      <td>1.0</td>\n",
       "      <td>1.0</td>\n",
       "      <td>30</td>\n",
       "      <td>187.0</td>\n",
       "    </tr>\n",
       "    <tr>\n",
       "      <th>8110</th>\n",
       "      <td>37.70707</td>\n",
       "      <td>-122.44812</td>\n",
       "      <td>House</td>\n",
       "      <td>Private room</td>\n",
       "      <td>1.0</td>\n",
       "      <td>2.0</td>\n",
       "      <td>1</td>\n",
       "      <td>200.0</td>\n",
       "    </tr>\n",
       "  </tbody>\n",
       "</table>\n",
       "<p>7254 rows × 8 columns</p>\n",
       "</div>"
      ],
      "text/plain": [
       "      latitude  longitude property_type        room_type  bathrooms  bedrooms  \\\n",
       "0     37.76931 -122.43386     Apartment  Entire home/apt        1.0       1.0   \n",
       "1     37.75402 -122.45805         House     Private room        1.0       1.0   \n",
       "2     37.74511 -122.42102     Apartment  Entire home/apt        1.0       2.0   \n",
       "6     37.75919 -122.42237   Condominium     Private room        1.0       1.0   \n",
       "7     37.76259 -122.40543         House     Private room        1.0       1.0   \n",
       "...        ...        ...           ...              ...        ...       ...   \n",
       "8105  37.70463 -122.46288         House     Private room        0.0       1.0   \n",
       "8107  37.77799 -122.42159   Condominium  Entire home/apt        1.0       1.0   \n",
       "8108  37.73410 -122.38917           Hut     Private room        2.0       1.0   \n",
       "8109  37.78144 -122.41207     Apartment  Entire home/apt        1.0       1.0   \n",
       "8110  37.70707 -122.44812         House     Private room        1.0       2.0   \n",
       "\n",
       "      minimum_nights  price  \n",
       "0                  1  170.0  \n",
       "1                  1   99.0  \n",
       "2                 30  235.0  \n",
       "6                  1  139.0  \n",
       "7                  1  135.0  \n",
       "...              ...    ...  \n",
       "8105               1  100.0  \n",
       "8107               1  200.0  \n",
       "8108              30   69.0  \n",
       "8109              30  187.0  \n",
       "8110               1  200.0  \n",
       "\n",
       "[7254 rows x 8 columns]"
      ]
     },
     "execution_count": 37,
     "metadata": {},
     "output_type": "execute_result"
    }
   ],
   "source": [
    "properties_filter = properties.drop(prin, axis=0)\n",
    "properties_filter"
   ]
  },
  {
   "cell_type": "code",
   "execution_count": 38,
   "metadata": {},
   "outputs": [
    {
     "data": {
      "image/png": "[encoded data removed]",
      "text/plain": [
       "<Figure size 432x288 with 1 Axes>"
      ]
     },
     "metadata": {
      "needs_background": "light"
     },
     "output_type": "display_data"
    },
    {
     "data": {
      "image/png": "[encoded data removed]",
      "text/plain": [
       "<Figure size 432x288 with 1 Axes>"
      ]
     },
     "metadata": {
      "needs_background": "light"
     },
     "output_type": "display_data"
    },
    {
     "data": {
      "image/png": "[encoded data removed]",
      "text/plain": [
       "<Figure size 432x288 with 1 Axes>"
      ]
     },
     "metadata": {
      "needs_background": "light"
     },
     "output_type": "display_data"
    },
    {
     "data": {
      "image/png": "[encoded data removed]",
      "text/plain": [
       "<Figure size 432x288 with 1 Axes>"
      ]
     },
     "metadata": {
      "needs_background": "light"
     },
     "output_type": "display_data"
    },
    {
     "data": {
      "image/png": "[encoded data removed]",
      "text/plain": [
       "<Figure size 432x288 with 1 Axes>"
      ]
     },
     "metadata": {
      "needs_background": "light"
     },
     "output_type": "display_data"
    },
    {
     "data": {
      "image/png": "[encoded data removed]",
      "text/plain": [
       "<Figure size 432x288 with 1 Axes>"
      ]
     },
     "metadata": {
      "needs_background": "light"
     },
     "output_type": "display_data"
    }
   ],
   "source": [
    "for ing in properties.columns:\n",
    "    if properties[f'{ing}'].dtype != 'category':\n",
    "            sns.boxplot(x=ing, data=properties_filter)\n",
    "            plt.show()"
   ]
  },
  {
   "cell_type": "code",
   "execution_count": 39,
   "metadata": {},
   "outputs": [
    {
     "data": {
      "text/html": [
       "<div>\n",
       "<style scoped>\n",
       "    .dataframe tbody tr th:only-of-type {\n",
       "        vertical-align: middle;\n",
       "    }\n",
       "\n",
       "    .dataframe tbody tr th {\n",
       "        vertical-align: top;\n",
       "    }\n",
       "\n",
       "    .dataframe thead th {\n",
       "        text-align: right;\n",
       "    }\n",
       "</style>\n",
       "<table border=\"1\" class=\"dataframe\">\n",
       "  <thead>\n",
       "    <tr style=\"text-align: right;\">\n",
       "      <th></th>\n",
       "      <th>latitude</th>\n",
       "      <th>longitude</th>\n",
       "      <th>bathrooms</th>\n",
       "      <th>bedrooms</th>\n",
       "      <th>minimum_nights</th>\n",
       "      <th>price</th>\n",
       "    </tr>\n",
       "  </thead>\n",
       "  <tbody>\n",
       "    <tr>\n",
       "      <th>latitude</th>\n",
       "      <td>1.000000</td>\n",
       "      <td>0.180403</td>\n",
       "      <td>-0.012643</td>\n",
       "      <td>-0.139484</td>\n",
       "      <td>0.192738</td>\n",
       "      <td>0.156208</td>\n",
       "    </tr>\n",
       "    <tr>\n",
       "      <th>longitude</th>\n",
       "      <td>0.180403</td>\n",
       "      <td>1.000000</td>\n",
       "      <td>-0.034331</td>\n",
       "      <td>-0.115094</td>\n",
       "      <td>0.110133</td>\n",
       "      <td>0.063090</td>\n",
       "    </tr>\n",
       "    <tr>\n",
       "      <th>bathrooms</th>\n",
       "      <td>-0.012643</td>\n",
       "      <td>-0.034331</td>\n",
       "      <td>1.000000</td>\n",
       "      <td>0.450348</td>\n",
       "      <td>0.063238</td>\n",
       "      <td>0.261548</td>\n",
       "    </tr>\n",
       "    <tr>\n",
       "      <th>bedrooms</th>\n",
       "      <td>-0.139484</td>\n",
       "      <td>-0.115094</td>\n",
       "      <td>0.450348</td>\n",
       "      <td>1.000000</td>\n",
       "      <td>0.003202</td>\n",
       "      <td>0.504971</td>\n",
       "    </tr>\n",
       "    <tr>\n",
       "      <th>minimum_nights</th>\n",
       "      <td>0.192738</td>\n",
       "      <td>0.110133</td>\n",
       "      <td>0.063238</td>\n",
       "      <td>0.003202</td>\n",
       "      <td>1.000000</td>\n",
       "      <td>-0.138374</td>\n",
       "    </tr>\n",
       "    <tr>\n",
       "      <th>price</th>\n",
       "      <td>0.156208</td>\n",
       "      <td>0.063090</td>\n",
       "      <td>0.261548</td>\n",
       "      <td>0.504971</td>\n",
       "      <td>-0.138374</td>\n",
       "      <td>1.000000</td>\n",
       "    </tr>\n",
       "  </tbody>\n",
       "</table>\n",
       "</div>"
      ],
      "text/plain": [
       "                latitude  longitude  bathrooms  bedrooms  minimum_nights  \\\n",
       "latitude        1.000000   0.180403  -0.012643 -0.139484        0.192738   \n",
       "longitude       0.180403   1.000000  -0.034331 -0.115094        0.110133   \n",
       "bathrooms      -0.012643  -0.034331   1.000000  0.450348        0.063238   \n",
       "bedrooms       -0.139484  -0.115094   0.450348  1.000000        0.003202   \n",
       "minimum_nights  0.192738   0.110133   0.063238  0.003202        1.000000   \n",
       "price           0.156208   0.063090   0.261548  0.504971       -0.138374   \n",
       "\n",
       "                   price  \n",
       "latitude        0.156208  \n",
       "longitude       0.063090  \n",
       "bathrooms       0.261548  \n",
       "bedrooms        0.504971  \n",
       "minimum_nights -0.138374  \n",
       "price           1.000000  "
      ]
     },
     "execution_count": 39,
     "metadata": {},
     "output_type": "execute_result"
    }
   ],
   "source": [
    "properties_filter.corr()"
   ]
  },
  {
   "cell_type": "code",
   "execution_count": 40,
   "metadata": {},
   "outputs": [
    {
     "data": {
      "text/html": [
       "<div>\n",
       "<style scoped>\n",
       "    .dataframe tbody tr th:only-of-type {\n",
       "        vertical-align: middle;\n",
       "    }\n",
       "\n",
       "    .dataframe tbody tr th {\n",
       "        vertical-align: top;\n",
       "    }\n",
       "\n",
       "    .dataframe thead th {\n",
       "        text-align: right;\n",
       "    }\n",
       "</style>\n",
       "<table border=\"1\" class=\"dataframe\">\n",
       "  <thead>\n",
       "    <tr style=\"text-align: right;\">\n",
       "      <th></th>\n",
       "      <th>latitude</th>\n",
       "      <th>longitude</th>\n",
       "      <th>bathrooms</th>\n",
       "      <th>bedrooms</th>\n",
       "      <th>minimum_nights</th>\n",
       "      <th>price</th>\n",
       "    </tr>\n",
       "  </thead>\n",
       "  <tbody>\n",
       "    <tr>\n",
       "      <th>latitude</th>\n",
       "      <td>1.000000</td>\n",
       "      <td>0.187000</td>\n",
       "      <td>0.078469</td>\n",
       "      <td>-0.108647</td>\n",
       "      <td>-0.007415</td>\n",
       "      <td>0.083231</td>\n",
       "    </tr>\n",
       "    <tr>\n",
       "      <th>longitude</th>\n",
       "      <td>0.187000</td>\n",
       "      <td>1.000000</td>\n",
       "      <td>0.007627</td>\n",
       "      <td>-0.115893</td>\n",
       "      <td>0.002028</td>\n",
       "      <td>0.015867</td>\n",
       "    </tr>\n",
       "    <tr>\n",
       "      <th>bathrooms</th>\n",
       "      <td>0.078469</td>\n",
       "      <td>0.007627</td>\n",
       "      <td>1.000000</td>\n",
       "      <td>0.327916</td>\n",
       "      <td>-0.004766</td>\n",
       "      <td>0.081981</td>\n",
       "    </tr>\n",
       "    <tr>\n",
       "      <th>bedrooms</th>\n",
       "      <td>-0.108647</td>\n",
       "      <td>-0.115893</td>\n",
       "      <td>0.327916</td>\n",
       "      <td>1.000000</td>\n",
       "      <td>-0.004159</td>\n",
       "      <td>0.262343</td>\n",
       "    </tr>\n",
       "    <tr>\n",
       "      <th>minimum_nights</th>\n",
       "      <td>-0.007415</td>\n",
       "      <td>0.002028</td>\n",
       "      <td>-0.004766</td>\n",
       "      <td>-0.004159</td>\n",
       "      <td>1.000000</td>\n",
       "      <td>-0.004247</td>\n",
       "    </tr>\n",
       "    <tr>\n",
       "      <th>price</th>\n",
       "      <td>0.083231</td>\n",
       "      <td>0.015867</td>\n",
       "      <td>0.081981</td>\n",
       "      <td>0.262343</td>\n",
       "      <td>-0.004247</td>\n",
       "      <td>1.000000</td>\n",
       "    </tr>\n",
       "  </tbody>\n",
       "</table>\n",
       "</div>"
      ],
      "text/plain": [
       "                latitude  longitude  bathrooms  bedrooms  minimum_nights  \\\n",
       "latitude        1.000000   0.187000   0.078469 -0.108647       -0.007415   \n",
       "longitude       0.187000   1.000000   0.007627 -0.115893        0.002028   \n",
       "bathrooms       0.078469   0.007627   1.000000  0.327916       -0.004766   \n",
       "bedrooms       -0.108647  -0.115893   0.327916  1.000000       -0.004159   \n",
       "minimum_nights -0.007415   0.002028  -0.004766 -0.004159        1.000000   \n",
       "price           0.083231   0.015867   0.081981  0.262343       -0.004247   \n",
       "\n",
       "                   price  \n",
       "latitude        0.083231  \n",
       "longitude       0.015867  \n",
       "bathrooms       0.081981  \n",
       "bedrooms        0.262343  \n",
       "minimum_nights -0.004247  \n",
       "price           1.000000  "
      ]
     },
     "execution_count": 40,
     "metadata": {},
     "output_type": "execute_result"
    }
   ],
   "source": [
    "properties.corr()"
   ]
  },
  {
   "cell_type": "code",
   "execution_count": 41,
   "metadata": {},
   "outputs": [
    {
     "name": "stderr",
     "output_type": "stream",
     "text": [
      "C:\\Users\\Austin\\AppData\\Local\\Temp\\ipykernel_7752\\546600108.py:1: FutureWarning: Dropping of nuisance columns in DataFrame reductions (with 'numeric_only=None') is deprecated; in a future version this will raise TypeError.  Select only valid columns before calling the reduction.\n",
      "  properties_filter.skew()\n"
     ]
    },
    {
     "data": {
      "text/plain": [
       "latitude         -0.422105\n",
       "longitude        -0.957425\n",
       "bathrooms         1.790378\n",
       "bedrooms          0.708931\n",
       "minimum_nights    1.047505\n",
       "price             1.167452\n",
       "dtype: float64"
      ]
     },
     "execution_count": 41,
     "metadata": {},
     "output_type": "execute_result"
    }
   ],
   "source": [
    "properties_filter.skew()"
   ]
  },
  {
   "cell_type": "code",
   "execution_count": 42,
   "metadata": {},
   "outputs": [
    {
     "data": {
      "image/png": "[encoded data removed]",
      "text/plain": [
       "<Figure size 360x360 with 1 Axes>"
      ]
     },
     "metadata": {
      "needs_background": "light"
     },
     "output_type": "display_data"
    },
    {
     "data": {
      "image/png": "[encoded data removed]",
      "text/plain": [
       "<Figure size 360x360 with 1 Axes>"
      ]
     },
     "metadata": {
      "needs_background": "light"
     },
     "output_type": "display_data"
    },
    {
     "data": {
      "image/png": "[encoded data removed]",
      "text/plain": [
       "<Figure size 360x360 with 1 Axes>"
      ]
     },
     "metadata": {
      "needs_background": "light"
     },
     "output_type": "display_data"
    },
    {
     "data": {
      "image/png": "[encoded data removed]",
      "text/plain": [
       "<Figure size 360x360 with 1 Axes>"
      ]
     },
     "metadata": {
      "needs_background": "light"
     },
     "output_type": "display_data"
    },
    {
     "data": {
      "image/png": "[encoded data removed]",
      "text/plain": [
       "<Figure size 360x360 with 1 Axes>"
      ]
     },
     "metadata": {
      "needs_background": "light"
     },
     "output_type": "display_data"
    },
    {
     "data": {
      "image/png": "[encoded data removed]",
      "text/plain": [
       "<Figure size 360x360 with 1 Axes>"
      ]
     },
     "metadata": {
      "needs_background": "light"
     },
     "output_type": "display_data"
    }
   ],
   "source": [
    "for dis in properties.columns:\n",
    "    if properties[f'{dis}'].dtype != 'category':\n",
    "        # if dis != 'minimum_nights':\n",
    "            sns.displot(properties_filter[f'{dis}'])\n",
    "            plt.show()"
   ]
  },
  {
   "cell_type": "code",
   "execution_count": 43,
   "metadata": {},
   "outputs": [
    {
     "data": {
      "text/html": [
       "<div>\n",
       "<style scoped>\n",
       "    .dataframe tbody tr th:only-of-type {\n",
       "        vertical-align: middle;\n",
       "    }\n",
       "\n",
       "    .dataframe tbody tr th {\n",
       "        vertical-align: top;\n",
       "    }\n",
       "\n",
       "    .dataframe thead th {\n",
       "        text-align: right;\n",
       "    }\n",
       "</style>\n",
       "<table border=\"1\" class=\"dataframe\">\n",
       "  <thead>\n",
       "    <tr style=\"text-align: right;\">\n",
       "      <th></th>\n",
       "      <th>latitude</th>\n",
       "      <th>longitude</th>\n",
       "      <th>property_type</th>\n",
       "      <th>room_type</th>\n",
       "      <th>bathrooms</th>\n",
       "      <th>bedrooms</th>\n",
       "      <th>minimum_nights</th>\n",
       "      <th>price</th>\n",
       "    </tr>\n",
       "  </thead>\n",
       "  <tbody>\n",
       "  </tbody>\n",
       "</table>\n",
       "</div>"
      ],
      "text/plain": [
       "Empty DataFrame\n",
       "Columns: [latitude, longitude, property_type, room_type, bathrooms, bedrooms, minimum_nights, price]\n",
       "Index: []"
      ]
     },
     "execution_count": 43,
     "metadata": {},
     "output_type": "execute_result"
    }
   ],
   "source": [
    "properties_filter[(properties_filter.bedrooms == 0) & (properties_filter.bathrooms==0)].head(60)"
   ]
  },
  {
   "cell_type": "code",
   "execution_count": 44,
   "metadata": {},
   "outputs": [
    {
     "data": {
      "text/plain": [
       "38"
      ]
     },
     "execution_count": 44,
     "metadata": {},
     "output_type": "execute_result"
    }
   ],
   "source": [
    "len(properties_filter[properties_filter.bathrooms == 0])"
   ]
  },
  {
   "cell_type": "code",
   "execution_count": 45,
   "metadata": {},
   "outputs": [],
   "source": [
    "# 7022\n",
    "properties_filter = properties_filter.drop(7022, axis=0)"
   ]
  },
  {
   "cell_type": "code",
   "execution_count": 46,
   "metadata": {},
   "outputs": [
    {
     "data": {
      "text/plain": [
       "-0.3031618290437542"
      ]
     },
     "execution_count": 46,
     "metadata": {},
     "output_type": "execute_result"
    }
   ],
   "source": [
    "log_target = np.log1p(properties_filter[\"price\"])\n",
    "log_target.skew()"
   ]
  },
  {
   "cell_type": "code",
   "execution_count": 47,
   "metadata": {},
   "outputs": [],
   "source": [
    "# Removing nil prices value\n",
    "properties_filter = properties_filter.drop(properties_filter[properties_filter.price <=0].index, axis=0)\n"
   ]
  },
  {
   "cell_type": "code",
   "execution_count": 48,
   "metadata": {},
   "outputs": [
    {
     "name": "stdout",
     "output_type": "stream",
     "text": [
      "-0.4236748575562939\n"
     ]
    },
    {
     "data": {
      "image/png": "[encoded data removed]",
      "text/plain": [
       "<Figure size 360x360 with 1 Axes>"
      ]
     },
     "metadata": {
      "needs_background": "light"
     },
     "output_type": "display_data"
    },
    {
     "name": "stdout",
     "output_type": "stream",
     "text": [
      "0.08126578358804372\n"
     ]
    },
    {
     "data": {
      "image/png": "[encoded data removed]",
      "text/plain": [
       "<Figure size 360x360 with 1 Axes>"
      ]
     },
     "metadata": {
      "needs_background": "light"
     },
     "output_type": "display_data"
    },
    {
     "name": "stdout",
     "output_type": "stream",
     "text": [
      "-0.21535285334114584\n"
     ]
    },
    {
     "data": {
      "image/png": "[encoded data removed]",
      "text/plain": [
       "<Figure size 360x360 with 1 Axes>"
      ]
     },
     "metadata": {
      "needs_background": "light"
     },
     "output_type": "display_data"
    }
   ],
   "source": [
    "for trans in properties.columns:\n",
    "    if properties[f'{trans}'].dtype != 'category':\n",
    "        if trans == 'price' or trans == 'minimum_nights' or trans == 'latitude':\n",
    "            properties_filter[f'{trans}'] = np.log1p(properties_filter[f'{trans}'])\n",
    "            print(properties_filter[f'{trans}'].skew())\n",
    "            sns.displot(properties_filter[f'{trans}'])\n",
    "            plt.show()"
   ]
  },
  {
   "cell_type": "code",
   "execution_count": 49,
   "metadata": {},
   "outputs": [
    {
     "name": "stdout",
     "output_type": "stream",
     "text": [
      "0.47905698181999706\n"
     ]
    },
    {
     "data": {
      "image/png": "[encoded data removed]",
      "text/plain": [
       "<Figure size 360x360 with 1 Axes>"
      ]
     },
     "metadata": {
      "needs_background": "light"
     },
     "output_type": "display_data"
    },
    {
     "name": "stdout",
     "output_type": "stream",
     "text": [
      "-1.0208269425538075\n"
     ]
    },
    {
     "data": {
      "image/png": "[encoded data removed]",
      "text/plain": [
       "<Figure size 360x360 with 1 Axes>"
      ]
     },
     "metadata": {
      "needs_background": "light"
     },
     "output_type": "display_data"
    }
   ],
   "source": [
    "for trans2 in properties.columns:\n",
    "    if properties[f'{trans2}'].dtype != 'category':\n",
    "        if trans2 == 'bedrooms' or trans2 == 'bathrooms':\n",
    "            properties_filter[f'{trans2}'] = properties_filter[f'{trans2}']**(1/2)\n",
    "            print(properties_filter[f'{trans2}'].skew())\n",
    "            sns.displot(properties_filter[f'{trans2}'])\n",
    "            plt.show()"
   ]
  },
  {
   "cell_type": "code",
   "execution_count": 50,
   "metadata": {},
   "outputs": [
    {
     "data": {
      "text/plain": [
       "<seaborn.axisgrid.FacetGrid at 0x2a1e76d7640>"
      ]
     },
     "execution_count": 50,
     "metadata": {},
     "output_type": "execute_result"
    },
    {
     "data": {
      "image/png": "[encoded data removed]",
      "text/plain": [
       "<Figure size 360x360 with 1 Axes>"
      ]
     },
     "metadata": {
      "needs_background": "light"
     },
     "output_type": "display_data"
    }
   ],
   "source": [
    "properties_filter['longitude'] = 1/properties_filter['longitude']\n",
    "sns.displot(properties_filter['longitude'])"
   ]
  },
  {
   "cell_type": "code",
   "execution_count": 51,
   "metadata": {},
   "outputs": [
    {
     "name": "stderr",
     "output_type": "stream",
     "text": [
      "C:\\Users\\Austin\\AppData\\Local\\Temp\\ipykernel_7752\\546600108.py:1: FutureWarning: Dropping of nuisance columns in DataFrame reductions (with 'numeric_only=None') is deprecated; in a future version this will raise TypeError.  Select only valid columns before calling the reduction.\n",
      "  properties_filter.skew()\n"
     ]
    },
    {
     "data": {
      "text/plain": [
       "latitude         -0.423675\n",
       "longitude         0.956062\n",
       "bathrooms         0.479057\n",
       "bedrooms         -1.020827\n",
       "minimum_nights    0.081266\n",
       "price            -0.215353\n",
       "dtype: float64"
      ]
     },
     "execution_count": 51,
     "metadata": {},
     "output_type": "execute_result"
    }
   ],
   "source": [
    "properties_filter.skew()"
   ]
  },
  {
   "cell_type": "code",
   "execution_count": 52,
   "metadata": {},
   "outputs": [
    {
     "data": {
      "text/html": [
       "<div>\n",
       "<style scoped>\n",
       "    .dataframe tbody tr th:only-of-type {\n",
       "        vertical-align: middle;\n",
       "    }\n",
       "\n",
       "    .dataframe tbody tr th {\n",
       "        vertical-align: top;\n",
       "    }\n",
       "\n",
       "    .dataframe thead th {\n",
       "        text-align: right;\n",
       "    }\n",
       "</style>\n",
       "<table border=\"1\" class=\"dataframe\">\n",
       "  <thead>\n",
       "    <tr style=\"text-align: right;\">\n",
       "      <th></th>\n",
       "      <th>latitude</th>\n",
       "      <th>longitude</th>\n",
       "      <th>bathrooms</th>\n",
       "      <th>bedrooms</th>\n",
       "      <th>minimum_nights</th>\n",
       "      <th>price</th>\n",
       "    </tr>\n",
       "  </thead>\n",
       "  <tbody>\n",
       "    <tr>\n",
       "      <th>latitude</th>\n",
       "      <td>1.000000</td>\n",
       "      <td>-0.180470</td>\n",
       "      <td>-0.023074</td>\n",
       "      <td>-0.163406</td>\n",
       "      <td>0.200922</td>\n",
       "      <td>0.175555</td>\n",
       "    </tr>\n",
       "    <tr>\n",
       "      <th>longitude</th>\n",
       "      <td>-0.180470</td>\n",
       "      <td>1.000000</td>\n",
       "      <td>0.038778</td>\n",
       "      <td>0.128682</td>\n",
       "      <td>-0.120622</td>\n",
       "      <td>-0.078157</td>\n",
       "    </tr>\n",
       "    <tr>\n",
       "      <th>bathrooms</th>\n",
       "      <td>-0.023074</td>\n",
       "      <td>0.038778</td>\n",
       "      <td>1.000000</td>\n",
       "      <td>0.350655</td>\n",
       "      <td>0.073411</td>\n",
       "      <td>0.182198</td>\n",
       "    </tr>\n",
       "    <tr>\n",
       "      <th>bedrooms</th>\n",
       "      <td>-0.163406</td>\n",
       "      <td>0.128682</td>\n",
       "      <td>0.350655</td>\n",
       "      <td>1.000000</td>\n",
       "      <td>-0.007861</td>\n",
       "      <td>0.338091</td>\n",
       "    </tr>\n",
       "    <tr>\n",
       "      <th>minimum_nights</th>\n",
       "      <td>0.200922</td>\n",
       "      <td>-0.120622</td>\n",
       "      <td>0.073411</td>\n",
       "      <td>-0.007861</td>\n",
       "      <td>1.000000</td>\n",
       "      <td>-0.120626</td>\n",
       "    </tr>\n",
       "    <tr>\n",
       "      <th>price</th>\n",
       "      <td>0.175555</td>\n",
       "      <td>-0.078157</td>\n",
       "      <td>0.182198</td>\n",
       "      <td>0.338091</td>\n",
       "      <td>-0.120626</td>\n",
       "      <td>1.000000</td>\n",
       "    </tr>\n",
       "  </tbody>\n",
       "</table>\n",
       "</div>"
      ],
      "text/plain": [
       "                latitude  longitude  bathrooms  bedrooms  minimum_nights  \\\n",
       "latitude        1.000000  -0.180470  -0.023074 -0.163406        0.200922   \n",
       "longitude      -0.180470   1.000000   0.038778  0.128682       -0.120622   \n",
       "bathrooms      -0.023074   0.038778   1.000000  0.350655        0.073411   \n",
       "bedrooms       -0.163406   0.128682   0.350655  1.000000       -0.007861   \n",
       "minimum_nights  0.200922  -0.120622   0.073411 -0.007861        1.000000   \n",
       "price           0.175555  -0.078157   0.182198  0.338091       -0.120626   \n",
       "\n",
       "                   price  \n",
       "latitude        0.175555  \n",
       "longitude      -0.078157  \n",
       "bathrooms       0.182198  \n",
       "bedrooms        0.338091  \n",
       "minimum_nights -0.120626  \n",
       "price           1.000000  "
      ]
     },
     "execution_count": 52,
     "metadata": {},
     "output_type": "execute_result"
    }
   ],
   "source": [
    "properties_filter.corr()"
   ]
  },
  {
   "cell_type": "code",
   "execution_count": 53,
   "metadata": {},
   "outputs": [
    {
     "data": {
      "text/html": [
       "<div>\n",
       "<style scoped>\n",
       "    .dataframe tbody tr th:only-of-type {\n",
       "        vertical-align: middle;\n",
       "    }\n",
       "\n",
       "    .dataframe tbody tr th {\n",
       "        vertical-align: top;\n",
       "    }\n",
       "\n",
       "    .dataframe thead th {\n",
       "        text-align: right;\n",
       "    }\n",
       "</style>\n",
       "<table border=\"1\" class=\"dataframe\">\n",
       "  <thead>\n",
       "    <tr style=\"text-align: right;\">\n",
       "      <th></th>\n",
       "      <th>latitude</th>\n",
       "      <th>longitude</th>\n",
       "      <th>property_type</th>\n",
       "      <th>room_type</th>\n",
       "      <th>bathrooms</th>\n",
       "      <th>bedrooms</th>\n",
       "      <th>minimum_nights</th>\n",
       "      <th>price</th>\n",
       "    </tr>\n",
       "  </thead>\n",
       "  <tbody>\n",
       "    <tr>\n",
       "      <th>8086</th>\n",
       "      <td>3.657385</td>\n",
       "      <td>-0.008171</td>\n",
       "      <td>Apartment</td>\n",
       "      <td>Entire home/apt</td>\n",
       "      <td>1.000000</td>\n",
       "      <td>1.000000</td>\n",
       "      <td>3.433987</td>\n",
       "      <td>5.583496</td>\n",
       "    </tr>\n",
       "    <tr>\n",
       "      <th>8087</th>\n",
       "      <td>3.657784</td>\n",
       "      <td>-0.008168</td>\n",
       "      <td>Apartment</td>\n",
       "      <td>Entire home/apt</td>\n",
       "      <td>1.414214</td>\n",
       "      <td>1.414214</td>\n",
       "      <td>3.433987</td>\n",
       "      <td>6.077642</td>\n",
       "    </tr>\n",
       "    <tr>\n",
       "      <th>8088</th>\n",
       "      <td>3.657728</td>\n",
       "      <td>-0.008170</td>\n",
       "      <td>Apartment</td>\n",
       "      <td>Entire home/apt</td>\n",
       "      <td>1.000000</td>\n",
       "      <td>1.000000</td>\n",
       "      <td>3.433987</td>\n",
       "      <td>5.609472</td>\n",
       "    </tr>\n",
       "    <tr>\n",
       "      <th>8089</th>\n",
       "      <td>3.657800</td>\n",
       "      <td>-0.008168</td>\n",
       "      <td>Apartment</td>\n",
       "      <td>Entire home/apt</td>\n",
       "      <td>1.414214</td>\n",
       "      <td>1.414214</td>\n",
       "      <td>3.433987</td>\n",
       "      <td>6.008813</td>\n",
       "    </tr>\n",
       "    <tr>\n",
       "      <th>8090</th>\n",
       "      <td>3.658086</td>\n",
       "      <td>-0.008169</td>\n",
       "      <td>Apartment</td>\n",
       "      <td>Entire home/apt</td>\n",
       "      <td>1.000000</td>\n",
       "      <td>1.000000</td>\n",
       "      <td>3.433987</td>\n",
       "      <td>5.564520</td>\n",
       "    </tr>\n",
       "    <tr>\n",
       "      <th>8091</th>\n",
       "      <td>3.658098</td>\n",
       "      <td>-0.008170</td>\n",
       "      <td>Apartment</td>\n",
       "      <td>Entire home/apt</td>\n",
       "      <td>1.000000</td>\n",
       "      <td>1.000000</td>\n",
       "      <td>3.433987</td>\n",
       "      <td>5.808142</td>\n",
       "    </tr>\n",
       "    <tr>\n",
       "      <th>8092</th>\n",
       "      <td>3.658133</td>\n",
       "      <td>-0.008170</td>\n",
       "      <td>Apartment</td>\n",
       "      <td>Entire home/apt</td>\n",
       "      <td>1.000000</td>\n",
       "      <td>1.000000</td>\n",
       "      <td>3.433987</td>\n",
       "      <td>5.828946</td>\n",
       "    </tr>\n",
       "    <tr>\n",
       "      <th>8095</th>\n",
       "      <td>3.656282</td>\n",
       "      <td>-0.008166</td>\n",
       "      <td>House</td>\n",
       "      <td>Private room</td>\n",
       "      <td>1.000000</td>\n",
       "      <td>1.000000</td>\n",
       "      <td>3.433987</td>\n",
       "      <td>4.262680</td>\n",
       "    </tr>\n",
       "    <tr>\n",
       "      <th>8097</th>\n",
       "      <td>3.656282</td>\n",
       "      <td>-0.008166</td>\n",
       "      <td>House</td>\n",
       "      <td>Private room</td>\n",
       "      <td>1.000000</td>\n",
       "      <td>1.000000</td>\n",
       "      <td>3.433987</td>\n",
       "      <td>4.248495</td>\n",
       "    </tr>\n",
       "    <tr>\n",
       "      <th>8099</th>\n",
       "      <td>3.658131</td>\n",
       "      <td>-0.008170</td>\n",
       "      <td>Condominium</td>\n",
       "      <td>Entire home/apt</td>\n",
       "      <td>1.224745</td>\n",
       "      <td>1.000000</td>\n",
       "      <td>0.693147</td>\n",
       "      <td>5.703782</td>\n",
       "    </tr>\n",
       "    <tr>\n",
       "      <th>8100</th>\n",
       "      <td>3.657970</td>\n",
       "      <td>-0.008169</td>\n",
       "      <td>Apartment</td>\n",
       "      <td>Entire home/apt</td>\n",
       "      <td>1.000000</td>\n",
       "      <td>1.414214</td>\n",
       "      <td>3.931826</td>\n",
       "      <td>4.615121</td>\n",
       "    </tr>\n",
       "    <tr>\n",
       "      <th>8101</th>\n",
       "      <td>3.657387</td>\n",
       "      <td>-0.008169</td>\n",
       "      <td>Apartment</td>\n",
       "      <td>Entire home/apt</td>\n",
       "      <td>1.000000</td>\n",
       "      <td>0.000000</td>\n",
       "      <td>1.098612</td>\n",
       "      <td>5.525453</td>\n",
       "    </tr>\n",
       "    <tr>\n",
       "      <th>8102</th>\n",
       "      <td>3.656624</td>\n",
       "      <td>-0.008165</td>\n",
       "      <td>Apartment</td>\n",
       "      <td>Private room</td>\n",
       "      <td>1.224745</td>\n",
       "      <td>1.000000</td>\n",
       "      <td>0.693147</td>\n",
       "      <td>4.499810</td>\n",
       "    </tr>\n",
       "    <tr>\n",
       "      <th>8103</th>\n",
       "      <td>3.656861</td>\n",
       "      <td>-0.008169</td>\n",
       "      <td>House</td>\n",
       "      <td>Private room</td>\n",
       "      <td>1.000000</td>\n",
       "      <td>1.000000</td>\n",
       "      <td>1.098612</td>\n",
       "      <td>5.017280</td>\n",
       "    </tr>\n",
       "    <tr>\n",
       "      <th>8104</th>\n",
       "      <td>3.657694</td>\n",
       "      <td>-0.008167</td>\n",
       "      <td>Guest suite</td>\n",
       "      <td>Entire home/apt</td>\n",
       "      <td>1.000000</td>\n",
       "      <td>1.000000</td>\n",
       "      <td>1.098612</td>\n",
       "      <td>4.736198</td>\n",
       "    </tr>\n",
       "    <tr>\n",
       "      <th>8105</th>\n",
       "      <td>3.655959</td>\n",
       "      <td>-0.008166</td>\n",
       "      <td>House</td>\n",
       "      <td>Private room</td>\n",
       "      <td>0.000000</td>\n",
       "      <td>1.000000</td>\n",
       "      <td>0.693147</td>\n",
       "      <td>4.615121</td>\n",
       "    </tr>\n",
       "    <tr>\n",
       "      <th>8107</th>\n",
       "      <td>3.657853</td>\n",
       "      <td>-0.008168</td>\n",
       "      <td>Condominium</td>\n",
       "      <td>Entire home/apt</td>\n",
       "      <td>1.000000</td>\n",
       "      <td>1.000000</td>\n",
       "      <td>0.693147</td>\n",
       "      <td>5.303305</td>\n",
       "    </tr>\n",
       "    <tr>\n",
       "      <th>8108</th>\n",
       "      <td>3.656720</td>\n",
       "      <td>-0.008171</td>\n",
       "      <td>Hut</td>\n",
       "      <td>Private room</td>\n",
       "      <td>1.414214</td>\n",
       "      <td>1.000000</td>\n",
       "      <td>3.433987</td>\n",
       "      <td>4.248495</td>\n",
       "    </tr>\n",
       "    <tr>\n",
       "      <th>8109</th>\n",
       "      <td>3.657942</td>\n",
       "      <td>-0.008169</td>\n",
       "      <td>Apartment</td>\n",
       "      <td>Entire home/apt</td>\n",
       "      <td>1.000000</td>\n",
       "      <td>1.000000</td>\n",
       "      <td>3.433987</td>\n",
       "      <td>5.236442</td>\n",
       "    </tr>\n",
       "    <tr>\n",
       "      <th>8110</th>\n",
       "      <td>3.656022</td>\n",
       "      <td>-0.008167</td>\n",
       "      <td>House</td>\n",
       "      <td>Private room</td>\n",
       "      <td>1.000000</td>\n",
       "      <td>1.414214</td>\n",
       "      <td>0.693147</td>\n",
       "      <td>5.303305</td>\n",
       "    </tr>\n",
       "  </tbody>\n",
       "</table>\n",
       "</div>"
      ],
      "text/plain": [
       "      latitude  longitude property_type        room_type  bathrooms  bedrooms  \\\n",
       "8086  3.657385  -0.008171     Apartment  Entire home/apt   1.000000  1.000000   \n",
       "8087  3.657784  -0.008168     Apartment  Entire home/apt   1.414214  1.414214   \n",
       "8088  3.657728  -0.008170     Apartment  Entire home/apt   1.000000  1.000000   \n",
       "8089  3.657800  -0.008168     Apartment  Entire home/apt   1.414214  1.414214   \n",
       "8090  3.658086  -0.008169     Apartment  Entire home/apt   1.000000  1.000000   \n",
       "8091  3.658098  -0.008170     Apartment  Entire home/apt   1.000000  1.000000   \n",
       "8092  3.658133  -0.008170     Apartment  Entire home/apt   1.000000  1.000000   \n",
       "8095  3.656282  -0.008166         House     Private room   1.000000  1.000000   \n",
       "8097  3.656282  -0.008166         House     Private room   1.000000  1.000000   \n",
       "8099  3.658131  -0.008170   Condominium  Entire home/apt   1.224745  1.000000   \n",
       "8100  3.657970  -0.008169     Apartment  Entire home/apt   1.000000  1.414214   \n",
       "8101  3.657387  -0.008169     Apartment  Entire home/apt   1.000000  0.000000   \n",
       "8102  3.656624  -0.008165     Apartment     Private room   1.224745  1.000000   \n",
       "8103  3.656861  -0.008169         House     Private room   1.000000  1.000000   \n",
       "8104  3.657694  -0.008167   Guest suite  Entire home/apt   1.000000  1.000000   \n",
       "8105  3.655959  -0.008166         House     Private room   0.000000  1.000000   \n",
       "8107  3.657853  -0.008168   Condominium  Entire home/apt   1.000000  1.000000   \n",
       "8108  3.656720  -0.008171           Hut     Private room   1.414214  1.000000   \n",
       "8109  3.657942  -0.008169     Apartment  Entire home/apt   1.000000  1.000000   \n",
       "8110  3.656022  -0.008167         House     Private room   1.000000  1.414214   \n",
       "\n",
       "      minimum_nights     price  \n",
       "8086        3.433987  5.583496  \n",
       "8087        3.433987  6.077642  \n",
       "8088        3.433987  5.609472  \n",
       "8089        3.433987  6.008813  \n",
       "8090        3.433987  5.564520  \n",
       "8091        3.433987  5.808142  \n",
       "8092        3.433987  5.828946  \n",
       "8095        3.433987  4.262680  \n",
       "8097        3.433987  4.248495  \n",
       "8099        0.693147  5.703782  \n",
       "8100        3.931826  4.615121  \n",
       "8101        1.098612  5.525453  \n",
       "8102        0.693147  4.499810  \n",
       "8103        1.098612  5.017280  \n",
       "8104        1.098612  4.736198  \n",
       "8105        0.693147  4.615121  \n",
       "8107        0.693147  5.303305  \n",
       "8108        3.433987  4.248495  \n",
       "8109        3.433987  5.236442  \n",
       "8110        0.693147  5.303305  "
      ]
     },
     "execution_count": 53,
     "metadata": {},
     "output_type": "execute_result"
    }
   ],
   "source": [
    "properties_filter.tail(20)"
   ]
  },
  {
   "cell_type": "code",
   "execution_count": 54,
   "metadata": {},
   "outputs": [],
   "source": [
    "count_prop = properties_filter['property_type'].value_counts()"
   ]
  },
  {
   "cell_type": "code",
   "execution_count": 55,
   "metadata": {},
   "outputs": [
    {
     "data": {
      "text/plain": [
       "Other                23\n",
       "Bungalow             16\n",
       "Bed and breakfast    15\n",
       "Cottage              12\n",
       "Resort               10\n",
       "Villa                 9\n",
       "Castle                4\n",
       "Cabin                 3\n",
       "Tiny house            3\n",
       "Earth house           1\n",
       "Dome house            1\n",
       "Camper/RV             1\n",
       "Hut                   1\n",
       "In-law                1\n",
       "Name: property_type, dtype: int64"
      ]
     },
     "execution_count": 55,
     "metadata": {},
     "output_type": "execute_result"
    }
   ],
   "source": [
    "count_prop[count_prop < 25]"
   ]
  },
  {
   "cell_type": "code",
   "execution_count": 56,
   "metadata": {},
   "outputs": [
    {
     "data": {
      "text/html": [
       "<div>\n",
       "<style scoped>\n",
       "    .dataframe tbody tr th:only-of-type {\n",
       "        vertical-align: middle;\n",
       "    }\n",
       "\n",
       "    .dataframe tbody tr th {\n",
       "        vertical-align: top;\n",
       "    }\n",
       "\n",
       "    .dataframe thead th {\n",
       "        text-align: right;\n",
       "    }\n",
       "</style>\n",
       "<table border=\"1\" class=\"dataframe\">\n",
       "  <thead>\n",
       "    <tr style=\"text-align: right;\">\n",
       "      <th></th>\n",
       "      <th>latitude</th>\n",
       "      <th>longitude</th>\n",
       "      <th>property_type</th>\n",
       "      <th>room_type</th>\n",
       "      <th>bathrooms</th>\n",
       "      <th>bedrooms</th>\n",
       "      <th>minimum_nights</th>\n",
       "      <th>price</th>\n",
       "    </tr>\n",
       "  </thead>\n",
       "  <tbody>\n",
       "    <tr>\n",
       "      <th>2662</th>\n",
       "      <td>3.656267</td>\n",
       "      <td>-0.008171</td>\n",
       "      <td>Villa</td>\n",
       "      <td>Private room</td>\n",
       "      <td>1.000000</td>\n",
       "      <td>1.0</td>\n",
       "      <td>0.693147</td>\n",
       "      <td>4.605170</td>\n",
       "    </tr>\n",
       "    <tr>\n",
       "      <th>5524</th>\n",
       "      <td>3.658544</td>\n",
       "      <td>-0.008167</td>\n",
       "      <td>Villa</td>\n",
       "      <td>Private room</td>\n",
       "      <td>1.000000</td>\n",
       "      <td>1.0</td>\n",
       "      <td>0.693147</td>\n",
       "      <td>5.303305</td>\n",
       "    </tr>\n",
       "    <tr>\n",
       "      <th>5525</th>\n",
       "      <td>3.658548</td>\n",
       "      <td>-0.008167</td>\n",
       "      <td>Villa</td>\n",
       "      <td>Private room</td>\n",
       "      <td>1.000000</td>\n",
       "      <td>1.0</td>\n",
       "      <td>0.693147</td>\n",
       "      <td>5.638355</td>\n",
       "    </tr>\n",
       "    <tr>\n",
       "      <th>5526</th>\n",
       "      <td>3.658532</td>\n",
       "      <td>-0.008167</td>\n",
       "      <td>Villa</td>\n",
       "      <td>Private room</td>\n",
       "      <td>1.000000</td>\n",
       "      <td>1.0</td>\n",
       "      <td>0.693147</td>\n",
       "      <td>5.525453</td>\n",
       "    </tr>\n",
       "    <tr>\n",
       "      <th>5527</th>\n",
       "      <td>3.658563</td>\n",
       "      <td>-0.008167</td>\n",
       "      <td>Villa</td>\n",
       "      <td>Private room</td>\n",
       "      <td>1.000000</td>\n",
       "      <td>1.0</td>\n",
       "      <td>0.693147</td>\n",
       "      <td>5.707110</td>\n",
       "    </tr>\n",
       "    <tr>\n",
       "      <th>6041</th>\n",
       "      <td>3.658432</td>\n",
       "      <td>-0.008169</td>\n",
       "      <td>Villa</td>\n",
       "      <td>Shared room</td>\n",
       "      <td>1.414214</td>\n",
       "      <td>1.0</td>\n",
       "      <td>3.433987</td>\n",
       "      <td>3.526361</td>\n",
       "    </tr>\n",
       "    <tr>\n",
       "      <th>6042</th>\n",
       "      <td>3.658440</td>\n",
       "      <td>-0.008169</td>\n",
       "      <td>Villa</td>\n",
       "      <td>Shared room</td>\n",
       "      <td>1.414214</td>\n",
       "      <td>1.0</td>\n",
       "      <td>3.465736</td>\n",
       "      <td>3.465736</td>\n",
       "    </tr>\n",
       "    <tr>\n",
       "      <th>6310</th>\n",
       "      <td>3.658558</td>\n",
       "      <td>-0.008169</td>\n",
       "      <td>Villa</td>\n",
       "      <td>Shared room</td>\n",
       "      <td>1.414214</td>\n",
       "      <td>1.0</td>\n",
       "      <td>3.465736</td>\n",
       "      <td>4.394449</td>\n",
       "    </tr>\n",
       "    <tr>\n",
       "      <th>6311</th>\n",
       "      <td>3.658553</td>\n",
       "      <td>-0.008169</td>\n",
       "      <td>Villa</td>\n",
       "      <td>Shared room</td>\n",
       "      <td>1.414214</td>\n",
       "      <td>1.0</td>\n",
       "      <td>3.433987</td>\n",
       "      <td>3.637586</td>\n",
       "    </tr>\n",
       "  </tbody>\n",
       "</table>\n",
       "</div>"
      ],
      "text/plain": [
       "      latitude  longitude property_type     room_type  bathrooms  bedrooms  \\\n",
       "2662  3.656267  -0.008171         Villa  Private room   1.000000       1.0   \n",
       "5524  3.658544  -0.008167         Villa  Private room   1.000000       1.0   \n",
       "5525  3.658548  -0.008167         Villa  Private room   1.000000       1.0   \n",
       "5526  3.658532  -0.008167         Villa  Private room   1.000000       1.0   \n",
       "5527  3.658563  -0.008167         Villa  Private room   1.000000       1.0   \n",
       "6041  3.658432  -0.008169         Villa   Shared room   1.414214       1.0   \n",
       "6042  3.658440  -0.008169         Villa   Shared room   1.414214       1.0   \n",
       "6310  3.658558  -0.008169         Villa   Shared room   1.414214       1.0   \n",
       "6311  3.658553  -0.008169         Villa   Shared room   1.414214       1.0   \n",
       "\n",
       "      minimum_nights     price  \n",
       "2662        0.693147  4.605170  \n",
       "5524        0.693147  5.303305  \n",
       "5525        0.693147  5.638355  \n",
       "5526        0.693147  5.525453  \n",
       "5527        0.693147  5.707110  \n",
       "6041        3.433987  3.526361  \n",
       "6042        3.465736  3.465736  \n",
       "6310        3.465736  4.394449  \n",
       "6311        3.433987  3.637586  "
      ]
     },
     "execution_count": 56,
     "metadata": {},
     "output_type": "execute_result"
    }
   ],
   "source": [
    "properties_filter[properties_filter['property_type'] == 'Villa']"
   ]
  },
  {
   "cell_type": "code",
   "execution_count": 57,
   "metadata": {},
   "outputs": [],
   "source": [
    "prope = properties_filter['property_type']\n",
    "\n",
    "\n",
    "mask = prope.isin(count_prop[count_prop < 25].index)\n",
    "\n",
    "\n",
    "prope[mask] = 'Other'\n",
    "# properties_filter['property_type'] = prope.mask\n"
   ]
  },
  {
   "cell_type": "code",
   "execution_count": 58,
   "metadata": {},
   "outputs": [],
   "source": [
    "prope2 = prope.value_counts() "
   ]
  },
  {
   "cell_type": "code",
   "execution_count": 59,
   "metadata": {},
   "outputs": [
    {
     "data": {
      "text/plain": [
       "CategoricalIndex(['Earth house', 'Dome house', 'Cottage', 'Castle', 'Hut',\n",
       "                  'In-law', 'Camper/RV', 'Cabin', 'Resort', 'Bungalow',\n",
       "                  'Tiny house', 'Bed and breakfast', 'Villa'],\n",
       "                 categories=['Aparthotel', 'Apartment', 'Bed and breakfast', 'Boutique hotel', 'Bungalow', 'Cabin', 'Camper/RV', 'Castle', ...], ordered=False, dtype='category')"
      ]
     },
     "execution_count": 59,
     "metadata": {},
     "output_type": "execute_result"
    }
   ],
   "source": [
    "prope2[prope2 < 25].index"
   ]
  },
  {
   "cell_type": "code",
   "execution_count": 60,
   "metadata": {},
   "outputs": [
    {
     "data": {
      "text/plain": [
       "0         Apartment\n",
       "1             House\n",
       "2         Apartment\n",
       "6       Condominium\n",
       "7             House\n",
       "           ...     \n",
       "8105          House\n",
       "8107    Condominium\n",
       "8108          Other\n",
       "8109      Apartment\n",
       "8110          House\n",
       "Name: property_type, Length: 7252, dtype: category\n",
       "Categories (26, object): ['Aparthotel', 'Apartment', 'Bed and breakfast', 'Boutique hotel', ..., 'Serviced apartment', 'Tiny house', 'Townhouse', 'Villa']"
      ]
     },
     "execution_count": 60,
     "metadata": {},
     "output_type": "execute_result"
    }
   ],
   "source": [
    "prope3 =prope.copy()\n",
    "prope3"
   ]
  },
  {
   "cell_type": "code",
   "execution_count": 61,
   "metadata": {},
   "outputs": [],
   "source": [
    "# prope4 = pd.CategoricalIndex.remove_unused_categories(properties_filter)\n",
    "# prope4"
   ]
  },
  {
   "cell_type": "code",
   "execution_count": 62,
   "metadata": {},
   "outputs": [
    {
     "data": {
      "text/plain": [
       "Index(['property_type'], dtype='object')"
      ]
     },
     "execution_count": 62,
     "metadata": {},
     "output_type": "execute_result"
    }
   ],
   "source": [
    "pd.DataFrame(prope).columns"
   ]
  },
  {
   "cell_type": "code",
   "execution_count": 63,
   "metadata": {},
   "outputs": [
    {
     "data": {
      "text/plain": [
       "Apartment             3013\n",
       "House                 1967\n",
       "Condominium            794\n",
       "Guest suite            570\n",
       "Boutique hotel         246\n",
       "Hotel                  137\n",
       "Townhouse              122\n",
       "Serviced apartment     110\n",
       "Other                  100\n",
       "Loft                    75\n",
       "Hostel                  52\n",
       "Guesthouse              39\n",
       "Aparthotel              27\n",
       "Earth house              0\n",
       "Dome house               0\n",
       "Cottage                  0\n",
       "Castle                   0\n",
       "Hut                      0\n",
       "In-law                   0\n",
       "Camper/RV                0\n",
       "Cabin                    0\n",
       "Resort                   0\n",
       "Bungalow                 0\n",
       "Tiny house               0\n",
       "Bed and breakfast        0\n",
       "Villa                    0\n",
       "Name: property_type, dtype: int64"
      ]
     },
     "execution_count": 63,
     "metadata": {},
     "output_type": "execute_result"
    }
   ],
   "source": [
    "prope.value_counts()"
   ]
  },
  {
   "cell_type": "code",
   "execution_count": 64,
   "metadata": {},
   "outputs": [
    {
     "data": {
      "text/plain": [
       "['Apartment', 'House', 'Condominium', 'Townhouse', 'Loft', ..., 'Guesthouse', 'Serviced apartment', 'Hotel', 'Boutique hotel', 'Aparthotel']\n",
       "Length: 13\n",
       "Categories (26, object): ['Aparthotel', 'Apartment', 'Bed and breakfast', 'Boutique hotel', ..., 'Serviced apartment', 'Tiny house', 'Townhouse', 'Villa']"
      ]
     },
     "execution_count": 64,
     "metadata": {},
     "output_type": "execute_result"
    }
   ],
   "source": [
    "properties_filter['property_type'].unique()"
   ]
  },
  {
   "cell_type": "code",
   "execution_count": 65,
   "metadata": {},
   "outputs": [
    {
     "data": {
      "text/html": [
       "<div>\n",
       "<style scoped>\n",
       "    .dataframe tbody tr th:only-of-type {\n",
       "        vertical-align: middle;\n",
       "    }\n",
       "\n",
       "    .dataframe tbody tr th {\n",
       "        vertical-align: top;\n",
       "    }\n",
       "\n",
       "    .dataframe thead th {\n",
       "        text-align: right;\n",
       "    }\n",
       "</style>\n",
       "<table border=\"1\" class=\"dataframe\">\n",
       "  <thead>\n",
       "    <tr style=\"text-align: right;\">\n",
       "      <th></th>\n",
       "      <th>latitude</th>\n",
       "      <th>longitude</th>\n",
       "      <th>property_type</th>\n",
       "      <th>room_type</th>\n",
       "      <th>bathrooms</th>\n",
       "      <th>bedrooms</th>\n",
       "      <th>minimum_nights</th>\n",
       "      <th>price</th>\n",
       "    </tr>\n",
       "  </thead>\n",
       "  <tbody>\n",
       "    <tr>\n",
       "      <th>73</th>\n",
       "      <td>3.656927</td>\n",
       "      <td>-0.008169</td>\n",
       "      <td>Other</td>\n",
       "      <td>Private room</td>\n",
       "      <td>1.000000</td>\n",
       "      <td>1.000000</td>\n",
       "      <td>3.433987</td>\n",
       "      <td>5.017280</td>\n",
       "    </tr>\n",
       "    <tr>\n",
       "      <th>230</th>\n",
       "      <td>3.657465</td>\n",
       "      <td>-0.008167</td>\n",
       "      <td>Other</td>\n",
       "      <td>Private room</td>\n",
       "      <td>1.000000</td>\n",
       "      <td>1.000000</td>\n",
       "      <td>1.386294</td>\n",
       "      <td>4.605170</td>\n",
       "    </tr>\n",
       "    <tr>\n",
       "      <th>424</th>\n",
       "      <td>3.657294</td>\n",
       "      <td>-0.008169</td>\n",
       "      <td>Other</td>\n",
       "      <td>Private room</td>\n",
       "      <td>1.000000</td>\n",
       "      <td>1.000000</td>\n",
       "      <td>1.098612</td>\n",
       "      <td>4.394449</td>\n",
       "    </tr>\n",
       "    <tr>\n",
       "      <th>440</th>\n",
       "      <td>3.656355</td>\n",
       "      <td>-0.008167</td>\n",
       "      <td>Other</td>\n",
       "      <td>Entire home/apt</td>\n",
       "      <td>1.000000</td>\n",
       "      <td>1.414214</td>\n",
       "      <td>1.609438</td>\n",
       "      <td>5.198497</td>\n",
       "    </tr>\n",
       "    <tr>\n",
       "      <th>447</th>\n",
       "      <td>3.656551</td>\n",
       "      <td>-0.008167</td>\n",
       "      <td>Other</td>\n",
       "      <td>Private room</td>\n",
       "      <td>1.000000</td>\n",
       "      <td>1.000000</td>\n",
       "      <td>3.433987</td>\n",
       "      <td>3.713572</td>\n",
       "    </tr>\n",
       "    <tr>\n",
       "      <th>...</th>\n",
       "      <td>...</td>\n",
       "      <td>...</td>\n",
       "      <td>...</td>\n",
       "      <td>...</td>\n",
       "      <td>...</td>\n",
       "      <td>...</td>\n",
       "      <td>...</td>\n",
       "      <td>...</td>\n",
       "    </tr>\n",
       "    <tr>\n",
       "      <th>7801</th>\n",
       "      <td>3.656586</td>\n",
       "      <td>-0.008166</td>\n",
       "      <td>Other</td>\n",
       "      <td>Entire home/apt</td>\n",
       "      <td>1.224745</td>\n",
       "      <td>1.000000</td>\n",
       "      <td>3.465736</td>\n",
       "      <td>4.330733</td>\n",
       "    </tr>\n",
       "    <tr>\n",
       "      <th>7810</th>\n",
       "      <td>3.657712</td>\n",
       "      <td>-0.008168</td>\n",
       "      <td>Other</td>\n",
       "      <td>Private room</td>\n",
       "      <td>1.000000</td>\n",
       "      <td>1.000000</td>\n",
       "      <td>1.609438</td>\n",
       "      <td>4.418841</td>\n",
       "    </tr>\n",
       "    <tr>\n",
       "      <th>7895</th>\n",
       "      <td>3.658408</td>\n",
       "      <td>-0.008168</td>\n",
       "      <td>Other</td>\n",
       "      <td>Entire home/apt</td>\n",
       "      <td>1.000000</td>\n",
       "      <td>1.414214</td>\n",
       "      <td>3.433987</td>\n",
       "      <td>5.198497</td>\n",
       "    </tr>\n",
       "    <tr>\n",
       "      <th>8007</th>\n",
       "      <td>3.657536</td>\n",
       "      <td>-0.008167</td>\n",
       "      <td>Other</td>\n",
       "      <td>Entire home/apt</td>\n",
       "      <td>1.224745</td>\n",
       "      <td>1.414214</td>\n",
       "      <td>1.098612</td>\n",
       "      <td>5.438079</td>\n",
       "    </tr>\n",
       "    <tr>\n",
       "      <th>8108</th>\n",
       "      <td>3.656720</td>\n",
       "      <td>-0.008171</td>\n",
       "      <td>Other</td>\n",
       "      <td>Private room</td>\n",
       "      <td>1.414214</td>\n",
       "      <td>1.000000</td>\n",
       "      <td>3.433987</td>\n",
       "      <td>4.248495</td>\n",
       "    </tr>\n",
       "  </tbody>\n",
       "</table>\n",
       "<p>100 rows × 8 columns</p>\n",
       "</div>"
      ],
      "text/plain": [
       "      latitude  longitude property_type        room_type  bathrooms  bedrooms  \\\n",
       "73    3.656927  -0.008169         Other     Private room   1.000000  1.000000   \n",
       "230   3.657465  -0.008167         Other     Private room   1.000000  1.000000   \n",
       "424   3.657294  -0.008169         Other     Private room   1.000000  1.000000   \n",
       "440   3.656355  -0.008167         Other  Entire home/apt   1.000000  1.414214   \n",
       "447   3.656551  -0.008167         Other     Private room   1.000000  1.000000   \n",
       "...        ...        ...           ...              ...        ...       ...   \n",
       "7801  3.656586  -0.008166         Other  Entire home/apt   1.224745  1.000000   \n",
       "7810  3.657712  -0.008168         Other     Private room   1.000000  1.000000   \n",
       "7895  3.658408  -0.008168         Other  Entire home/apt   1.000000  1.414214   \n",
       "8007  3.657536  -0.008167         Other  Entire home/apt   1.224745  1.414214   \n",
       "8108  3.656720  -0.008171         Other     Private room   1.414214  1.000000   \n",
       "\n",
       "      minimum_nights     price  \n",
       "73          3.433987  5.017280  \n",
       "230         1.386294  4.605170  \n",
       "424         1.098612  4.394449  \n",
       "440         1.609438  5.198497  \n",
       "447         3.433987  3.713572  \n",
       "...              ...       ...  \n",
       "7801        3.465736  4.330733  \n",
       "7810        1.609438  4.418841  \n",
       "7895        3.433987  5.198497  \n",
       "8007        1.098612  5.438079  \n",
       "8108        3.433987  4.248495  \n",
       "\n",
       "[100 rows x 8 columns]"
      ]
     },
     "execution_count": 65,
     "metadata": {},
     "output_type": "execute_result"
    }
   ],
   "source": [
    "properties_filter[mask]"
   ]
  },
  {
   "cell_type": "code",
   "execution_count": 66,
   "metadata": {},
   "outputs": [],
   "source": [
    "# Encoding categorical values\n",
    "properties_filter = pd.get_dummies(properties_filter, columns = ['property_type', 'room_type'], drop_first=True)"
   ]
  },
  {
   "cell_type": "code",
   "execution_count": 67,
   "metadata": {},
   "outputs": [
    {
     "data": {
      "text/html": [
       "<div>\n",
       "<style scoped>\n",
       "    .dataframe tbody tr th:only-of-type {\n",
       "        vertical-align: middle;\n",
       "    }\n",
       "\n",
       "    .dataframe tbody tr th {\n",
       "        vertical-align: top;\n",
       "    }\n",
       "\n",
       "    .dataframe thead th {\n",
       "        text-align: right;\n",
       "    }\n",
       "</style>\n",
       "<table border=\"1\" class=\"dataframe\">\n",
       "  <thead>\n",
       "    <tr style=\"text-align: right;\">\n",
       "      <th></th>\n",
       "      <th>latitude</th>\n",
       "      <th>longitude</th>\n",
       "      <th>bathrooms</th>\n",
       "      <th>bedrooms</th>\n",
       "      <th>minimum_nights</th>\n",
       "      <th>price</th>\n",
       "      <th>property_type_Apartment</th>\n",
       "      <th>property_type_Bed and breakfast</th>\n",
       "      <th>property_type_Boutique hotel</th>\n",
       "      <th>property_type_Bungalow</th>\n",
       "      <th>...</th>\n",
       "      <th>property_type_Loft</th>\n",
       "      <th>property_type_Other</th>\n",
       "      <th>property_type_Resort</th>\n",
       "      <th>property_type_Serviced apartment</th>\n",
       "      <th>property_type_Tiny house</th>\n",
       "      <th>property_type_Townhouse</th>\n",
       "      <th>property_type_Villa</th>\n",
       "      <th>room_type_Hotel room</th>\n",
       "      <th>room_type_Private room</th>\n",
       "      <th>room_type_Shared room</th>\n",
       "    </tr>\n",
       "  </thead>\n",
       "  <tbody>\n",
       "    <tr>\n",
       "      <th>0</th>\n",
       "      <td>3.657629</td>\n",
       "      <td>-0.008168</td>\n",
       "      <td>1.000000</td>\n",
       "      <td>1.000000</td>\n",
       "      <td>0.693147</td>\n",
       "      <td>5.141664</td>\n",
       "      <td>1</td>\n",
       "      <td>0</td>\n",
       "      <td>0</td>\n",
       "      <td>0</td>\n",
       "      <td>...</td>\n",
       "      <td>0</td>\n",
       "      <td>0</td>\n",
       "      <td>0</td>\n",
       "      <td>0</td>\n",
       "      <td>0</td>\n",
       "      <td>0</td>\n",
       "      <td>0</td>\n",
       "      <td>0</td>\n",
       "      <td>0</td>\n",
       "      <td>0</td>\n",
       "    </tr>\n",
       "    <tr>\n",
       "      <th>1</th>\n",
       "      <td>3.657234</td>\n",
       "      <td>-0.008166</td>\n",
       "      <td>1.000000</td>\n",
       "      <td>1.000000</td>\n",
       "      <td>0.693147</td>\n",
       "      <td>4.605170</td>\n",
       "      <td>0</td>\n",
       "      <td>0</td>\n",
       "      <td>0</td>\n",
       "      <td>0</td>\n",
       "      <td>...</td>\n",
       "      <td>0</td>\n",
       "      <td>0</td>\n",
       "      <td>0</td>\n",
       "      <td>0</td>\n",
       "      <td>0</td>\n",
       "      <td>0</td>\n",
       "      <td>0</td>\n",
       "      <td>0</td>\n",
       "      <td>1</td>\n",
       "      <td>0</td>\n",
       "    </tr>\n",
       "    <tr>\n",
       "      <th>2</th>\n",
       "      <td>3.657005</td>\n",
       "      <td>-0.008169</td>\n",
       "      <td>1.000000</td>\n",
       "      <td>1.414214</td>\n",
       "      <td>3.433987</td>\n",
       "      <td>5.463832</td>\n",
       "      <td>1</td>\n",
       "      <td>0</td>\n",
       "      <td>0</td>\n",
       "      <td>0</td>\n",
       "      <td>...</td>\n",
       "      <td>0</td>\n",
       "      <td>0</td>\n",
       "      <td>0</td>\n",
       "      <td>0</td>\n",
       "      <td>0</td>\n",
       "      <td>0</td>\n",
       "      <td>0</td>\n",
       "      <td>0</td>\n",
       "      <td>0</td>\n",
       "      <td>0</td>\n",
       "    </tr>\n",
       "    <tr>\n",
       "      <th>6</th>\n",
       "      <td>3.657368</td>\n",
       "      <td>-0.008168</td>\n",
       "      <td>1.000000</td>\n",
       "      <td>1.000000</td>\n",
       "      <td>0.693147</td>\n",
       "      <td>4.941642</td>\n",
       "      <td>0</td>\n",
       "      <td>0</td>\n",
       "      <td>0</td>\n",
       "      <td>0</td>\n",
       "      <td>...</td>\n",
       "      <td>0</td>\n",
       "      <td>0</td>\n",
       "      <td>0</td>\n",
       "      <td>0</td>\n",
       "      <td>0</td>\n",
       "      <td>0</td>\n",
       "      <td>0</td>\n",
       "      <td>0</td>\n",
       "      <td>1</td>\n",
       "      <td>0</td>\n",
       "    </tr>\n",
       "    <tr>\n",
       "      <th>7</th>\n",
       "      <td>3.657456</td>\n",
       "      <td>-0.008170</td>\n",
       "      <td>1.000000</td>\n",
       "      <td>1.000000</td>\n",
       "      <td>0.693147</td>\n",
       "      <td>4.912655</td>\n",
       "      <td>0</td>\n",
       "      <td>0</td>\n",
       "      <td>0</td>\n",
       "      <td>0</td>\n",
       "      <td>...</td>\n",
       "      <td>0</td>\n",
       "      <td>0</td>\n",
       "      <td>0</td>\n",
       "      <td>0</td>\n",
       "      <td>0</td>\n",
       "      <td>0</td>\n",
       "      <td>0</td>\n",
       "      <td>0</td>\n",
       "      <td>1</td>\n",
       "      <td>0</td>\n",
       "    </tr>\n",
       "    <tr>\n",
       "      <th>...</th>\n",
       "      <td>...</td>\n",
       "      <td>...</td>\n",
       "      <td>...</td>\n",
       "      <td>...</td>\n",
       "      <td>...</td>\n",
       "      <td>...</td>\n",
       "      <td>...</td>\n",
       "      <td>...</td>\n",
       "      <td>...</td>\n",
       "      <td>...</td>\n",
       "      <td>...</td>\n",
       "      <td>...</td>\n",
       "      <td>...</td>\n",
       "      <td>...</td>\n",
       "      <td>...</td>\n",
       "      <td>...</td>\n",
       "      <td>...</td>\n",
       "      <td>...</td>\n",
       "      <td>...</td>\n",
       "      <td>...</td>\n",
       "      <td>...</td>\n",
       "    </tr>\n",
       "    <tr>\n",
       "      <th>8105</th>\n",
       "      <td>3.655959</td>\n",
       "      <td>-0.008166</td>\n",
       "      <td>0.000000</td>\n",
       "      <td>1.000000</td>\n",
       "      <td>0.693147</td>\n",
       "      <td>4.615121</td>\n",
       "      <td>0</td>\n",
       "      <td>0</td>\n",
       "      <td>0</td>\n",
       "      <td>0</td>\n",
       "      <td>...</td>\n",
       "      <td>0</td>\n",
       "      <td>0</td>\n",
       "      <td>0</td>\n",
       "      <td>0</td>\n",
       "      <td>0</td>\n",
       "      <td>0</td>\n",
       "      <td>0</td>\n",
       "      <td>0</td>\n",
       "      <td>1</td>\n",
       "      <td>0</td>\n",
       "    </tr>\n",
       "    <tr>\n",
       "      <th>8107</th>\n",
       "      <td>3.657853</td>\n",
       "      <td>-0.008168</td>\n",
       "      <td>1.000000</td>\n",
       "      <td>1.000000</td>\n",
       "      <td>0.693147</td>\n",
       "      <td>5.303305</td>\n",
       "      <td>0</td>\n",
       "      <td>0</td>\n",
       "      <td>0</td>\n",
       "      <td>0</td>\n",
       "      <td>...</td>\n",
       "      <td>0</td>\n",
       "      <td>0</td>\n",
       "      <td>0</td>\n",
       "      <td>0</td>\n",
       "      <td>0</td>\n",
       "      <td>0</td>\n",
       "      <td>0</td>\n",
       "      <td>0</td>\n",
       "      <td>0</td>\n",
       "      <td>0</td>\n",
       "    </tr>\n",
       "    <tr>\n",
       "      <th>8108</th>\n",
       "      <td>3.656720</td>\n",
       "      <td>-0.008171</td>\n",
       "      <td>1.414214</td>\n",
       "      <td>1.000000</td>\n",
       "      <td>3.433987</td>\n",
       "      <td>4.248495</td>\n",
       "      <td>0</td>\n",
       "      <td>0</td>\n",
       "      <td>0</td>\n",
       "      <td>0</td>\n",
       "      <td>...</td>\n",
       "      <td>0</td>\n",
       "      <td>1</td>\n",
       "      <td>0</td>\n",
       "      <td>0</td>\n",
       "      <td>0</td>\n",
       "      <td>0</td>\n",
       "      <td>0</td>\n",
       "      <td>0</td>\n",
       "      <td>1</td>\n",
       "      <td>0</td>\n",
       "    </tr>\n",
       "    <tr>\n",
       "      <th>8109</th>\n",
       "      <td>3.657942</td>\n",
       "      <td>-0.008169</td>\n",
       "      <td>1.000000</td>\n",
       "      <td>1.000000</td>\n",
       "      <td>3.433987</td>\n",
       "      <td>5.236442</td>\n",
       "      <td>1</td>\n",
       "      <td>0</td>\n",
       "      <td>0</td>\n",
       "      <td>0</td>\n",
       "      <td>...</td>\n",
       "      <td>0</td>\n",
       "      <td>0</td>\n",
       "      <td>0</td>\n",
       "      <td>0</td>\n",
       "      <td>0</td>\n",
       "      <td>0</td>\n",
       "      <td>0</td>\n",
       "      <td>0</td>\n",
       "      <td>0</td>\n",
       "      <td>0</td>\n",
       "    </tr>\n",
       "    <tr>\n",
       "      <th>8110</th>\n",
       "      <td>3.656022</td>\n",
       "      <td>-0.008167</td>\n",
       "      <td>1.000000</td>\n",
       "      <td>1.414214</td>\n",
       "      <td>0.693147</td>\n",
       "      <td>5.303305</td>\n",
       "      <td>0</td>\n",
       "      <td>0</td>\n",
       "      <td>0</td>\n",
       "      <td>0</td>\n",
       "      <td>...</td>\n",
       "      <td>0</td>\n",
       "      <td>0</td>\n",
       "      <td>0</td>\n",
       "      <td>0</td>\n",
       "      <td>0</td>\n",
       "      <td>0</td>\n",
       "      <td>0</td>\n",
       "      <td>0</td>\n",
       "      <td>1</td>\n",
       "      <td>0</td>\n",
       "    </tr>\n",
       "  </tbody>\n",
       "</table>\n",
       "<p>7252 rows × 34 columns</p>\n",
       "</div>"
      ],
      "text/plain": [
       "      latitude  longitude  bathrooms  bedrooms  minimum_nights     price  \\\n",
       "0     3.657629  -0.008168   1.000000  1.000000        0.693147  5.141664   \n",
       "1     3.657234  -0.008166   1.000000  1.000000        0.693147  4.605170   \n",
       "2     3.657005  -0.008169   1.000000  1.414214        3.433987  5.463832   \n",
       "6     3.657368  -0.008168   1.000000  1.000000        0.693147  4.941642   \n",
       "7     3.657456  -0.008170   1.000000  1.000000        0.693147  4.912655   \n",
       "...        ...        ...        ...       ...             ...       ...   \n",
       "8105  3.655959  -0.008166   0.000000  1.000000        0.693147  4.615121   \n",
       "8107  3.657853  -0.008168   1.000000  1.000000        0.693147  5.303305   \n",
       "8108  3.656720  -0.008171   1.414214  1.000000        3.433987  4.248495   \n",
       "8109  3.657942  -0.008169   1.000000  1.000000        3.433987  5.236442   \n",
       "8110  3.656022  -0.008167   1.000000  1.414214        0.693147  5.303305   \n",
       "\n",
       "      property_type_Apartment  property_type_Bed and breakfast  \\\n",
       "0                           1                                0   \n",
       "1                           0                                0   \n",
       "2                           1                                0   \n",
       "6                           0                                0   \n",
       "7                           0                                0   \n",
       "...                       ...                              ...   \n",
       "8105                        0                                0   \n",
       "8107                        0                                0   \n",
       "8108                        0                                0   \n",
       "8109                        1                                0   \n",
       "8110                        0                                0   \n",
       "\n",
       "      property_type_Boutique hotel  property_type_Bungalow  ...  \\\n",
       "0                                0                       0  ...   \n",
       "1                                0                       0  ...   \n",
       "2                                0                       0  ...   \n",
       "6                                0                       0  ...   \n",
       "7                                0                       0  ...   \n",
       "...                            ...                     ...  ...   \n",
       "8105                             0                       0  ...   \n",
       "8107                             0                       0  ...   \n",
       "8108                             0                       0  ...   \n",
       "8109                             0                       0  ...   \n",
       "8110                             0                       0  ...   \n",
       "\n",
       "      property_type_Loft  property_type_Other  property_type_Resort  \\\n",
       "0                      0                    0                     0   \n",
       "1                      0                    0                     0   \n",
       "2                      0                    0                     0   \n",
       "6                      0                    0                     0   \n",
       "7                      0                    0                     0   \n",
       "...                  ...                  ...                   ...   \n",
       "8105                   0                    0                     0   \n",
       "8107                   0                    0                     0   \n",
       "8108                   0                    1                     0   \n",
       "8109                   0                    0                     0   \n",
       "8110                   0                    0                     0   \n",
       "\n",
       "      property_type_Serviced apartment  property_type_Tiny house  \\\n",
       "0                                    0                         0   \n",
       "1                                    0                         0   \n",
       "2                                    0                         0   \n",
       "6                                    0                         0   \n",
       "7                                    0                         0   \n",
       "...                                ...                       ...   \n",
       "8105                                 0                         0   \n",
       "8107                                 0                         0   \n",
       "8108                                 0                         0   \n",
       "8109                                 0                         0   \n",
       "8110                                 0                         0   \n",
       "\n",
       "      property_type_Townhouse  property_type_Villa  room_type_Hotel room  \\\n",
       "0                           0                    0                     0   \n",
       "1                           0                    0                     0   \n",
       "2                           0                    0                     0   \n",
       "6                           0                    0                     0   \n",
       "7                           0                    0                     0   \n",
       "...                       ...                  ...                   ...   \n",
       "8105                        0                    0                     0   \n",
       "8107                        0                    0                     0   \n",
       "8108                        0                    0                     0   \n",
       "8109                        0                    0                     0   \n",
       "8110                        0                    0                     0   \n",
       "\n",
       "      room_type_Private room  room_type_Shared room  \n",
       "0                          0                      0  \n",
       "1                          1                      0  \n",
       "2                          0                      0  \n",
       "6                          1                      0  \n",
       "7                          1                      0  \n",
       "...                      ...                    ...  \n",
       "8105                       1                      0  \n",
       "8107                       0                      0  \n",
       "8108                       1                      0  \n",
       "8109                       0                      0  \n",
       "8110                       1                      0  \n",
       "\n",
       "[7252 rows x 34 columns]"
      ]
     },
     "execution_count": 67,
     "metadata": {},
     "output_type": "execute_result"
    }
   ],
   "source": [
    "properties_filter"
   ]
  },
  {
   "cell_type": "code",
   "execution_count": 68,
   "metadata": {},
   "outputs": [
    {
     "data": {
      "text/plain": [
       "34"
      ]
     },
     "execution_count": 68,
     "metadata": {},
     "output_type": "execute_result"
    }
   ],
   "source": [
    "len(properties_filter.columns)"
   ]
  },
  {
   "cell_type": "code",
   "execution_count": 69,
   "metadata": {},
   "outputs": [
    {
     "data": {
      "text/plain": [
       "array([[ 3.65682387, -0.00816503,  1.41421356, ...,  0.        ,\n",
       "         0.        ,  0.        ],\n",
       "       [ 3.65616616, -0.00816538,  1.        , ...,  0.        ,\n",
       "         1.        ,  0.        ],\n",
       "       [ 3.65790052, -0.00816848,  1.        , ...,  0.        ,\n",
       "         0.        ,  0.        ],\n",
       "       ...,\n",
       "       [ 3.6578064 , -0.00816896,  1.        , ...,  0.        ,\n",
       "         0.        ,  0.        ],\n",
       "       [ 3.65814701, -0.00816953,  1.        , ...,  1.        ,\n",
       "         0.        ,  0.        ],\n",
       "       [ 3.6566731 , -0.00816672,  1.        , ...,  0.        ,\n",
       "         1.        ,  0.        ]])"
      ]
     },
     "execution_count": 69,
     "metadata": {},
     "output_type": "execute_result"
    }
   ],
   "source": [
    "# choosing features and target variables\n",
    "\n",
    "filter_x = properties_filter.drop('price', axis=1).values\n",
    "filter_y = properties_filter['price'].values\n",
    "\n",
    "filter_x_train, filter_x_test, filter_y_train, filter_y_test = train_test_split(filter_x, filter_y, test_size=0.2, random_state=42)\n",
    "filter_x_train\n"
   ]
  },
  {
   "cell_type": "code",
   "execution_count": 70,
   "metadata": {},
   "outputs": [
    {
     "data": {
      "text/plain": [
       "array([[-1.18645531,  1.57554596,  1.71347489, ..., -0.1458239 ,\n",
       "        -0.77061414, -0.16044493],\n",
       "       [-2.29742072,  1.38203713, -0.43179744, ..., -0.1458239 ,\n",
       "         1.2976663 , -0.16044493],\n",
       "       [ 0.6321705 , -0.30761459, -0.43179744, ..., -0.1458239 ,\n",
       "        -0.77061414, -0.16044493],\n",
       "       ...,\n",
       "       [ 0.47317878, -0.56596985, -0.43179744, ..., -0.1458239 ,\n",
       "        -0.77061414, -0.16044493],\n",
       "       [ 1.0485272 , -0.87741686, -0.43179744, ...,  6.85758631,\n",
       "        -0.77061414, -0.16044493],\n",
       "       [-1.4411233 ,  0.65395902, -0.43179744, ..., -0.1458239 ,\n",
       "         1.2976663 , -0.16044493]])"
      ]
     },
     "execution_count": 70,
     "metadata": {},
     "output_type": "execute_result"
    }
   ],
   "source": [
    "from sklearn.preprocessing import RobustScaler\n",
    "from sklearn.preprocessing import StandardScaler\n",
    "\n",
    "\n",
    "transformer = pd.DataFrame(StandardScaler().fit_transform(properties_filter), columns=properties_filter.columns)\n",
    "\n",
    "# choosing features and target variables\n",
    "\n",
    "transformer_filter_x = transformer.drop('price', axis=1).values\n",
    "transformer_filter_y = transformer['price'].values\n",
    "\n",
    "transformer_filter_x_train, transformer_filter_x_test, transformer_filter_y_train, transformer_filter_y_test = train_test_split(transformer_filter_x, transformer_filter_y, test_size=0.2, random_state=42)\n",
    "\n",
    "\n",
    "# transformer_y_train = RobustScaler().fit_transform(filter_y)\n",
    "# transformer_x_test = RobustScaler().fit_transform(filter_x_test)\n",
    "# transformer_y_test = RobustScaler().fit_transform(filter_y_test)\n",
    "transformer_filter_x_train"
   ]
  },
  {
   "cell_type": "code",
   "execution_count": 71,
   "metadata": {},
   "outputs": [
    {
     "data": {
      "text/plain": [
       "('Coefficients: [ 1.96679032e-01 -7.95182288e-02  1.08031054e-01  2.95464176e-01\\n -2.69908761e-01 -5.09451513e-02 -1.38777878e-17  1.11110114e-01\\n -5.55111512e-17  2.77555756e-17  5.55111512e-17  1.38777878e-17\\n  2.10894008e-02  1.38777878e-17  2.77555756e-17  2.77555756e-17\\n -7.28719610e-02 -1.30164910e-02 -5.24803484e-02  7.59827305e-02\\n -2.75856909e-02  0.00000000e+00  0.00000000e+00  2.71787332e-02\\n  1.12171004e-02  0.00000000e+00 -1.81326019e-02  0.00000000e+00\\n -1.19097348e-02  0.00000000e+00 -1.70549985e-01 -5.05858885e-01\\n -4.07149039e-01]',\n",
       " 'Intercept: -0.002592012293576627',\n",
       " 'MSE: 0.47716152067422635',\n",
       " 'R2 score: 0.5181042926421141')"
      ]
     },
     "execution_count": 71,
     "metadata": {},
     "output_type": "execute_result"
    }
   ],
   "source": [
    "linear_model(transformer_filter_x_train, transformer_filter_y_train, transformer_filter_x_test, transformer_filter_y_test)"
   ]
  },
  {
   "cell_type": "code",
   "execution_count": 72,
   "metadata": {},
   "outputs": [
    {
     "data": {
      "text/plain": [
       "('Coefficients: [ 1.86816416e+02 -2.43498325e+04  3.14627368e-01  3.84302911e-01\\n -1.26286783e-01 -5.81325196e-02 -7.70062575e-08  3.45142576e-01\\n -2.24315289e-10 -3.41045250e-08  1.80853781e-08 -7.57410356e-08\\n  3.79797877e-02  7.17464685e-08  9.00429680e-08 -1.05884290e-08\\n -1.52271055e-01 -1.00080904e-01 -3.49765004e-01  3.13844646e-01\\n -3.48904648e-02  0.00000000e+00  0.00000000e+00  1.51068762e-01\\n  5.40896809e-02  0.00000000e+00 -8.34260010e-02  0.00000000e+00\\n -5.20744842e-02  0.00000000e+00 -6.71662375e-01 -5.88340271e-01\\n -1.46371181e+00]',\n",
       " 'Intercept: -877.3434772356513',\n",
       " 'MSE: 0.15088461237337586',\n",
       " 'R2 score: 0.5181042926421402')"
      ]
     },
     "execution_count": 72,
     "metadata": {},
     "output_type": "execute_result"
    }
   ],
   "source": [
    "linear_model(filter_x_train, filter_y_train, filter_x_test, filter_y_test)"
   ]
  },
  {
   "cell_type": "code",
   "execution_count": null,
   "metadata": {},
   "outputs": [],
   "source": [
    "from sklearn.linear_model import Ridge\n",
    "from sklearn.kernel_ridge import KernelRidge\n",
    "\n",
    "alp = np.arange(0,0.01,0.000001)\n",
    "ride = []\n",
    "\n",
    "for alph in alp:\n",
    "    model = Ridge(alpha=alph)\n",
    "    model.fit(filter_x_train, filter_y_train)\n",
    "    model_pred = model.predict(filter_x_test)\n",
    "    ride.append(MSE(filter_y_test,model_pred))\n"
   ]
  },
  {
   "cell_type": "code",
   "execution_count": null,
   "metadata": {},
   "outputs": [
    {
     "data": {
      "image/png": "[encoded data removed]",
      "text/plain": [
       "<Figure size 1080x864 with 1 Axes>"
      ]
     },
     "metadata": {
      "needs_background": "light"
     },
     "output_type": "display_data"
    }
   ],
   "source": [
    "plt.figure(figsize=(15,12))\n",
    "plt.plot(alp,ride)\n",
    "plt.show()"
   ]
  },
  {
   "cell_type": "code",
   "execution_count": null,
   "metadata": {},
   "outputs": [
    {
     "data": {
      "text/plain": [
       "1e-06"
      ]
     },
     "execution_count": 297,
     "metadata": {},
     "output_type": "execute_result"
    }
   ],
   "source": [
    "ridges = dict(zip(ride,alp))\n",
    "ridges[min(ridges.keys())]"
   ]
  },
  {
   "cell_type": "code",
   "execution_count": null,
   "metadata": {},
   "outputs": [
    {
     "name": "stdout",
     "output_type": "stream",
     "text": [
      "MSE: 0.15293112682985163 \n",
      "R2_score test: 0.5115681289067618\n",
      "R2_score train: 0.5519838195543545\n"
     ]
    }
   ],
   "source": [
    "# Before transform\n",
    "modelr = Ridge(alpha=1e-06)\n",
    "modelr.fit(filter_x_train, filter_y_train)\n",
    "model_pred = modelr.predict(filter_x_test)\n",
    "mse = MSE(filter_y_test,model_pred)\n",
    "score = modelr.score(filter_x_test, filter_y_test)\n",
    "score2 = modelr.score(filter_x_train, filter_y_train)\n",
    "print(f'MSE: {mse} \\nR2_score test: {score}\\nR2_score train: {score2}')\n"
   ]
  },
  {
   "cell_type": "code",
   "execution_count": null,
   "metadata": {},
   "outputs": [
    {
     "name": "stdout",
     "output_type": "stream",
     "text": [
      "MSE: 0.4771615206594704 \n",
      "R2_score test: 0.5181042926570165\n",
      "R2_score train: 0.5574470642552387\n"
     ]
    }
   ],
   "source": [
    "# After Transform\n",
    "modelr2 = Ridge(alpha=1e-06)\n",
    "modelr2.fit(transformer_filter_x_train, transformer_filter_y_train)\n",
    "model_pred2 = modelr2.predict(transformer_filter_x_test)\n",
    "mse = MSE(transformer_filter_y_test, model_pred2)\n",
    "score = modelr2.score(transformer_filter_x_test, transformer_filter_y_test)\n",
    "score2 = modelr2.score(transformer_filter_x_train, transformer_filter_y_train)\n",
    "print(f'MSE: {mse} \\nR2_score test: {score}\\nR2_score train: {score2}')\n"
   ]
  },
  {
   "cell_type": "code",
   "execution_count": null,
   "metadata": {},
   "outputs": [],
   "source": [
    "from sklearn.ensemble import RandomForestRegressor\n",
    "\n",
    "fori = []\n",
    "\n",
    "xw = np.arange(1,50,1)\n",
    "\n",
    "for forest in xw:\n",
    "    rfr = RandomForestRegressor(n_estimators=481, max_depth=forest)\n",
    "    rfr.fit(filter_x_train, filter_y_train)\n",
    "    filter_pred = rfr.predict(filter_x_test)\n",
    "    fori.append(MSE(filter_y_test, filter_pred))\n"
   ]
  },
  {
   "cell_type": "code",
   "execution_count": null,
   "metadata": {},
   "outputs": [
    {
     "data": {
      "image/png": "[encoded data removed]",
      "text/plain": [
       "<Figure size 1224x864 with 1 Axes>"
      ]
     },
     "metadata": {
      "needs_background": "light"
     },
     "output_type": "display_data"
    }
   ],
   "source": [
    "plt.figure(figsize=(17,12))\n",
    "plt.plot(xw, fori)\n",
    "plt.show()"
   ]
  },
  {
   "cell_type": "code",
   "execution_count": null,
   "metadata": {},
   "outputs": [
    {
     "data": {
      "text/plain": [
       "25"
      ]
     },
     "execution_count": 249,
     "metadata": {},
     "output_type": "execute_result"
    }
   ],
   "source": [
    "rfrd = dict(zip(fori,xw))\n",
    "rfrd[min(rfrd.keys())]\n"
   ]
  },
  {
   "cell_type": "code",
   "execution_count": null,
   "metadata": {},
   "outputs": [
    {
     "name": "stdout",
     "output_type": "stream",
     "text": [
      "MSE: 0.11008471723227826 \n",
      "R2_score test: 0.6484111146558542\n",
      "R2_score train: 0.9465030606019825\n"
     ]
    }
   ],
   "source": [
    "rfr = RandomForestRegressor(n_estimators=481, max_depth=25)\n",
    "rfr.fit(filter_x_train, filter_y_train)\n",
    "filter_pred = rfr.predict(filter_x_test)\n",
    "rf_mse = MSE(filter_y_test, filter_pred)\n",
    "rf = rfr.score(filter_x_test, filter_y_test)\n",
    "rf2 = rfr.score(filter_x_train, filter_y_train)\n",
    "print(f'MSE: {rf_mse} \\nR2_score test: {rf}\\nR2_score train: {rf2}')\n"
   ]
  },
  {
   "cell_type": "code",
   "execution_count": null,
   "metadata": {},
   "outputs": [
    {
     "name": "stdout",
     "output_type": "stream",
     "text": [
      "MSE: 0.1812694879313965 \n",
      "R2_score test: 0.6483829764950717\n",
      "R2_score train: 0.9506939089538188\n"
     ]
    }
   ],
   "source": [
    "rfr = RandomForestRegressor(n_estimators=481, max_depth=25)\n",
    "rfr.fit(transformer_filter_x_train, transformer_filter_y_train)\n",
    "filter_pred = rfr.predict(transformer_filter_x_test)\n",
    "rf_mse = MSE(transformer_filter_y_test, filter_pred)\n",
    "rf = rfr.score(transformer_filter_x_test, transformer_filter_y_test)\n",
    "rf2 = rfr.score(transformer_filter_x_train, transformer_filter_y_train)\n",
    "print(f'MSE: {rf_mse} \\nR2_score test: {rf}\\nR2_score train: {rf2}')\n"
   ]
  },
  {
   "cell_type": "code",
   "execution_count": null,
   "metadata": {},
   "outputs": [],
   "source": [
    "from sklearn.ensemble import GradientBoostingRegressor\n",
    "\n",
    "fori2 = []\n",
    "\n",
    "xw = np.arange(1,50,1)\n",
    "\n",
    "for grad in xw:\n",
    "    gbr = GradientBoostingRegressor(n_estimators=300, max_depth=grad)\n",
    "    gbr.fit(filter_x_train, filter_y_train)\n",
    "    filter_pred = rfr.predict(filter_x_test)\n",
    "    fori2.append(MSE(filter_y_test, filter_pred))\n",
    "\n"
   ]
  },
  {
   "cell_type": "code",
   "execution_count": null,
   "metadata": {},
   "outputs": [
    {
     "data": {
      "image/png": "[encoded data removed]",
      "text/plain": [
       "<Figure size 1080x648 with 1 Axes>"
      ]
     },
     "metadata": {
      "needs_background": "light"
     },
     "output_type": "display_data"
    }
   ],
   "source": [
    "plt.figure(figsize=(15,9))\n",
    "plt.plot(xw,fori2)\n",
    "plt.show()"
   ]
  },
  {
   "cell_type": "code",
   "execution_count": null,
   "metadata": {},
   "outputs": [
    {
     "data": {
      "text/plain": [
       "0.1107197435875829"
      ]
     },
     "execution_count": 47,
     "metadata": {},
     "output_type": "execute_result"
    }
   ],
   "source": [
    "gbr = GradientBoostingRegressor(n_estimators=300)\n",
    "gbr.fit(filter_x_train, filter_y_train)\n",
    "filter_pred = rfr.predict(filter_x_test)\n",
    "MSE(filter_y_test, filter_pred)"
   ]
  },
  {
   "cell_type": "code",
   "execution_count": null,
   "metadata": {},
   "outputs": [
    {
     "data": {
      "text/plain": [
       "0.6283402220318245"
      ]
     },
     "execution_count": 48,
     "metadata": {},
     "output_type": "execute_result"
    }
   ],
   "source": [
    "gbr.score(filter_x_test, filter_y_test)"
   ]
  },
  {
   "cell_type": "code",
   "execution_count": null,
   "metadata": {},
   "outputs": [
    {
     "data": {
      "text/plain": [
       "0.6980525735411018"
      ]
     },
     "execution_count": 272,
     "metadata": {},
     "output_type": "execute_result"
    }
   ],
   "source": [
    "gbr.score(filter_x_train, filter_y_train)"
   ]
  },
  {
   "cell_type": "code",
   "execution_count": null,
   "metadata": {},
   "outputs": [
    {
     "name": "stdout",
     "output_type": "stream",
     "text": [
      "KNN Score:  0.7457853839892259\n",
      "KNN Test Score:  0.5738052383107756\n"
     ]
    }
   ],
   "source": [
    "from sklearn.neighbors import KNeighborsRegressor\n",
    "\n",
    "\n",
    "knr = KNeighborsRegressor(n_neighbors=5)\n",
    "knr.fit(transformer_filter_x_train, transformer_filter_y_train)\n",
    "print(\"KNN Score: \", knr.score(transformer_filter_x_train, transformer_filter_y_train))\n",
    "print(\"KNN Test Score: \", knr.score(transformer_filter_x_test, transformer_filter_y_test))"
   ]
  },
  {
   "cell_type": "code",
   "execution_count": null,
   "metadata": {},
   "outputs": [],
   "source": [
    "nib = np.arange(1,100,1)\n",
    "neigh = []\n",
    "\n",
    "for neighb in nib:\n",
    "    knr = KNeighborsRegressor(n_neighbors=neighb)\n",
    "    knr.fit(transformer_filter_x_train, transformer_filter_y_train)\n",
    "    knr_pred = knr.predict(transformer_filter_x_test)\n",
    "    neigh.append(MSE(transformer_filter_y_test, knr_pred))"
   ]
  },
  {
   "cell_type": "code",
   "execution_count": null,
   "metadata": {},
   "outputs": [
    {
     "data": {
      "image/png": "[encoded data removed]",
      "text/plain": [
       "<Figure size 1080x864 with 1 Axes>"
      ]
     },
     "metadata": {
      "needs_background": "light"
     },
     "output_type": "display_data"
    }
   ],
   "source": [
    "plt.figure(figsize=(15,12))\n",
    "plt.plot(nib,neigh)\n",
    "plt.show()"
   ]
  },
  {
   "cell_type": "code",
   "execution_count": null,
   "metadata": {},
   "outputs": [
    {
     "data": {
      "text/plain": [
       "5"
      ]
     },
     "execution_count": 561,
     "metadata": {},
     "output_type": "execute_result"
    }
   ],
   "source": [
    "krn = dict(zip(neigh,nib))\n",
    "krn[min(krn.keys())]\n"
   ]
  },
  {
   "cell_type": "code",
   "execution_count": 86,
   "metadata": {},
   "outputs": [],
   "source": [
    "# # Instantiate a Sequential model\n",
    "model = tf.keras.models.Sequential([\n",
    "    tf.keras.layers.Dense(20, input_shape=[33], activation='relu'),\n",
    "    tf.keras.layers.Dense(20, activation='relu'),\n",
    "    tf.keras.layers.Dense(1)\n",
    "\n",
    "])\n",
    "\n",
    "# # Add a Dense layer with 50 neurons and an input of 1 neuron\n",
    "# model.add(Dense(50, input_shape=(35,), activation='relu'))\n",
    "\n",
    "# # Add two Dense layers with 50 neurons and relu activation\n",
    "# model.add(Dense(50,activation='relu'))\n",
    "# model.add(Dense(50,activation='relu'))\n",
    "\n",
    "\n",
    "# # End your model with a Dense layer and no activation\n",
    "# model.add(Dense(1))"
   ]
  },
  {
   "cell_type": "code",
   "execution_count": 94,
   "metadata": {},
   "outputs": [],
   "source": [
    "filter_x_validate, filter_x_test, filter_y_validate, filter_y_test = train_test_split(filter_x_test, filter_y_test, test_size=0.5, random_state=42)"
   ]
  },
  {
   "cell_type": "code",
   "execution_count": 97,
   "metadata": {},
   "outputs": [
    {
     "name": "stdout",
     "output_type": "stream",
     "text": [
      "Training started..., this can take a while:\n",
      "Epoch 1/5\n",
      "182/182 [==============================] - 1s 2ms/step - loss: 0.1309 - val_loss: 0.1343\n",
      "Epoch 2/5\n",
      "182/182 [==============================] - 0s 1ms/step - loss: 0.1327 - val_loss: 0.1359\n",
      "Epoch 3/5\n",
      "182/182 [==============================] - 0s 1ms/step - loss: 0.1284 - val_loss: 0.1340\n",
      "Epoch 4/5\n",
      "182/182 [==============================] - 0s 1ms/step - loss: 0.1306 - val_loss: 0.1321\n",
      "Epoch 5/5\n",
      "182/182 [==============================] - 0s 2ms/step - loss: 0.1304 - val_loss: 0.1385\n",
      "23/23 [==============================] - 0s 1ms/step - loss: 0.1581\n",
      "Final loss value: 0.1580582708120346\n"
     ]
    }
   ],
   "source": [
    "# # Compile your model\n",
    "model.compile(optimizer = 'adam', loss = 'mse')\n",
    "\n",
    "print(\"Training started..., this can take a while:\")\n",
    "\n",
    "# # Fit your model on your data epochs\n",
    "model.fit(filter_x_train, filter_y_train, epochs = 5,\n",
    "          validation_data=(filter_x_validate, filter_y_validate))\n",
    "\n",
    "# # Evaluate your model \n",
    "print(\"Final loss value:\",model.evaluate(filter_x_test, filter_y_test))"
   ]
  },
  {
   "cell_type": "code",
   "execution_count": 89,
   "metadata": {},
   "outputs": [
    {
     "name": "stdout",
     "output_type": "stream",
     "text": [
      "\u001b[1;31mSignature:\u001b[0m\n",
      "\u001b[0mmodel\u001b[0m\u001b[1;33m.\u001b[0m\u001b[0mcompile\u001b[0m\u001b[1;33m(\u001b[0m\u001b[1;33m\n",
      "\u001b[0m    \u001b[0moptimizer\u001b[0m\u001b[1;33m=\u001b[0m\u001b[1;34m'rmsprop'\u001b[0m\u001b[1;33m,\u001b[0m\u001b[1;33m\n",
      "\u001b[0m    \u001b[0mloss\u001b[0m\u001b[1;33m=\u001b[0m\u001b[1;32mNone\u001b[0m\u001b[1;33m,\u001b[0m\u001b[1;33m\n",
      "\u001b[0m    \u001b[0mmetrics\u001b[0m\u001b[1;33m=\u001b[0m\u001b[1;32mNone\u001b[0m\u001b[1;33m,\u001b[0m\u001b[1;33m\n",
      "\u001b[0m    \u001b[0mloss_weights\u001b[0m\u001b[1;33m=\u001b[0m\u001b[1;32mNone\u001b[0m\u001b[1;33m,\u001b[0m\u001b[1;33m\n",
      "\u001b[0m    \u001b[0mweighted_metrics\u001b[0m\u001b[1;33m=\u001b[0m\u001b[1;32mNone\u001b[0m\u001b[1;33m,\u001b[0m\u001b[1;33m\n",
      "\u001b[0m    \u001b[0mrun_eagerly\u001b[0m\u001b[1;33m=\u001b[0m\u001b[1;32mNone\u001b[0m\u001b[1;33m,\u001b[0m\u001b[1;33m\n",
      "\u001b[0m    \u001b[0msteps_per_execution\u001b[0m\u001b[1;33m=\u001b[0m\u001b[1;32mNone\u001b[0m\u001b[1;33m,\u001b[0m\u001b[1;33m\n",
      "\u001b[0m    \u001b[0mjit_compile\u001b[0m\u001b[1;33m=\u001b[0m\u001b[1;32mNone\u001b[0m\u001b[1;33m,\u001b[0m\u001b[1;33m\n",
      "\u001b[0m    \u001b[1;33m**\u001b[0m\u001b[0mkwargs\u001b[0m\u001b[1;33m,\u001b[0m\u001b[1;33m\n",
      "\u001b[0m\u001b[1;33m)\u001b[0m\u001b[1;33m\u001b[0m\u001b[1;33m\u001b[0m\u001b[0m\n",
      "\u001b[1;31mDocstring:\u001b[0m\n",
      "Configures the model for training.\n",
      "\n",
      "Example:\n",
      "\n",
      "```python\n",
      "model.compile(optimizer=tf.keras.optimizers.Adam(learning_rate=1e-3),\n",
      "              loss=tf.keras.losses.BinaryCrossentropy(),\n",
      "              metrics=[tf.keras.metrics.BinaryAccuracy(),\n",
      "                       tf.keras.metrics.FalseNegatives()])\n",
      "```\n",
      "\n",
      "Args:\n",
      "    optimizer: String (name of optimizer) or optimizer instance. See\n",
      "      `tf.keras.optimizers`.\n",
      "    loss: Loss function. May be a string (name of loss function), or\n",
      "      a `tf.keras.losses.Loss` instance. See `tf.keras.losses`. A loss\n",
      "      function is any callable with the signature `loss = fn(y_true,\n",
      "      y_pred)`, where `y_true` are the ground truth values, and\n",
      "      `y_pred` are the model's predictions.\n",
      "      `y_true` should have shape\n",
      "      `(batch_size, d0, .. dN)` (except in the case of\n",
      "      sparse loss functions such as\n",
      "      sparse categorical crossentropy which expects integer arrays of shape\n",
      "      `(batch_size, d0, .. dN-1)`).\n",
      "      `y_pred` should have shape `(batch_size, d0, .. dN)`.\n",
      "      The loss function should return a float tensor.\n",
      "      If a custom `Loss` instance is\n",
      "      used and reduction is set to `None`, return value has shape\n",
      "      `(batch_size, d0, .. dN-1)` i.e. per-sample or per-timestep loss\n",
      "      values; otherwise, it is a scalar. If the model has multiple outputs,\n",
      "      you can use a different loss on each output by passing a dictionary\n",
      "      or a list of losses. The loss value that will be minimized by the\n",
      "      model will then be the sum of all individual losses, unless\n",
      "      `loss_weights` is specified.\n",
      "    metrics: List of metrics to be evaluated by the model during training\n",
      "      and testing. Each of this can be a string (name of a built-in\n",
      "      function), function or a `tf.keras.metrics.Metric` instance. See\n",
      "      `tf.keras.metrics`. Typically you will use `metrics=['accuracy']`. A\n",
      "      function is any callable with the signature `result = fn(y_true,\n",
      "      y_pred)`. To specify different metrics for different outputs of a\n",
      "      multi-output model, you could also pass a dictionary, such as\n",
      "      `metrics={'output_a': 'accuracy', 'output_b': ['accuracy', 'mse']}`.\n",
      "      You can also pass a list to specify a metric or a list of metrics\n",
      "      for each output, such as `metrics=[['accuracy'], ['accuracy', 'mse']]`\n",
      "      or `metrics=['accuracy', ['accuracy', 'mse']]`. When you pass the\n",
      "      strings 'accuracy' or 'acc', we convert this to one of\n",
      "      `tf.keras.metrics.BinaryAccuracy`,\n",
      "      `tf.keras.metrics.CategoricalAccuracy`,\n",
      "      `tf.keras.metrics.SparseCategoricalAccuracy` based on the loss\n",
      "      function used and the model output shape. We do a similar\n",
      "      conversion for the strings 'crossentropy' and 'ce' as well.\n",
      "    loss_weights: Optional list or dictionary specifying scalar coefficients\n",
      "      (Python floats) to weight the loss contributions of different model\n",
      "      outputs. The loss value that will be minimized by the model will then\n",
      "      be the *weighted sum* of all individual losses, weighted by the\n",
      "      `loss_weights` coefficients.\n",
      "        If a list, it is expected to have a 1:1 mapping to the model's\n",
      "          outputs. If a dict, it is expected to map output names (strings)\n",
      "          to scalar coefficients.\n",
      "    weighted_metrics: List of metrics to be evaluated and weighted by\n",
      "      `sample_weight` or `class_weight` during training and testing.\n",
      "    run_eagerly: Bool. Defaults to `False`. If `True`, this `Model`'s\n",
      "      logic will not be wrapped in a `tf.function`. Recommended to leave\n",
      "      this as `None` unless your `Model` cannot be run inside a\n",
      "      `tf.function`. `run_eagerly=True` is not supported when using\n",
      "      `tf.distribute.experimental.ParameterServerStrategy`.\n",
      "    steps_per_execution: Int. Defaults to 1. The number of batches to run\n",
      "      during each `tf.function` call. Running multiple batches inside a\n",
      "      single `tf.function` call can greatly improve performance on TPUs or\n",
      "      small models with a large Python overhead. At most, one full epoch\n",
      "      will be run each execution. If a number larger than the size of the\n",
      "      epoch is passed, the execution will be truncated to the size of the\n",
      "      epoch. Note that if `steps_per_execution` is set to `N`,\n",
      "      `Callback.on_batch_begin` and `Callback.on_batch_end` methods will\n",
      "      only be called every `N` batches (i.e. before/after each `tf.function`\n",
      "      execution).\n",
      "    jit_compile: If `True`, compile the model training step with XLA.\n",
      "      [XLA](https://www.tensorflow.org/xla) is an optimizing compiler for\n",
      "      machine learning.\n",
      "      `jit_compile` is not enabled for by default.\n",
      "      This option cannot be enabled with `run_eagerly=True`.\n",
      "      Note that `jit_compile=True` is\n",
      "      may not necessarily work for all models.\n",
      "      For more information on supported operations please refer to the\n",
      "      [XLA documentation](https://www.tensorflow.org/xla).\n",
      "      Also refer to\n",
      "      [known XLA issues](https://www.tensorflow.org/xla/known_issues) for\n",
      "      more details.\n",
      "    **kwargs: Arguments supported for backwards compatibility only.\n",
      "\u001b[1;31mFile:\u001b[0m      c:\\users\\austin\\appdata\\local\\packages\\pythonsoftwarefoundation.python.3.10_qbz5n2kfra8p0\\localcache\\local-packages\\python310\\site-packages\\keras\\engine\\training.py\n",
      "\u001b[1;31mType:\u001b[0m      method\n"
     ]
    }
   ],
   "source": [
    "model.compile?"
   ]
  },
  {
   "cell_type": "code",
   "execution_count": null,
   "metadata": {},
   "outputs": [],
   "source": [
    "# filter = Sequential()\n",
    "\n",
    "# filter.add(Dense(35, input_shape=[35,], activation='relu'))\n",
    "\n",
    "# filter.add(Dense(1))\n",
    "\n",
    "# filter.compile(optimizer='adam', loss='mse', metrics=['accuracy'])\n",
    "\n",
    "\n",
    "# # Fit your model on your data for 30 epochs\n",
    "# filter.fit(filter_x_train, filter_y_train, epochs = 20)\n",
    "\n",
    "# # Evaluate your model \n",
    "# print(\"Final loss value:\",model.evaluate(filter_x_test, filter_y_test))"
   ]
  },
  {
   "cell_type": "code",
   "execution_count": null,
   "metadata": {},
   "outputs": [
    {
     "name": "stdout",
     "output_type": "stream",
     "text": [
      "[0, 0, 1]\n"
     ]
    }
   ],
   "source": [
    "\"\"\" quiz materials for feature scaling clustering \"\"\"\n",
    "\n",
    "''''\n",
    "Useful in Support Vector Machine and K Means Clustering Algorithms\n",
    "'''\n",
    "\n",
    "### FYI, the most straightforward implementation might \n",
    "### throw a divide-by-zero error, if the min and max\n",
    "### values are the same\n",
    "### but think about this for a second--that means that every\n",
    "### data point has the same value for that feature!  \n",
    "### why would you rescale it?  Or even use it at all?\n",
    "import numpy\n",
    "def featureScaling(arr):\n",
    "    for scale in arr:\n",
    "        (scale - min(arr))/(max(arr)- min(arr))\n",
    "    arr2 = [(scale - min(arr))//(max(arr)- min(arr)) for scale in arr]\n",
    "    \n",
    "    return arr2\n",
    "\n",
    "# tests of your feature scaler--line below is input data\n",
    "data = [115, 140, 175]\n",
    "print(featureScaling(data))\n",
    "\n"
   ]
  },
  {
   "cell_type": "markdown",
   "metadata": {},
   "source": [
    "#### Feature Selection\n",
    "\n",
    "1. Feature Scaling"
   ]
  },
  {
   "cell_type": "code",
   "execution_count": null,
   "metadata": {},
   "outputs": [],
   "source": []
  },
  {
   "cell_type": "markdown",
   "metadata": {},
   "source": [
    "#### Regularization\n",
    "\n",
    "1. Lasso Regularization\n",
    "2. Ridge Regularization\n",
    "3. Kernel Regression\n",
    "4. Robust Regression"
   ]
  },
  {
   "cell_type": "code",
   "execution_count": null,
   "metadata": {},
   "outputs": [],
   "source": []
  },
  {
   "cell_type": "markdown",
   "metadata": {},
   "source": [
    "#### Ensemble Methods\n",
    "1. Decision Tree\n",
    "2. Boosting Methods\n",
    "3. Random Forest\n",
    "4. Stacking Methods"
   ]
  },
  {
   "cell_type": "code",
   "execution_count": null,
   "metadata": {},
   "outputs": [],
   "source": []
  },
  {
   "cell_type": "markdown",
   "metadata": {},
   "source": [
    "##### Catboost Algorithm "
   ]
  },
  {
   "cell_type": "code",
   "execution_count": null,
   "metadata": {},
   "outputs": [],
   "source": []
  },
  {
   "cell_type": "markdown",
   "metadata": {},
   "source": [
    "##### Hyperameter Tuning\n",
    "\n",
    "1. GridSearchCV"
   ]
  },
  {
   "cell_type": "code",
   "execution_count": null,
   "metadata": {},
   "outputs": [],
   "source": [
    "from xgboost import XGBRegressor\n",
    "# xg = XGBRegressor(objective='reg:linear')\n",
    "# xg.fit(filter_x_train, filter_y_train)\n",
    "# preds = xg.predict(filter_x_test)\n",
    "\n",
    "estimate = np.arange(0,20,1)\n",
    "scores2 = []\n",
    "\n",
    "for est in estimate:\n",
    "    xg = XGBRegressor(learning_rate= 0.08700000000000034, n_estimators= 138, subsample= 0.8226999999999864)\n",
    "    xg.fit(filter_x_train, filter_y_train)\n",
    "    preds = xg.predict(filter_x_test)\n",
    "    scores2.append(MSE(filter_y_test, preds))\n"
   ]
  },
  {
   "cell_type": "code",
   "execution_count": null,
   "metadata": {},
   "outputs": [
    {
     "data": {
      "image/png": "[encoded data removed]",
      "text/plain": [
       "<Figure size 1080x576 with 1 Axes>"
      ]
     },
     "metadata": {
      "needs_background": "light"
     },
     "output_type": "display_data"
    }
   ],
   "source": [
    "# Ridge\n",
    "plt.figure(figsize=(15,8))\n",
    "plt.plot(estimate,scores2)\n",
    "plt.show()"
   ]
  },
  {
   "cell_type": "code",
   "execution_count": null,
   "metadata": {},
   "outputs": [
    {
     "data": {
      "image/png": "[encoded data removed]",
      "text/plain": [
       "<Figure size 1080x576 with 1 Axes>"
      ]
     },
     "metadata": {
      "needs_background": "light"
     },
     "output_type": "display_data"
    }
   ],
   "source": [
    "# estimators\n",
    "plt.figure(figsize=(15,8))\n",
    "plt.plot(estimate,scores2)\n",
    "plt.show()"
   ]
  },
  {
   "cell_type": "code",
   "execution_count": null,
   "metadata": {},
   "outputs": [
    {
     "data": {
      "image/png": "[encoded data removed]",
      "text/plain": [
       "<Figure size 1080x576 with 1 Axes>"
      ]
     },
     "metadata": {
      "needs_background": "light"
     },
     "output_type": "display_data"
    }
   ],
   "source": [
    "# Learning rate\n",
    "plt.figure(figsize=(15,8))\n",
    "plt.plot(estimate,scores2)\n",
    "plt.show()"
   ]
  },
  {
   "cell_type": "code",
   "execution_count": null,
   "metadata": {},
   "outputs": [
    {
     "data": {
      "image/png": "[encoded data removed]",
      "text/plain": [
       "<Figure size 1080x576 with 1 Axes>"
      ]
     },
     "metadata": {
      "needs_background": "light"
     },
     "output_type": "display_data"
    }
   ],
   "source": [
    "# subsample\n",
    "plt.figure(figsize=(15,8))\n",
    "plt.plot(estimate,scores2)\n",
    "plt.show()"
   ]
  },
  {
   "cell_type": "code",
   "execution_count": null,
   "metadata": {},
   "outputs": [
    {
     "data": {
      "text/plain": [
       "19"
      ]
     },
     "execution_count": 431,
     "metadata": {},
     "output_type": "execute_result"
    }
   ],
   "source": [
    "mint = dict(zip(scores2,estimate))\n",
    "mint[min(mint.keys())]\n"
   ]
  },
  {
   "cell_type": "code",
   "execution_count": null,
   "metadata": {},
   "outputs": [
    {
     "name": "stdout",
     "output_type": "stream",
     "text": [
      "MSE: 0.10566855414300483 \n",
      "R2_score test: 66.25154689848887\n",
      "R2_score train: 79.42099323885331\n"
     ]
    }
   ],
   "source": [
    "# from xgboost import XGBRegressor\n",
    "\n",
    "xg = XGBRegressor(learning_rate= 0.08700000000000034, n_estimators= 138, subsample= 0.8226999999999864)\n",
    "xg.fit(filter_x_train, filter_y_train)\n",
    "preds = xg.predict(filter_x_test)\n",
    "\n",
    "xg_mse = MSE(filter_y_test, preds)\n",
    "xg_sc = xg.score(filter_x_test, filter_y_test)*100\n",
    "xg_sc2 = xg.score(filter_x_train, filter_y_train)*100\n",
    "print(f'MSE: {xg_mse} \\nR2_score test: {xg_sc}\\nR2_score train: {xg_sc2}')"
   ]
  },
  {
   "cell_type": "code",
   "execution_count": null,
   "metadata": {},
   "outputs": [],
   "source": []
  },
  {
   "cell_type": "code",
   "execution_count": null,
   "metadata": {},
   "outputs": [
    {
     "name": "stdout",
     "output_type": "stream",
     "text": [
      "MSE: 0.17930426518260187 \n",
      "R2_score test: 65.2195012273078\n",
      "R2_score train: 81.49630181392094\n"
     ]
    }
   ],
   "source": [
    "# After Sacaling\n",
    "\n",
    "xg = XGBRegressor(learning_rate= 0.08700000000000034, n_estimators= 168, subsample= 0.81)\n",
    "xg.fit(transformer_filter_x_train, transformer_filter_y_train)\n",
    "preds = xg.predict(transformer_filter_x_test)\n",
    "\n",
    "xg_mse = MSE(transformer_filter_y_test, preds)\n",
    "xg_sc = xg.score(transformer_filter_x_test, transformer_filter_y_test)*100\n",
    "xg_sc2 = xg.score(transformer_filter_x_train, transformer_filter_y_train)*100\n",
    "print(f'MSE: {xg_mse} \\nR2_score test: {xg_sc}\\nR2_score train: {xg_sc2}')"
   ]
  },
  {
   "cell_type": "code",
   "execution_count": null,
   "metadata": {},
   "outputs": [
    {
     "name": "stdout",
     "output_type": "stream",
     "text": [
      "Fitting 5 folds for each of 48 candidates, totalling 240 fits\n"
     ]
    },
    {
     "data": {
      "text/plain": [
       "{'learning_rate': 0.094, 'n_estimators': 140, 'subsample': 0.9}"
      ]
     },
     "execution_count": 62,
     "metadata": {},
     "output_type": "execute_result"
    }
   ],
   "source": [
    "from sklearn.model_selection import GridSearchCV\n",
    "\n",
    "parameters = {\n",
    "    'learning_rate': [0.092, 0.],\n",
    "    'n_estimators': [120,130,140,150],\n",
    "    'subsample': [0.89,0.9,0.91]\n",
    "}\n",
    "\n",
    "\n",
    "xg = XGBRegressor()\n",
    "grids = GridSearchCV(estimator=xg, param_grid=parameters,\n",
    "                    scoring='neg_mean_squared_error',\n",
    "                    cv=5, verbose=1)\n",
    "grids.fit(filter_x_train, filter_y_train)\n",
    "# preds = xg.predict(filter_x_test)\n",
    "grids.best_params_"
   ]
  },
  {
   "cell_type": "code",
   "execution_count": null,
   "metadata": {},
   "outputs": [
    {
     "name": "stdout",
     "output_type": "stream",
     "text": [
      "{'learning_rate': 0.094, 'n_estimators': 140, 'subsample': 0.9}\n"
     ]
    }
   ],
   "source": [
    "print(grids.best_params_)"
   ]
  },
  {
   "cell_type": "code",
   "execution_count": null,
   "metadata": {},
   "outputs": [],
   "source": [
    "estimate = np.arange(100,200,1)\n",
    "scores2 = []\n",
    "\n",
    "for est in estimate:\n",
    "    xg = XGBRegressor(learning_rate= 0.08700000000000034, n_estimators= est, subsample= 0.8226999999999864)\n",
    "    xg.fit(transformer_filter_x_train, transformer_filter_y_train)\n",
    "    preds = xg.predict(transformer_filter_x_test)\n",
    "    scores2.append(MSE(transformer_filter_y_test, preds))"
   ]
  },
  {
   "cell_type": "code",
   "execution_count": null,
   "metadata": {},
   "outputs": [
    {
     "data": {
      "image/png": "[encoded data removed]",
      "text/plain": [
       "<Figure size 1080x576 with 1 Axes>"
      ]
     },
     "metadata": {
      "needs_background": "light"
     },
     "output_type": "display_data"
    }
   ],
   "source": [
    "# Ridge\n",
    "plt.figure(figsize=(15,8))\n",
    "plt.plot(estimate,scores2)\n",
    "plt.show()"
   ]
  },
  {
   "cell_type": "code",
   "execution_count": null,
   "metadata": {},
   "outputs": [
    {
     "data": {
      "text/plain": [
       "130"
      ]
     },
     "execution_count": 452,
     "metadata": {},
     "output_type": "execute_result"
    }
   ],
   "source": [
    "mint = dict(zip(scores2,estimate))\n",
    "mint[min(mint.keys())]\n"
   ]
  },
  {
   "cell_type": "code",
   "execution_count": null,
   "metadata": {},
   "outputs": [],
   "source": []
  }
 ],
 "metadata": {
  "kernelspec": {
   "display_name": "Python 3.10.5 64-bit (windows store)",
   "language": "python",
   "name": "python3"
  },
  "language_info": {
   "codemirror_mode": {
    "name": "ipython",
    "version": 3
   },
   "file_extension": ".py",
   "mimetype": "text/x-python",
   "name": "python",
   "nbconvert_exporter": "python",
   "pygments_lexer": "ipython3",
   "version": "3.10.5"
  },
  "orig_nbformat": 4,
  "vscode": {
   "interpreter": {
    "hash": "bd76de9a08fdb969f68b31a57b79dea66bb354afca1625b2c71659650b4a59c1"
   }
  }
 },
 "nbformat": 4,
 "nbformat_minor": 2
}
