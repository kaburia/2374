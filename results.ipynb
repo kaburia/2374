{
 "cells": [
  {
   "cell_type": "markdown",
   "id": "f8b70d12",
   "metadata": {},
   "source": [
    "# Analyzing exam scores\n",
    "\n",
    "Now let's now move on to the competition and challenge.\n",
    "\n",
    "## 📖 Background\n",
    "Your best friend is an administrator at a large school. The school makes every student take year-end math, reading, and writing exams.\n",
    "\n",
    "Since you have recently learned data manipulation and visualization, you suggest helping your friend analyze the score results. The school's principal wants to know if test preparation courses are helpful. She also wants to explore the effect of parental education level on test scores. "
   ]
  },
  {
   "cell_type": "markdown",
   "id": "bb4cd736",
   "metadata": {},
   "source": [
    "## 💾 The data\n",
    "\n",
    "#### The file has the following fields ([source](http://roycekimmons.com/tools/generated_data/exams)):\n",
    "- \"gender\" - male / female\n",
    "- \"race/ethnicity\" - one of 5 combinations of race/ethnicity\n",
    "- \"parent_education_level\" -  highest education level of either parent\n",
    "- \"lunch\" - whether the student receives free/reduced or standard lunch\n",
    "- \"test_prep_course\" - whether the student took the test preparation course\n",
    "- \"math\" -  exam score in math \n",
    "- \"reading\" -  exam score in reading \n",
    "- \"writing\" -  exam score in writing "
   ]
  },
  {
   "cell_type": "code",
   "execution_count": 4,
   "id": "9e45e1f8",
   "metadata": {},
   "outputs": [
    {
     "data": {
      "text/html": [
       "<div>\n",
       "<style scoped>\n",
       "    .dataframe tbody tr th:only-of-type {\n",
       "        vertical-align: middle;\n",
       "    }\n",
       "\n",
       "    .dataframe tbody tr th {\n",
       "        vertical-align: top;\n",
       "    }\n",
       "\n",
       "    .dataframe thead th {\n",
       "        text-align: right;\n",
       "    }\n",
       "</style>\n",
       "<table border=\"1\" class=\"dataframe\">\n",
       "  <thead>\n",
       "    <tr style=\"text-align: right;\">\n",
       "      <th></th>\n",
       "      <th>gender</th>\n",
       "      <th>race/ethnicity</th>\n",
       "      <th>parent_education_level</th>\n",
       "      <th>lunch</th>\n",
       "      <th>test_prep_course</th>\n",
       "      <th>math</th>\n",
       "      <th>reading</th>\n",
       "      <th>writing</th>\n",
       "    </tr>\n",
       "  </thead>\n",
       "  <tbody>\n",
       "    <tr>\n",
       "      <th>0</th>\n",
       "      <td>female</td>\n",
       "      <td>group B</td>\n",
       "      <td>bachelor's degree</td>\n",
       "      <td>standard</td>\n",
       "      <td>none</td>\n",
       "      <td>72</td>\n",
       "      <td>72</td>\n",
       "      <td>74</td>\n",
       "    </tr>\n",
       "    <tr>\n",
       "      <th>1</th>\n",
       "      <td>female</td>\n",
       "      <td>group C</td>\n",
       "      <td>some college</td>\n",
       "      <td>standard</td>\n",
       "      <td>completed</td>\n",
       "      <td>69</td>\n",
       "      <td>90</td>\n",
       "      <td>88</td>\n",
       "    </tr>\n",
       "    <tr>\n",
       "      <th>2</th>\n",
       "      <td>female</td>\n",
       "      <td>group B</td>\n",
       "      <td>master's degree</td>\n",
       "      <td>standard</td>\n",
       "      <td>none</td>\n",
       "      <td>90</td>\n",
       "      <td>95</td>\n",
       "      <td>93</td>\n",
       "    </tr>\n",
       "    <tr>\n",
       "      <th>3</th>\n",
       "      <td>male</td>\n",
       "      <td>group A</td>\n",
       "      <td>associate's degree</td>\n",
       "      <td>free/reduced</td>\n",
       "      <td>none</td>\n",
       "      <td>47</td>\n",
       "      <td>57</td>\n",
       "      <td>44</td>\n",
       "    </tr>\n",
       "    <tr>\n",
       "      <th>4</th>\n",
       "      <td>male</td>\n",
       "      <td>group C</td>\n",
       "      <td>some college</td>\n",
       "      <td>standard</td>\n",
       "      <td>none</td>\n",
       "      <td>76</td>\n",
       "      <td>78</td>\n",
       "      <td>75</td>\n",
       "    </tr>\n",
       "  </tbody>\n",
       "</table>\n",
       "</div>"
      ],
      "text/plain": [
       "   gender race/ethnicity parent_education_level         lunch  \\\n",
       "0  female        group B      bachelor's degree      standard   \n",
       "1  female        group C           some college      standard   \n",
       "2  female        group B        master's degree      standard   \n",
       "3    male        group A     associate's degree  free/reduced   \n",
       "4    male        group C           some college      standard   \n",
       "\n",
       "  test_prep_course  math  reading  writing  \n",
       "0             none    72       72       74  \n",
       "1        completed    69       90       88  \n",
       "2             none    90       95       93  \n",
       "3             none    47       57       44  \n",
       "4             none    76       78       75  "
      ]
     },
     "execution_count": 4,
     "metadata": {},
     "output_type": "execute_result"
    }
   ],
   "source": [
    "df.head()"
   ]
  },
  {
   "cell_type": "markdown",
   "id": "6c0744d0",
   "metadata": {},
   "source": [
    "## 💪 Challenge\n",
    "Create a report to answer the principal's questions. Include:\n",
    "\n",
    "1. What are the average reading scores for students with/without the test preparation course?\n",
    "2. What are the average scores for the different parental education levels?\n",
    "3. Create plots to visualize findings for questions 1 and 2.\n",
    "4. [Optional] Look at the effects within subgroups. Compare the average scores for students with/without the test preparation course for different parental education levels (e.g., faceted plots).\n",
    "5. [Optional 2] The principal wants to know if kids who perform well on one subject also score well on the others. Look at the correlations between scores. \n",
    "6. Summarize your findings."
   ]
  },
  {
   "cell_type": "markdown",
   "id": "37e7101c-aa51-49e0-a4e4-0619374a44af",
   "metadata": {},
   "source": [
    "## 💡 Learn more\n",
    "\n",
    "The following DataCamp courses can help review the skills needed for this challenge:\n",
    "\n",
    "* [Data Manipulation with pandas](https://www.datacamp.com/courses/data-manipulation-with-pandas)\n",
    "* [Introduction to Data Visualization with Seaborn](https://www.datacamp.com/courses/introduction-to-data-visualization-with-seaborn)\n",
    "* [Introduction to Statistics in Python](https://www.datacamp.com/courses/introduction-to-statistics-in-python)"
   ]
  },
  {
   "cell_type": "markdown",
   "id": "fd227115",
   "metadata": {},
   "source": [
    "## ✅ Checklist before publishing\n",
    "- Rename your workspace to make it descriptive of your work. N.B. you should leave the notebook name as notebook.ipynb.\n",
    "- **Remove redundant cells** like the introduction to data science notebooks, so the workbook is focused on your story.\n",
    "- Check that all the cells run without error."
   ]
  },
  {
   "cell_type": "markdown",
   "id": "d21a86dd",
   "metadata": {},
   "source": [
    "## ⌛️ Time is ticking. Good luck!"
   ]
  },
  {
   "cell_type": "code",
   "execution_count": 2,
   "id": "0cd3806f-9594-48b3-ada3-1d6f7ad5287f",
   "metadata": {},
   "outputs": [],
   "source": [
    "import pandas as pd\n",
    "import numpy as np\n",
    "import matplotlib.pyplot as plt\n",
    "import seaborn as sns"
   ]
  },
  {
   "cell_type": "code",
   "execution_count": 3,
   "id": "d209858c-e2b1-449d-9704-4ef10edfb4bc",
   "metadata": {},
   "outputs": [
    {
     "data": {
      "application/com.datacamp.data-table.v1+json": {
       "is_truncated": false,
       "table": {
        "data": [
         {
          "gender": "female",
          "index": 0,
          "lunch": "standard",
          "math": 72,
          "parent_education_level": "bachelor's degree",
          "race/ethnicity": "group B",
          "reading": 72,
          "test_prep_course": "none",
          "writing": 74
         },
         {
          "gender": "female",
          "index": 1,
          "lunch": "standard",
          "math": 69,
          "parent_education_level": "some college",
          "race/ethnicity": "group C",
          "reading": 90,
          "test_prep_course": "completed",
          "writing": 88
         },
         {
          "gender": "female",
          "index": 2,
          "lunch": "standard",
          "math": 90,
          "parent_education_level": "master's degree",
          "race/ethnicity": "group B",
          "reading": 95,
          "test_prep_course": "none",
          "writing": 93
         },
         {
          "gender": "male",
          "index": 3,
          "lunch": "free/reduced",
          "math": 47,
          "parent_education_level": "associate's degree",
          "race/ethnicity": "group A",
          "reading": 57,
          "test_prep_course": "none",
          "writing": 44
         },
         {
          "gender": "male",
          "index": 4,
          "lunch": "standard",
          "math": 76,
          "parent_education_level": "some college",
          "race/ethnicity": "group C",
          "reading": 78,
          "test_prep_course": "none",
          "writing": 75
         }
        ],
        "schema": {
         "fields": [
          {
           "name": "index",
           "type": "integer"
          },
          {
           "name": "gender",
           "type": "string"
          },
          {
           "name": "race/ethnicity",
           "type": "string"
          },
          {
           "name": "parent_education_level",
           "type": "string"
          },
          {
           "name": "lunch",
           "type": "string"
          },
          {
           "name": "test_prep_course",
           "type": "string"
          },
          {
           "name": "math",
           "type": "integer"
          },
          {
           "name": "reading",
           "type": "integer"
          },
          {
           "name": "writing",
           "type": "integer"
          }
         ],
         "pandas_version": "0.20.0",
         "primaryKey": [
          "index"
         ]
        }
       },
       "total_rows": 5
      },
      "text/html": [
       "<div>\n",
       "<style scoped>\n",
       "    .dataframe tbody tr th:only-of-type {\n",
       "        vertical-align: middle;\n",
       "    }\n",
       "\n",
       "    .dataframe tbody tr th {\n",
       "        vertical-align: top;\n",
       "    }\n",
       "\n",
       "    .dataframe thead th {\n",
       "        text-align: right;\n",
       "    }\n",
       "</style>\n",
       "<table border=\"1\" class=\"dataframe\">\n",
       "  <thead>\n",
       "    <tr style=\"text-align: right;\">\n",
       "      <th></th>\n",
       "      <th>gender</th>\n",
       "      <th>race/ethnicity</th>\n",
       "      <th>parent_education_level</th>\n",
       "      <th>lunch</th>\n",
       "      <th>test_prep_course</th>\n",
       "      <th>math</th>\n",
       "      <th>reading</th>\n",
       "      <th>writing</th>\n",
       "    </tr>\n",
       "  </thead>\n",
       "  <tbody>\n",
       "    <tr>\n",
       "      <th>0</th>\n",
       "      <td>female</td>\n",
       "      <td>group B</td>\n",
       "      <td>bachelor's degree</td>\n",
       "      <td>standard</td>\n",
       "      <td>none</td>\n",
       "      <td>72</td>\n",
       "      <td>72</td>\n",
       "      <td>74</td>\n",
       "    </tr>\n",
       "    <tr>\n",
       "      <th>1</th>\n",
       "      <td>female</td>\n",
       "      <td>group C</td>\n",
       "      <td>some college</td>\n",
       "      <td>standard</td>\n",
       "      <td>completed</td>\n",
       "      <td>69</td>\n",
       "      <td>90</td>\n",
       "      <td>88</td>\n",
       "    </tr>\n",
       "    <tr>\n",
       "      <th>2</th>\n",
       "      <td>female</td>\n",
       "      <td>group B</td>\n",
       "      <td>master's degree</td>\n",
       "      <td>standard</td>\n",
       "      <td>none</td>\n",
       "      <td>90</td>\n",
       "      <td>95</td>\n",
       "      <td>93</td>\n",
       "    </tr>\n",
       "    <tr>\n",
       "      <th>3</th>\n",
       "      <td>male</td>\n",
       "      <td>group A</td>\n",
       "      <td>associate's degree</td>\n",
       "      <td>free/reduced</td>\n",
       "      <td>none</td>\n",
       "      <td>47</td>\n",
       "      <td>57</td>\n",
       "      <td>44</td>\n",
       "    </tr>\n",
       "    <tr>\n",
       "      <th>4</th>\n",
       "      <td>male</td>\n",
       "      <td>group C</td>\n",
       "      <td>some college</td>\n",
       "      <td>standard</td>\n",
       "      <td>none</td>\n",
       "      <td>76</td>\n",
       "      <td>78</td>\n",
       "      <td>75</td>\n",
       "    </tr>\n",
       "  </tbody>\n",
       "</table>\n",
       "</div>"
      ],
      "text/plain": [
       "   gender race/ethnicity parent_education_level         lunch  \\\n",
       "0  female        group B      bachelor's degree      standard   \n",
       "1  female        group C           some college      standard   \n",
       "2  female        group B        master's degree      standard   \n",
       "3    male        group A     associate's degree  free/reduced   \n",
       "4    male        group C           some college      standard   \n",
       "\n",
       "  test_prep_course  math  reading  writing  \n",
       "0             none    72       72       74  \n",
       "1        completed    69       90       88  \n",
       "2             none    90       95       93  \n",
       "3             none    47       57       44  \n",
       "4             none    76       78       75  "
      ]
     },
     "execution_count": 3,
     "metadata": {},
     "output_type": "execute_result"
    }
   ],
   "source": [
    "results = pd.read_csv('data/exams.csv')\n",
    "results.head()"
   ]
  },
  {
   "cell_type": "code",
   "execution_count": 4,
   "id": "cf2d1890-c989-4239-acdf-4b5e3f1738ae",
   "metadata": {},
   "outputs": [
    {
     "data": {
      "text/plain": [
       "(1000, 8)"
      ]
     },
     "execution_count": 4,
     "metadata": {},
     "output_type": "execute_result"
    }
   ],
   "source": [
    "results.shape"
   ]
  },
  {
   "cell_type": "code",
   "execution_count": 5,
   "id": "62bf5738-6cbf-4e14-9d32-eb23a1bf665a",
   "metadata": {},
   "outputs": [
    {
     "data": {
      "text/plain": [
       "gender                    0\n",
       "race/ethnicity            0\n",
       "parent_education_level    0\n",
       "lunch                     0\n",
       "test_prep_course          0\n",
       "math                      0\n",
       "reading                   0\n",
       "writing                   0\n",
       "dtype: int64"
      ]
     },
     "execution_count": 5,
     "metadata": {},
     "output_type": "execute_result"
    }
   ],
   "source": [
    "results.isna().sum()"
   ]
  },
  {
   "cell_type": "code",
   "execution_count": 6,
   "id": "1416db81-12dc-4a57-a987-fb43423769b8",
   "metadata": {},
   "outputs": [
    {
     "data": {
      "text/plain": [
       "False"
      ]
     },
     "execution_count": 6,
     "metadata": {},
     "output_type": "execute_result"
    }
   ],
   "source": [
    "results.duplicated().any()"
   ]
  },
  {
   "cell_type": "code",
   "execution_count": 7,
   "id": "0ecbb4e7-3c45-468a-9d23-05a470d67b60",
   "metadata": {},
   "outputs": [
    {
     "name": "stdout",
     "output_type": "stream",
     "text": [
      "<class 'pandas.core.frame.DataFrame'>\n",
      "RangeIndex: 1000 entries, 0 to 999\n",
      "Data columns (total 8 columns):\n",
      " #   Column                  Non-Null Count  Dtype \n",
      "---  ------                  --------------  ----- \n",
      " 0   gender                  1000 non-null   object\n",
      " 1   race/ethnicity          1000 non-null   object\n",
      " 2   parent_education_level  1000 non-null   object\n",
      " 3   lunch                   1000 non-null   object\n",
      " 4   test_prep_course        1000 non-null   object\n",
      " 5   math                    1000 non-null   int64 \n",
      " 6   reading                 1000 non-null   int64 \n",
      " 7   writing                 1000 non-null   int64 \n",
      "dtypes: int64(3), object(5)\n",
      "memory usage: 62.6+ KB\n"
     ]
    }
   ],
   "source": [
    "results.info()"
   ]
  },
  {
   "cell_type": "code",
   "execution_count": 8,
   "id": "7c718b38-ef3d-451a-a1f8-594039b097af",
   "metadata": {},
   "outputs": [
    {
     "name": "stdout",
     "output_type": "stream",
     "text": [
      "\t\tgender\n",
      " ['female' 'male']\n",
      "\n",
      "\t\trace/ethnicity\n",
      " ['group B' 'group C' 'group A' 'group D' 'group E']\n",
      "\n",
      "\t\tparent_education_level\n",
      " [\"bachelor's degree\" 'some college' \"master's degree\" \"associate's degree\"\n",
      " 'high school' 'some high school']\n",
      "\n",
      "\t\tlunch\n",
      " ['standard' 'free/reduced']\n",
      "\n",
      "\t\ttest_prep_course\n",
      " ['none' 'completed']\n",
      "\n"
     ]
    }
   ],
   "source": [
    "# Checking out suitable columns to convert to categories\n",
    "columns = results.columns\n",
    "for i in columns:\n",
    "    length = results[f'{i}'].nunique()\n",
    "    if length <= 10:\n",
    "        print(f'\\t\\t{i}\\n', results[f'{i}'].unique())\n",
    "        print()"
   ]
  },
  {
   "cell_type": "code",
   "execution_count": 9,
   "id": "718b4f8b-420c-4f48-b242-2dd8529dc256",
   "metadata": {},
   "outputs": [],
   "source": [
    "# Function to change column to category\n",
    "\n",
    "def categorize(column):\n",
    "    results[column] = results[column].astype('category')\n",
    "    \n",
    "    \n",
    "categorize('lunch')\n",
    "categorize('gender')\n",
    "categorize('test_prep_course')\n",
    "categorize('race/ethnicity')\n",
    "categorize('parent_education_level')"
   ]
  },
  {
   "cell_type": "code",
   "execution_count": 10,
   "id": "f1bf604f-3bcb-4311-9f9c-383592a06857",
   "metadata": {},
   "outputs": [
    {
     "name": "stdout",
     "output_type": "stream",
     "text": [
      "<class 'pandas.core.frame.DataFrame'>\n",
      "RangeIndex: 1000 entries, 0 to 999\n",
      "Data columns (total 8 columns):\n",
      " #   Column                  Non-Null Count  Dtype   \n",
      "---  ------                  --------------  -----   \n",
      " 0   gender                  1000 non-null   category\n",
      " 1   race/ethnicity          1000 non-null   category\n",
      " 2   parent_education_level  1000 non-null   category\n",
      " 3   lunch                   1000 non-null   category\n",
      " 4   test_prep_course        1000 non-null   category\n",
      " 5   math                    1000 non-null   int64   \n",
      " 6   reading                 1000 non-null   int64   \n",
      " 7   writing                 1000 non-null   int64   \n",
      "dtypes: category(5), int64(3)\n",
      "memory usage: 29.2 KB\n"
     ]
    }
   ],
   "source": [
    "results.info()"
   ]
  },
  {
   "cell_type": "code",
   "execution_count": 11,
   "id": "6409ffbe-bbd7-49f1-8153-04b9e702818c",
   "metadata": {},
   "outputs": [
    {
     "data": {
      "image/png": "[encoded data removed]",
      "text/plain": [
       "<Figure size 432x288 with 1 Axes>"
      ]
     },
     "metadata": {
      "needs_background": "light"
     },
     "output_type": "display_data"
    },
    {
     "data": {
      "image/png": "[encoded data removed]",
      "text/plain": [
       "<Figure size 432x288 with 1 Axes>"
      ]
     },
     "metadata": {
      "needs_background": "light"
     },
     "output_type": "display_data"
    },
    {
     "data": {
      "image/png": "[encoded data removed]",
      "text/plain": [
       "<Figure size 432x288 with 1 Axes>"
      ]
     },
     "metadata": {
      "needs_background": "light"
     },
     "output_type": "display_data"
    }
   ],
   "source": [
    "# Checking for outliers\n",
    "\n",
    "for outlier in columns:\n",
    "    if results[f'{outlier}'].dtype == 'int64':\n",
    "        sns.boxplot(x=outlier,data=results)\n",
    "        plt.show()\n",
    "    # else:\n",
    "    #     value = results[f'{outlier}'].value_counts()      \n",
    "    #     sns.boxplot(x=value,data=results)\n",
    "    #     plt.show() "
   ]
  },
  {
   "cell_type": "code",
   "execution_count": 12,
   "id": "dffe50b5-cc46-4b4d-8aac-cb1b7f93a8bf",
   "metadata": {},
   "outputs": [
    {
     "data": {
      "image/png": "[encoded data removed]",
      "text/plain": [
       "<Figure size 432x288 with 1 Axes>"
      ]
     },
     "metadata": {
      "needs_background": "light"
     },
     "output_type": "display_data"
    }
   ],
   "source": [
    "sns.violinplot(x='test_prep_course', y='reading', data=results)\n",
    "plt.show()"
   ]
  },
  {
   "cell_type": "code",
   "execution_count": 19,
   "id": "9f4b26d3-1e75-4f97-896c-eac9188b0823",
   "metadata": {},
   "outputs": [
    {
     "data": {
      "image/png": "[encoded data removed]",
      "text/plain": [
       "<Figure size 432x288 with 1 Axes>"
      ]
     },
     "metadata": {
      "needs_background": "light"
     },
     "output_type": "display_data"
    },
    {
     "data": {
      "text/plain": [
       "<Figure size 2160x504 with 0 Axes>"
      ]
     },
     "metadata": {},
     "output_type": "display_data"
    }
   ],
   "source": [
    "sns.violinplot(x='parent_education_level', y='reading', data=results)\n",
    "plt.figure(figsize=(30,7))\n",
    "plt.show()"
   ]
  },
  {
   "cell_type": "code",
   "execution_count": 14,
   "id": "22298b85-0269-4da0-b7a5-3bf4a92b30df",
   "metadata": {},
   "outputs": [
    {
     "data": {
      "application/com.datacamp.data-table.v1+json": {
       "is_truncated": false,
       "table": {
        "data": [
         {
          "math": 67.8828828829,
          "parent_education_level": "associate's degree",
          "reading": 70.9279279279,
          "writing": 69.8963963964
         },
         {
          "math": 69.3898305085,
          "parent_education_level": "bachelor's degree",
          "reading": 73,
          "writing": 73.3813559322
         },
         {
          "math": 62.137755102,
          "parent_education_level": "high school",
          "reading": 64.7040816327,
          "writing": 62.4489795918
         },
         {
          "math": 69.7457627119,
          "parent_education_level": "master's degree",
          "reading": 75.3728813559,
          "writing": 75.6779661017
         },
         {
          "math": 67.1283185841,
          "parent_education_level": "some college",
          "reading": 69.4601769912,
          "writing": 68.8407079646
         },
         {
          "math": 63.4972067039,
          "parent_education_level": "some high school",
          "reading": 66.938547486,
          "writing": 64.8882681564
         }
        ],
        "schema": {
         "fields": [
          {
           "constraints": {
            "enum": [
             "associate's degree",
             "bachelor's degree",
             "high school",
             "master's degree",
             "some college",
             "some high school"
            ]
           },
           "name": "parent_education_level",
           "ordered": false,
           "type": "any"
          },
          {
           "name": "math",
           "type": "number"
          },
          {
           "name": "reading",
           "type": "number"
          },
          {
           "name": "writing",
           "type": "number"
          }
         ],
         "pandas_version": "0.20.0",
         "primaryKey": [
          "parent_education_level"
         ]
        }
       },
       "total_rows": 6
      },
      "text/html": [
       "<div>\n",
       "<style scoped>\n",
       "    .dataframe tbody tr th:only-of-type {\n",
       "        vertical-align: middle;\n",
       "    }\n",
       "\n",
       "    .dataframe tbody tr th {\n",
       "        vertical-align: top;\n",
       "    }\n",
       "\n",
       "    .dataframe thead th {\n",
       "        text-align: right;\n",
       "    }\n",
       "</style>\n",
       "<table border=\"1\" class=\"dataframe\">\n",
       "  <thead>\n",
       "    <tr style=\"text-align: right;\">\n",
       "      <th></th>\n",
       "      <th>math</th>\n",
       "      <th>reading</th>\n",
       "      <th>writing</th>\n",
       "    </tr>\n",
       "    <tr>\n",
       "      <th>parent_education_level</th>\n",
       "      <th></th>\n",
       "      <th></th>\n",
       "      <th></th>\n",
       "    </tr>\n",
       "  </thead>\n",
       "  <tbody>\n",
       "    <tr>\n",
       "      <th>associate's degree</th>\n",
       "      <td>67.882883</td>\n",
       "      <td>70.927928</td>\n",
       "      <td>69.896396</td>\n",
       "    </tr>\n",
       "    <tr>\n",
       "      <th>bachelor's degree</th>\n",
       "      <td>69.389831</td>\n",
       "      <td>73.000000</td>\n",
       "      <td>73.381356</td>\n",
       "    </tr>\n",
       "    <tr>\n",
       "      <th>high school</th>\n",
       "      <td>62.137755</td>\n",
       "      <td>64.704082</td>\n",
       "      <td>62.448980</td>\n",
       "    </tr>\n",
       "    <tr>\n",
       "      <th>master's degree</th>\n",
       "      <td>69.745763</td>\n",
       "      <td>75.372881</td>\n",
       "      <td>75.677966</td>\n",
       "    </tr>\n",
       "    <tr>\n",
       "      <th>some college</th>\n",
       "      <td>67.128319</td>\n",
       "      <td>69.460177</td>\n",
       "      <td>68.840708</td>\n",
       "    </tr>\n",
       "    <tr>\n",
       "      <th>some high school</th>\n",
       "      <td>63.497207</td>\n",
       "      <td>66.938547</td>\n",
       "      <td>64.888268</td>\n",
       "    </tr>\n",
       "  </tbody>\n",
       "</table>\n",
       "</div>"
      ],
      "text/plain": [
       "                             math    reading    writing\n",
       "parent_education_level                                 \n",
       "associate's degree      67.882883  70.927928  69.896396\n",
       "bachelor's degree       69.389831  73.000000  73.381356\n",
       "high school             62.137755  64.704082  62.448980\n",
       "master's degree         69.745763  75.372881  75.677966\n",
       "some college            67.128319  69.460177  68.840708\n",
       "some high school        63.497207  66.938547  64.888268"
      ]
     },
     "execution_count": 14,
     "metadata": {},
     "output_type": "execute_result"
    }
   ],
   "source": [
    "parent = results.groupby('parent_education_level').mean()\n",
    "parent"
   ]
  },
  {
   "cell_type": "code",
   "execution_count": 22,
   "id": "b8c21b28-fbf7-4260-bca6-7db11baeb539",
   "metadata": {},
   "outputs": [
    {
     "data": {
      "application/com.datacamp.data-table.v1+json": {
       "is_truncated": false,
       "table": {
        "data": [
         {
          "math": 69.6955307263,
          "reading": 73.8938547486,
          "test_prep_course": "completed",
          "writing": 74.4189944134
         },
         {
          "math": 64.0778816199,
          "reading": 66.5342679128,
          "test_prep_course": "none",
          "writing": 64.5046728972
         }
        ],
        "schema": {
         "fields": [
          {
           "constraints": {
            "enum": [
             "completed",
             "none"
            ]
           },
           "name": "test_prep_course",
           "ordered": false,
           "type": "any"
          },
          {
           "name": "math",
           "type": "number"
          },
          {
           "name": "reading",
           "type": "number"
          },
          {
           "name": "writing",
           "type": "number"
          }
         ],
         "pandas_version": "0.20.0",
         "primaryKey": [
          "test_prep_course"
         ]
        }
       },
       "total_rows": 2
      },
      "text/html": [
       "<div>\n",
       "<style scoped>\n",
       "    .dataframe tbody tr th:only-of-type {\n",
       "        vertical-align: middle;\n",
       "    }\n",
       "\n",
       "    .dataframe tbody tr th {\n",
       "        vertical-align: top;\n",
       "    }\n",
       "\n",
       "    .dataframe thead th {\n",
       "        text-align: right;\n",
       "    }\n",
       "</style>\n",
       "<table border=\"1\" class=\"dataframe\">\n",
       "  <thead>\n",
       "    <tr style=\"text-align: right;\">\n",
       "      <th></th>\n",
       "      <th>math</th>\n",
       "      <th>reading</th>\n",
       "      <th>writing</th>\n",
       "    </tr>\n",
       "    <tr>\n",
       "      <th>test_prep_course</th>\n",
       "      <th></th>\n",
       "      <th></th>\n",
       "      <th></th>\n",
       "    </tr>\n",
       "  </thead>\n",
       "  <tbody>\n",
       "    <tr>\n",
       "      <th>completed</th>\n",
       "      <td>69.695531</td>\n",
       "      <td>73.893855</td>\n",
       "      <td>74.418994</td>\n",
       "    </tr>\n",
       "    <tr>\n",
       "      <th>none</th>\n",
       "      <td>64.077882</td>\n",
       "      <td>66.534268</td>\n",
       "      <td>64.504673</td>\n",
       "    </tr>\n",
       "  </tbody>\n",
       "</table>\n",
       "</div>"
      ],
      "text/plain": [
       "                       math    reading    writing\n",
       "test_prep_course                                 \n",
       "completed         69.695531  73.893855  74.418994\n",
       "none              64.077882  66.534268  64.504673"
      ]
     },
     "execution_count": 22,
     "metadata": {},
     "output_type": "execute_result"
    }
   ],
   "source": [
    "read = results.groupby('test_prep_course').mean()\n",
    "read"
   ]
  },
  {
   "cell_type": "code",
   "execution_count": 25,
   "id": "cb63fc7c-bbbc-449d-9457-50d5b71c3602",
   "metadata": {},
   "outputs": [
    {
     "data": {
      "text/plain": [
       "<AxesSubplot:xlabel='reading', ylabel='Count'>"
      ]
     },
     "execution_count": 25,
     "metadata": {},
     "output_type": "execute_result"
    },
    {
     "data": {
      "image/png": "[encoded data removed]",
      "text/plain": [
       "<Figure size 432x288 with 1 Axes>"
      ]
     },
     "metadata": {
      "needs_background": "light"
     },
     "output_type": "display_data"
    }
   ],
   "source": [
    "sns.histplot(x='reading', data=read,bins=10)"
   ]
  },
  {
   "cell_type": "code",
   "execution_count": 28,
   "id": "59e33582-1185-43f7-9842-67559f5390b9",
   "metadata": {},
   "outputs": [
    {
     "data": {
      "text/plain": [
       "<AxesSubplot:ylabel='Count'>"
      ]
     },
     "execution_count": 28,
     "metadata": {},
     "output_type": "execute_result"
    },
    {
     "data": {
      "image/png": "[encoded data removed]",
      "text/plain": [
       "<Figure size 432x288 with 1 Axes>"
      ]
     },
     "metadata": {
      "needs_background": "light"
     },
     "output_type": "display_data"
    }
   ],
   "source": [
    "sns.histplot(data=parent, bins=30)"
   ]
  },
  {
   "cell_type": "code",
   "execution_count": 32,
   "id": "328aa730-5823-4064-985e-a1f128bfb607",
   "metadata": {},
   "outputs": [
    {
     "data": {
      "text/plain": [
       "parent_education_level\n",
       "associate's degree    67.882883\n",
       "bachelor's degree     69.389831\n",
       "high school           62.137755\n",
       "master's degree       69.745763\n",
       "some college          67.128319\n",
       "some high school      63.497207\n",
       "Name: math, dtype: float64"
      ]
     },
     "execution_count": 32,
     "metadata": {},
     "output_type": "execute_result"
    }
   ],
   "source": [
    "parent['math']"
   ]
  },
  {
   "cell_type": "code",
   "execution_count": 61,
   "id": "c11ecec9-a0b3-4fae-85c9-db67b4e50fc6",
   "metadata": {},
   "outputs": [
    {
     "name": "stdout",
     "output_type": "stream",
     "text": [
      "\t\t MATH\n"
     ]
    },
    {
     "data": {
      "image/png": "[encoded data removed]",
      "text/plain": [
       "<Figure size 432x288 with 1 Axes>"
      ]
     },
     "metadata": {},
     "output_type": "display_data"
    },
    {
     "name": "stdout",
     "output_type": "stream",
     "text": [
      "\t\t READING\n"
     ]
    },
    {
     "data": {
      "image/png": "[encoded data removed]",
      "text/plain": [
       "<Figure size 432x288 with 1 Axes>"
      ]
     },
     "metadata": {},
     "output_type": "display_data"
    },
    {
     "name": "stdout",
     "output_type": "stream",
     "text": [
      "\t\t WRITING\n"
     ]
    },
    {
     "data": {
      "image/png": "[encoded data removed]",
      "text/plain": [
       "<Figure size 432x288 with 1 Axes>"
      ]
     },
     "metadata": {},
     "output_type": "display_data"
    }
   ],
   "source": [
    "\n",
    "\n",
    "#define Seaborn color palette to use\n",
    "colors = sns.color_palette('bright')[0:6]\n",
    "cols = parent.columns\n",
    "cols2 = [i for i in results['parent_education_level'].unique()]\n",
    "\n",
    "#create pie chart\n",
    "for pies in cols:\n",
    "#     print(parent[pies])\n",
    "    # break\n",
    "    print(f'\\t\\t {pies.upper()}')\n",
    "    plt.pie(parent[pies], labels=cols2 , colors = colors, autopct='%.0f%%')\n",
    "    plt.show()"
   ]
  },
  {
   "cell_type": "code",
   "execution_count": 56,
   "id": "9b9aaeb1-ae8e-4396-a5ad-ccb86d4b46d2",
   "metadata": {},
   "outputs": [
    {
     "data": {
      "text/plain": [
       "[\"bachelor's degree\",\n",
       " 'some college',\n",
       " \"master's degree\",\n",
       " \"associate's degree\",\n",
       " 'high school',\n",
       " 'some high school']"
      ]
     },
     "execution_count": 56,
     "metadata": {},
     "output_type": "execute_result"
    }
   ],
   "source": [
    "cols2"
   ]
  },
  {
   "cell_type": "code",
   "execution_count": null,
   "id": "64254a0b-8a4c-4ca8-b494-dcd400455e92",
   "metadata": {},
   "outputs": [],
   "source": [
    "import seaborn as sns\n",
    "\n",
    "sns.catplot(x='lunch', y='writing', col='gender', data=df, kind='bar');"
   ]
  }
 ],
 "metadata": {
  "kernelspec": {
   "display_name": "Python 3 (ipykernel)",
   "language": "python",
   "name": "python3"
  },
  "language_info": {
   "codemirror_mode": {
    "name": "ipython",
    "version": 3
   },
   "file_extension": ".py",
   "mimetype": "text/x-python",
   "name": "python",
   "nbconvert_exporter": "python",
   "pygments_lexer": "ipython3",
   "version": "3.8.10"
  }
 },
 "nbformat": 4,
 "nbformat_minor": 5
}
